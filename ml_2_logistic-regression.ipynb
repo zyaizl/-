{
 "cells": [
  {
   "cell_type": "code",
   "execution_count": 3,
   "metadata": {
    "scrolled": true
   },
   "outputs": [
    {
     "name": "stdout",
     "output_type": "stream",
     "text": [
      "   admit       gpa         gre\n",
      "0      0  3.177277  594.102992\n",
      "1      0  3.412655  631.528607\n",
      "2      0  2.728097  553.714399\n",
      "3      0  3.093559  551.089985\n",
      "4      0  3.141923  537.184894\n"
     ]
    },
    {
     "data": {
      "image/png": "[encoded data removed]",
      "text/plain": [
       "<Figure size 432x288 with 1 Axes>"
      ]
     },
     "metadata": {
      "needs_background": "light"
     },
     "output_type": "display_data"
    }
   ],
   "source": [
    "import pandas as pd\n",
    "import matplotlib.pyplot as plt\n",
    "admissions = pd.read_csv(\"admissions.csv\")\n",
    "print (admissions.head())\n",
    "plt.scatter(admissions['gpa'], admissions['admit'])\n",
    "plt.show()"
   ]
  },
  {
   "cell_type": "code",
   "execution_count": 9,
   "metadata": {},
   "outputs": [
    {
     "data": {
      "text/html": [
       "<div>\n",
       "<style scoped>\n",
       "    .dataframe tbody tr th:only-of-type {\n",
       "        vertical-align: middle;\n",
       "    }\n",
       "\n",
       "    .dataframe tbody tr th {\n",
       "        vertical-align: top;\n",
       "    }\n",
       "\n",
       "    .dataframe thead th {\n",
       "        text-align: right;\n",
       "    }\n",
       "</style>\n",
       "<table border=\"1\" class=\"dataframe\">\n",
       "  <thead>\n",
       "    <tr style=\"text-align: right;\">\n",
       "      <th></th>\n",
       "      <th>admit</th>\n",
       "      <th>gpa</th>\n",
       "      <th>gre</th>\n",
       "    </tr>\n",
       "  </thead>\n",
       "  <tbody>\n",
       "    <tr>\n",
       "      <th>0</th>\n",
       "      <td>0</td>\n",
       "      <td>3.177277</td>\n",
       "      <td>594.102992</td>\n",
       "    </tr>\n",
       "    <tr>\n",
       "      <th>1</th>\n",
       "      <td>0</td>\n",
       "      <td>3.412655</td>\n",
       "      <td>631.528607</td>\n",
       "    </tr>\n",
       "    <tr>\n",
       "      <th>2</th>\n",
       "      <td>0</td>\n",
       "      <td>2.728097</td>\n",
       "      <td>553.714399</td>\n",
       "    </tr>\n",
       "    <tr>\n",
       "      <th>3</th>\n",
       "      <td>0</td>\n",
       "      <td>3.093559</td>\n",
       "      <td>551.089985</td>\n",
       "    </tr>\n",
       "    <tr>\n",
       "      <th>4</th>\n",
       "      <td>0</td>\n",
       "      <td>3.141923</td>\n",
       "      <td>537.184894</td>\n",
       "    </tr>\n",
       "    <tr>\n",
       "      <th>...</th>\n",
       "      <td>...</td>\n",
       "      <td>...</td>\n",
       "      <td>...</td>\n",
       "    </tr>\n",
       "    <tr>\n",
       "      <th>639</th>\n",
       "      <td>1</td>\n",
       "      <td>3.381359</td>\n",
       "      <td>720.718438</td>\n",
       "    </tr>\n",
       "    <tr>\n",
       "      <th>640</th>\n",
       "      <td>1</td>\n",
       "      <td>3.083956</td>\n",
       "      <td>556.918021</td>\n",
       "    </tr>\n",
       "    <tr>\n",
       "      <th>641</th>\n",
       "      <td>1</td>\n",
       "      <td>3.114419</td>\n",
       "      <td>734.297679</td>\n",
       "    </tr>\n",
       "    <tr>\n",
       "      <th>642</th>\n",
       "      <td>1</td>\n",
       "      <td>3.549012</td>\n",
       "      <td>604.697503</td>\n",
       "    </tr>\n",
       "    <tr>\n",
       "      <th>643</th>\n",
       "      <td>1</td>\n",
       "      <td>3.532753</td>\n",
       "      <td>588.986175</td>\n",
       "    </tr>\n",
       "  </tbody>\n",
       "</table>\n",
       "<p>644 rows × 3 columns</p>\n",
       "</div>"
      ],
      "text/plain": [
       "     admit       gpa         gre\n",
       "0        0  3.177277  594.102992\n",
       "1        0  3.412655  631.528607\n",
       "2        0  2.728097  553.714399\n",
       "3        0  3.093559  551.089985\n",
       "4        0  3.141923  537.184894\n",
       "..     ...       ...         ...\n",
       "639      1  3.381359  720.718438\n",
       "640      1  3.083956  556.918021\n",
       "641      1  3.114419  734.297679\n",
       "642      1  3.549012  604.697503\n",
       "643      1  3.532753  588.986175\n",
       "\n",
       "[644 rows x 3 columns]"
      ]
     },
     "execution_count": 9,
     "metadata": {},
     "output_type": "execute_result"
    }
   ],
   "source": [
    "admissions"
   ]
  },
  {
   "cell_type": "code",
   "execution_count": 10,
   "metadata": {},
   "outputs": [
    {
     "data": {
      "image/png": "[encoded data removed]",
      "text/plain": [
       "<Figure size 432x288 with 1 Axes>"
      ]
     },
     "metadata": {
      "needs_background": "light"
     },
     "output_type": "display_data"
    }
   ],
   "source": [
    "import numpy as np\n",
    "\n",
    "# Logit Function\n",
    "def logit(x):\n",
    "    # np.exp(x) raises x to the exponential power, ie e^x. e ~= 2.71828\n",
    "    return np.exp(x)  / (1 + np.exp(x)) \n",
    "    \n",
    "# Generate 50 real values, evenly spaced, between -6 and 6.\n",
    "x = np.linspace(-6,6,50, dtype=float)\n",
    "\n",
    "# Transform each number in t using the logit function.\n",
    "y = logit(x)\n",
    "\n",
    "# Plot the resulting data.\n",
    "plt.plot(x, y)\n",
    "plt.ylabel(\"Probability\")\n",
    "plt.show()"
   ]
  },
  {
   "cell_type": "code",
   "execution_count": 27,
   "metadata": {},
   "outputs": [
    {
     "data": {
      "text/plain": [
       "LogisticRegression()"
      ]
     },
     "execution_count": 27,
     "metadata": {},
     "output_type": "execute_result"
    }
   ],
   "source": [
    "from sklearn.linear_model import LinearRegression\n",
    "linear_model = LinearRegression()\n",
    "linear_model.fit(admissions[[\"gpa\"]], admissions[[\"admit\"]]) # \n",
    "from sklearn.linear_model import LogisticRegression\n",
    "logistic_model = LogisticRegression()\n",
    "logistic_model.fit(admissions[[\"gpa\"]], admissions[\"admit\"])"
   ]
  },
  {
   "cell_type": "code",
   "execution_count": 22,
   "metadata": {},
   "outputs": [
    {
     "name": "stdout",
     "output_type": "stream",
     "text": [
      "<class 'pandas.core.frame.DataFrame'>\n",
      "RangeIndex: 644 entries, 0 to 643\n",
      "Data columns (total 1 columns):\n",
      " #   Column  Non-Null Count  Dtype  \n",
      "---  ------  --------------  -----  \n",
      " 0   gpa     644 non-null    float64\n",
      "dtypes: float64(1)\n",
      "memory usage: 5.2 KB\n"
     ]
    }
   ],
   "source": [
    "admissions[[\"gpa\"]].info()"
   ]
  },
  {
   "cell_type": "code",
   "execution_count": 23,
   "metadata": {},
   "outputs": [
    {
     "ename": "AttributeError",
     "evalue": "'Series' object has no attribute 'info'",
     "output_type": "error",
     "traceback": [
      "\u001b[1;31m---------------------------------------------------------------------------\u001b[0m",
      "\u001b[1;31mAttributeError\u001b[0m                            Traceback (most recent call last)",
      "\u001b[1;32m<ipython-input-23-691cb78096c5>\u001b[0m in \u001b[0;36m<module>\u001b[1;34m\u001b[0m\n\u001b[1;32m----> 1\u001b[1;33m \u001b[0madmissions\u001b[0m\u001b[1;33m[\u001b[0m\u001b[1;34m\"admit\"\u001b[0m\u001b[1;33m]\u001b[0m\u001b[1;33m.\u001b[0m\u001b[0minfo\u001b[0m\u001b[1;33m(\u001b[0m\u001b[1;33m)\u001b[0m\u001b[1;33m\u001b[0m\u001b[1;33m\u001b[0m\u001b[0m\n\u001b[0m",
      "\u001b[1;32mC:\\ProgramData\\Anaconda3\\lib\\site-packages\\pandas\\core\\generic.py\u001b[0m in \u001b[0;36m__getattr__\u001b[1;34m(self, name)\u001b[0m\n\u001b[0;32m   5272\u001b[0m             \u001b[1;32mif\u001b[0m \u001b[0mself\u001b[0m\u001b[1;33m.\u001b[0m\u001b[0m_info_axis\u001b[0m\u001b[1;33m.\u001b[0m\u001b[0m_can_hold_identifiers_and_holds_name\u001b[0m\u001b[1;33m(\u001b[0m\u001b[0mname\u001b[0m\u001b[1;33m)\u001b[0m\u001b[1;33m:\u001b[0m\u001b[1;33m\u001b[0m\u001b[1;33m\u001b[0m\u001b[0m\n\u001b[0;32m   5273\u001b[0m                 \u001b[1;32mreturn\u001b[0m \u001b[0mself\u001b[0m\u001b[1;33m[\u001b[0m\u001b[0mname\u001b[0m\u001b[1;33m]\u001b[0m\u001b[1;33m\u001b[0m\u001b[1;33m\u001b[0m\u001b[0m\n\u001b[1;32m-> 5274\u001b[1;33m             \u001b[1;32mreturn\u001b[0m \u001b[0mobject\u001b[0m\u001b[1;33m.\u001b[0m\u001b[0m__getattribute__\u001b[0m\u001b[1;33m(\u001b[0m\u001b[0mself\u001b[0m\u001b[1;33m,\u001b[0m \u001b[0mname\u001b[0m\u001b[1;33m)\u001b[0m\u001b[1;33m\u001b[0m\u001b[1;33m\u001b[0m\u001b[0m\n\u001b[0m\u001b[0;32m   5275\u001b[0m \u001b[1;33m\u001b[0m\u001b[0m\n\u001b[0;32m   5276\u001b[0m     \u001b[1;32mdef\u001b[0m \u001b[0m__setattr__\u001b[0m\u001b[1;33m(\u001b[0m\u001b[0mself\u001b[0m\u001b[1;33m,\u001b[0m \u001b[0mname\u001b[0m\u001b[1;33m:\u001b[0m \u001b[0mstr\u001b[0m\u001b[1;33m,\u001b[0m \u001b[0mvalue\u001b[0m\u001b[1;33m)\u001b[0m \u001b[1;33m->\u001b[0m \u001b[1;32mNone\u001b[0m\u001b[1;33m:\u001b[0m\u001b[1;33m\u001b[0m\u001b[1;33m\u001b[0m\u001b[0m\n",
      "\u001b[1;31mAttributeError\u001b[0m: 'Series' object has no attribute 'info'"
     ]
    }
   ],
   "source": [
    "admissions[\"admit\"].info()"
   ]
  },
  {
   "cell_type": "code",
   "execution_count": 18,
   "metadata": {
    "scrolled": true
   },
   "outputs": [
    {
     "data": {
      "image/png": "[encoded data removed]",
      "text/plain": [
       "<Figure size 432x288 with 1 Axes>"
      ]
     },
     "metadata": {
      "needs_background": "light"
     },
     "output_type": "display_data"
    }
   ],
   "source": [
    "logistic_model = LogisticRegression()\n",
    "logistic_model.fit(admissions[[\"gpa\"]], admissions[\"admit\"])\n",
    "pred_probs = logistic_model.predict_proba(admissions[[\"gpa\"]])\n",
    "plt.scatter(admissions[\"gpa\"], pred_probs[:,1])\n",
    "plt.scatter(admissions[\"gpa\"], pred_probs[:,0])\n",
    "plt.show()"
   ]
  },
  {
   "cell_type": "code",
   "execution_count": 17,
   "metadata": {},
   "outputs": [
    {
     "data": {
      "text/plain": [
       "array([[0.66343633, 0.33656367],\n",
       "       [0.53967962, 0.46032038],\n",
       "       [0.84160275, 0.15839725],\n",
       "       ...,\n",
       "       [0.69368514, 0.30631486],\n",
       "       [0.46457162, 0.53542838],\n",
       "       [0.47350995, 0.52649005]])"
      ]
     },
     "execution_count": 17,
     "metadata": {},
     "output_type": "execute_result"
    }
   ],
   "source": [
    "pred_probs"
   ]
  },
  {
   "cell_type": "code",
   "execution_count": 29,
   "metadata": {},
   "outputs": [
    {
     "name": "stdout",
     "output_type": "stream",
     "text": [
      "[0.66343633 0.53967962 0.84160275 0.70338133 0.68063462 0.43719912\n",
      " 0.63238349 0.53555227 0.45718328 0.28091701 0.61927063 0.59597008\n",
      " 0.73656909 0.67585994 0.60153364 0.86268132 0.69312922 0.69797265\n",
      " 0.64592119 0.74009498 0.48005351 0.78146198 0.73824772 0.54641035\n",
      " 0.80291573 0.52282499 0.630528   0.68997425 0.8705746  0.82484286\n",
      " 0.84822436 0.76210003 0.54473761 0.57153842 0.82167581 0.55027341\n",
      " 0.47405586 0.40443188 0.59401988 0.76838655 0.65317037 0.70922668\n",
      " 0.59125393 0.45789819 0.72734454 0.70321157 0.70568788 0.8089847\n",
      " 0.6494705  0.85101871 0.66257348 0.63645024 0.83876888 0.7730515\n",
      " 0.50245338 0.3998168  0.81111747 0.52789004 0.72864635 0.7637731\n",
      " 0.5074588  0.72306056 0.85032645 0.5159374  0.36167728 0.50162134\n",
      " 0.7328602  0.81537508 0.46820387 0.76036044 0.46923344 0.38786218\n",
      " 0.69267594 0.83326195 0.35773353 0.56067824 0.71241858 0.36411984\n",
      " 0.63404932 0.81780112 0.61204777 0.80942607 0.63656631 0.51967238\n",
      " 0.85013032 0.58083238 0.8116863  0.71862803 0.6187635  0.72887241\n",
      " 0.49231792 0.48088901 0.82830702 0.59513982 0.59758145 0.70260798\n",
      " 0.66757635 0.42055709 0.58456282 0.77798553 0.63464176 0.94717594\n",
      " 0.54349549 0.38787485 0.69935501 0.82107437 0.51049065 0.63609396\n",
      " 0.5770841  0.60802835 0.77932412 0.73972182 0.5771735  0.60192731\n",
      " 0.74929973 0.58052649 0.64191633 0.64223264 0.61307809 0.60930308\n",
      " 0.8235802  0.81953328 0.70730249 0.69148419 0.55440525 0.68974193\n",
      " 0.52965632 0.75495083 0.50973062 0.52222058 0.75772165 0.78239857\n",
      " 0.73692255 0.50573319 0.78342965 0.73639276 0.68327196 0.60887226\n",
      " 0.33825151 0.68923681 0.62645008 0.66676105 0.4929956  0.49950791\n",
      " 0.85307472 0.81767466 0.52185947 0.70819213 0.74452588 0.79412998\n",
      " 0.71930064 0.72213754 0.8072531  0.73399477 0.79623609 0.72697927\n",
      " 0.49874143 0.6788922  0.71469048 0.4948988  0.5572324  0.64297616\n",
      " 0.49516872 0.51429705 0.5253631  0.58950812 0.38913973 0.77533347\n",
      " 0.78027804 0.59530387 0.70466794 0.58388554 0.64849294 0.77202249\n",
      " 0.6906941  0.61839452 0.58043492 0.7103821  0.71237064 0.72525356\n",
      " 0.74424616 0.5827449  0.68909095 0.57888372 0.57605858 0.70732247\n",
      " 0.41997421 0.77323919 0.63714002 0.50774245 0.74103683 0.43451397\n",
      " 0.64058269 0.87203384 0.67366276 0.63745711 0.71503466 0.42019822\n",
      " 0.71481611 0.75730553 0.72056171 0.42615364 0.61681743 0.53565824\n",
      " 0.6121294  0.77525979 0.85248906 0.75539368 0.3659481  0.86048988\n",
      " 0.75900266 0.80069213 0.75540081 0.65080979 0.6278442  0.62198261\n",
      " 0.86956406 0.636657   0.7235418  0.62539137 0.68411122 0.38343868\n",
      " 0.59519887 0.56600869 0.38117181 0.80425418 0.34884007 0.81799209\n",
      " 0.83129403 0.53606969 0.69117325 0.69009285 0.76824042 0.62348662\n",
      " 0.7898195  0.76745345 0.59552249 0.63321409 0.39794715 0.61156404\n",
      " 0.68429443 0.64981143 0.8576232  0.53695846 0.51487884 0.72395059\n",
      " 0.2876397  0.67655317 0.74739048 0.50974423 0.49536829 0.67468828\n",
      " 0.70584466 0.62762055 0.69658514 0.69026186 0.8568699  0.65512443\n",
      " 0.73573412 0.71363259 0.53892249 0.61806596 0.6357557  0.69868677\n",
      " 0.67661703 0.52913793 0.82498103 0.58856226 0.66993394 0.799169\n",
      " 0.72710598 0.68075667 0.49399628 0.50600472 0.63852903 0.61726219\n",
      " 0.64321428 0.65150822 0.46934728 0.70691549 0.47244356 0.72133233\n",
      " 0.72122041 0.77216708 0.68939303 0.69559103 0.84626907 0.66236558\n",
      " 0.78719452 0.91328485 0.74960977 0.66028757 0.60363361 0.77261482\n",
      " 0.66853957 0.81302769 0.49860031 0.68989178 0.59195483 0.85187567\n",
      " 0.530906   0.75451479 0.67394636 0.60368066 0.71140283 0.56526205\n",
      " 0.55348835 0.82787031 0.66643651 0.59573278 0.37386185 0.78055795\n",
      " 0.63021708 0.90099375 0.84317406 0.4852655  0.74624493 0.62676206\n",
      " 0.67226386 0.75627451 0.73950928 0.61901412 0.57976184 0.63455584\n",
      " 0.69086324 0.46962331 0.65747473 0.81288048 0.71308251 0.66835241\n",
      " 0.75605032 0.74881523 0.60707587 0.54513425 0.76468098 0.61297341\n",
      " 0.66655672 0.72527442 0.74627058 0.59166766 0.62151768 0.42987765\n",
      " 0.44409418 0.61424574 0.7308618  0.53610012 0.71727583 0.6932575\n",
      " 0.59196751 0.65095736 0.76865207 0.47469572 0.6877369  0.68235788\n",
      " 0.81292149 0.83518894 0.53209806 0.69697573 0.84449141 0.70432848\n",
      " 0.66002183 0.72620806 0.80308164 0.70393729 0.57446056 0.74422188\n",
      " 0.68387202 0.60969829 0.69846782 0.60465518 0.62363812 0.83597755\n",
      " 0.89615842 0.73063965 0.56687668 0.58824442 0.78063828 0.70488941\n",
      " 0.74034459 0.64577491 0.78619111 0.6509241  0.62408444 0.51204534\n",
      " 0.68092915 0.77554287 0.79755865 0.58889411 0.63121084 0.75835731\n",
      " 0.56349552 0.61206223 0.61030726 0.89990083 0.69219503 0.46938454\n",
      " 0.43830219 0.60316436 0.58463343 0.78371796 0.53873613 0.40832029\n",
      " 0.7271909  0.78344468 0.59647091 0.67179733 0.72196504 0.54684076\n",
      " 0.66236699 0.25588465 0.73522957 0.4462258  0.29428022 0.7073127\n",
      " 0.7813989  0.48487861 0.44094057 0.35376967 0.4027821  0.65976835\n",
      " 0.61394756 0.54315942 0.61864521 0.56822374 0.53330199 0.6906269\n",
      " 0.65471667 0.48615014 0.46266232 0.52663979 0.57251577 0.4607043\n",
      " 0.71134644 0.59396307 0.36144143 0.70646659 0.58336102 0.72264296\n",
      " 0.74440607 0.56233202 0.67317263 0.7191609  0.66142075 0.41399757\n",
      " 0.43578125 0.53932152 0.35905796 0.52013282 0.50429675 0.67410615\n",
      " 0.50427172 0.41705684 0.45438396 0.44350369 0.40669703 0.47312381\n",
      " 0.84558005 0.43262996 0.42377612 0.60675517 0.79941649 0.33037796\n",
      " 0.42291864 0.7166387  0.66050916 0.4194946  0.63157413 0.57478791\n",
      " 0.41192741 0.49979878 0.52140993 0.55269955 0.72323225 0.51240705\n",
      " 0.64894594 0.6563822  0.80961639 0.76563685 0.4335427  0.47635276\n",
      " 0.26952609 0.75481715 0.43176867 0.74668377 0.6096022  0.59257645\n",
      " 0.43968124 0.62335802 0.50766115 0.66211985 0.77092495 0.77081929\n",
      " 0.71591691 0.49083309 0.71687426 0.35093193 0.58413383 0.44856371\n",
      " 0.5584549  0.50717126 0.75889523 0.34230855 0.328976   0.67827918\n",
      " 0.76691729 0.58024337 0.80032609 0.38593164 0.59669628 0.42498243\n",
      " 0.53741919 0.51247018 0.59207272 0.45834104 0.70938562 0.4336889\n",
      " 0.24277984 0.75136093 0.82868934 0.57164109 0.69278286 0.51380103\n",
      " 0.56080996 0.58452952 0.55652062 0.79196536 0.59279487 0.61642506\n",
      " 0.44914444 0.3207167  0.85587666 0.56426736 0.70228862 0.70450741\n",
      " 0.48837795 0.65568284 0.55385951 0.58678797 0.43755429 0.57838775\n",
      " 0.68721608 0.70838487 0.76491485 0.4583158  0.67040368 0.61216302\n",
      " 0.4468367  0.24277984 0.60156365 0.60164506 0.89656389 0.7146322\n",
      " 0.72285345 0.24277984 0.45359344 0.70701961 0.77864484 0.36994098\n",
      " 0.38796157 0.71507195 0.66542086 0.68114262 0.60065155 0.75187962\n",
      " 0.53806768 0.70914029 0.44928284 0.59215292 0.74290725 0.4414601\n",
      " 0.46440108 0.64951905 0.77719076 0.64558404 0.39754746 0.51011947\n",
      " 0.46944103 0.47286391 0.61161813 0.41688703 0.55795357 0.24305221\n",
      " 0.50120571 0.65796717 0.4040736  0.43626769 0.46948175 0.64642067\n",
      " 0.32429246 0.378194   0.36092951 0.79787166 0.39690045 0.31884042\n",
      " 0.73831131 0.41717386 0.45540148 0.77206973 0.65053149 0.64785931\n",
      " 0.42499588 0.52942312 0.71626727 0.7109168  0.73087641 0.82093837\n",
      " 0.57623214 0.62542335 0.34538392 0.41130983 0.59488045 0.45234939\n",
      " 0.48538155 0.51607079 0.30119573 0.59919237 0.7252253  0.27561352\n",
      " 0.72858032 0.59649274 0.5397826  0.36358068 0.59352544 0.49587645\n",
      " 0.54091883 0.47369419 0.49876742 0.77310805 0.35055426 0.76720435\n",
      " 0.44566378 0.45443425 0.76546985 0.70575173 0.33991406 0.76598447\n",
      " 0.29998377 0.52459449 0.62292619 0.55678878 0.70778492 0.69368514\n",
      " 0.46457162 0.47350995]\n"
     ]
    }
   ],
   "source": [
    "print(pred_probs[:,0])"
   ]
  },
  {
   "cell_type": "code",
   "execution_count": 19,
   "metadata": {},
   "outputs": [
    {
     "data": {
      "image/png": "[encoded data removed]",
      "text/plain": [
       "<Figure size 432x288 with 1 Axes>"
      ]
     },
     "metadata": {
      "needs_background": "light"
     },
     "output_type": "display_data"
    }
   ],
   "source": [
    "logistic_model = LogisticRegression()\n",
    "logistic_model.fit(admissions[[\"gpa\"]], admissions[\"admit\"])\n",
    "fitted_labels = logistic_model.predict(admissions[[\"gpa\"]])\n",
    "plt.scatter(admissions[\"gpa\"], fitted_labels)\n",
    "plt.show()"
   ]
  },
  {
   "cell_type": "code",
   "execution_count": 31,
   "metadata": {},
   "outputs": [
    {
     "data": {
      "text/plain": [
       "array([0, 0, 0, 0, 0, 1, 0, 0, 1, 1, 0, 0, 0, 0, 0, 0, 0, 0, 0, 0, 1, 0,\n",
       "       0, 0, 0, 0, 0, 0, 0, 0, 0, 0, 0, 0, 0, 0, 1, 1, 0, 0, 0, 0, 0, 1,\n",
       "       0, 0, 0, 0, 0, 0, 0, 0, 0, 0, 0, 1, 0, 0, 0, 0, 0, 0, 0, 0, 1, 0,\n",
       "       0, 0, 1, 0, 1, 1, 0, 0, 1, 0, 0, 1, 0, 0, 0, 0, 0, 0, 0, 0, 0, 0,\n",
       "       0, 0, 1, 1, 0, 0, 0, 0, 0, 1, 0, 0, 0, 0, 0, 1, 0, 0, 0, 0, 0, 0,\n",
       "       0, 0, 0, 0, 0, 0, 0, 0, 0, 0, 0, 0, 0, 0, 0, 0, 0, 0, 0, 0, 0, 0,\n",
       "       0, 0, 0, 0, 0, 0, 1, 0, 0, 0, 1, 1, 0, 0, 0, 0, 0, 0, 0, 0, 0, 0,\n",
       "       0, 0, 1, 0, 0, 1, 0, 0, 1, 0, 0, 0, 1, 0, 0, 0, 0, 0, 0, 0, 0, 0,\n",
       "       0, 0, 0, 0, 0, 0, 0, 0, 0, 0, 1, 0, 0, 0, 0, 1, 0, 0, 0, 0, 0, 1,\n",
       "       0, 0, 0, 1, 0, 0, 0, 0, 0, 0, 1, 0, 0, 0, 0, 0, 0, 0, 0, 0, 0, 0,\n",
       "       0, 1, 0, 0, 1, 0, 1, 0, 0, 0, 0, 0, 0, 0, 0, 0, 0, 0, 1, 0, 0, 0,\n",
       "       0, 0, 0, 0, 1, 0, 0, 0, 1, 0, 0, 0, 0, 0, 0, 0, 0, 0, 0, 0, 0, 0,\n",
       "       0, 0, 0, 0, 0, 0, 0, 0, 1, 0, 0, 0, 0, 0, 1, 0, 1, 0, 0, 0, 0, 0,\n",
       "       0, 0, 0, 0, 0, 0, 0, 0, 0, 0, 1, 0, 0, 0, 0, 0, 0, 0, 0, 0, 0, 0,\n",
       "       0, 0, 1, 0, 0, 0, 0, 1, 0, 0, 0, 0, 0, 0, 0, 0, 0, 1, 0, 0, 0, 0,\n",
       "       0, 0, 0, 0, 0, 0, 0, 0, 0, 0, 0, 1, 1, 0, 0, 0, 0, 0, 0, 0, 0, 1,\n",
       "       0, 0, 0, 0, 0, 0, 0, 0, 0, 0, 0, 0, 0, 0, 0, 0, 0, 0, 0, 0, 0, 0,\n",
       "       0, 0, 0, 0, 0, 0, 0, 0, 0, 0, 0, 0, 0, 0, 0, 0, 0, 0, 0, 0, 0, 1,\n",
       "       1, 0, 0, 0, 0, 1, 0, 0, 0, 0, 0, 0, 0, 1, 0, 1, 1, 0, 0, 1, 1, 1,\n",
       "       1, 0, 0, 0, 0, 0, 0, 0, 0, 1, 1, 0, 0, 1, 0, 0, 1, 0, 0, 0, 0, 0,\n",
       "       0, 0, 0, 1, 1, 0, 1, 0, 0, 0, 0, 1, 1, 1, 1, 1, 0, 1, 1, 0, 0, 1,\n",
       "       1, 0, 0, 1, 0, 0, 1, 1, 0, 0, 0, 0, 0, 0, 0, 0, 1, 1, 1, 0, 1, 0,\n",
       "       0, 0, 1, 0, 0, 0, 0, 0, 0, 1, 0, 1, 0, 1, 0, 0, 0, 1, 1, 0, 0, 0,\n",
       "       0, 1, 0, 1, 0, 0, 0, 1, 0, 1, 1, 0, 0, 0, 0, 0, 0, 0, 0, 0, 0, 0,\n",
       "       1, 1, 0, 0, 0, 0, 1, 0, 0, 0, 1, 0, 0, 0, 0, 1, 0, 0, 1, 1, 0, 0,\n",
       "       0, 0, 0, 1, 1, 0, 0, 1, 1, 0, 0, 0, 0, 0, 0, 0, 1, 0, 0, 1, 1, 0,\n",
       "       0, 0, 1, 0, 1, 1, 0, 1, 0, 1, 0, 0, 1, 1, 1, 0, 1, 1, 1, 0, 1, 1,\n",
       "       0, 1, 1, 0, 0, 0, 1, 0, 0, 0, 0, 0, 0, 0, 1, 1, 0, 1, 1, 0, 1, 0,\n",
       "       0, 1, 0, 0, 0, 1, 0, 1, 0, 1, 1, 0, 1, 0, 1, 1, 0, 0, 1, 0, 1, 0,\n",
       "       0, 0, 0, 0, 1, 1], dtype=int64)"
      ]
     },
     "execution_count": 31,
     "metadata": {},
     "output_type": "execute_result"
    }
   ],
   "source": [
    "fitted_labels"
   ]
  },
  {
   "cell_type": "code",
   "execution_count": null,
   "metadata": {},
   "outputs": [],
   "source": []
  }
 ],
 "metadata": {
  "kernelspec": {
   "display_name": "Python 3",
   "language": "python",
   "name": "python3"
  },
  "language_info": {
   "codemirror_mode": {
    "name": "ipython",
    "version": 3
   },
   "file_extension": ".py",
   "mimetype": "text/x-python",
   "name": "python",
   "nbconvert_exporter": "python",
   "pygments_lexer": "ipython3",
   "version": "3.8.3"
  },
  "toc": {
   "base_numbering": 1,
   "nav_menu": {},
   "number_sections": true,
   "sideBar": true,
   "skip_h1_title": false,
   "title_cell": "Table of Contents",
   "title_sidebar": "Contents",
   "toc_cell": false,
   "toc_position": {},
   "toc_section_display": true,
   "toc_window_display": false
  }
 },
 "nbformat": 4,
 "nbformat_minor": 1
}

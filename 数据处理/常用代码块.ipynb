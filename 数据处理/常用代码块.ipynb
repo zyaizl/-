{
 "cells": [
  {
   "cell_type": "markdown",
   "metadata": {},
   "source": [
    "## 导入常用包"
   ]
  },
  {
   "cell_type": "code",
   "execution_count": 2,
   "metadata": {},
   "outputs": [],
   "source": [
    "import numpy as np\n",
    "import pandas as pd\n",
    "\n",
    "import matplotlib\n",
    "import matplotlib.pyplot as plt\n",
    "from matplotlib import style\n",
    "%matplotlib inline\n",
    "import seaborn as sns\n",
    "\n",
    "import warnings\n",
    "warnings.filterwarnings('ignore') "
   ]
  },
  {
   "cell_type": "markdown",
   "metadata": {},
   "source": [
    "## 安装模块"
   ]
  },
  {
   "cell_type": "code",
   "execution_count": 4,
   "metadata": {},
   "outputs": [
    {
     "name": "stdout",
     "output_type": "stream",
     "text": [
      "Requirement already satisfied: statsmodels in c:\\users\\administrator\\anaconda3\\lib\\site-packages (0.11.1)\n",
      "Requirement already satisfied: numpy>=1.14 in c:\\users\\administrator\\anaconda3\\lib\\site-packages (from statsmodels) (1.18.5)\n",
      "Requirement already satisfied: scipy>=1.0 in c:\\users\\administrator\\anaconda3\\lib\\site-packages (from statsmodels) (1.5.0)\n",
      "Requirement already satisfied: pandas>=0.21 in c:\\users\\administrator\\anaconda3\\lib\\site-packages (from statsmodels) (1.0.5)\n",
      "Requirement already satisfied: patsy>=0.5 in c:\\users\\administrator\\anaconda3\\lib\\site-packages (from statsmodels) (0.5.1)\n",
      "Requirement already satisfied: pytz>=2017.2 in c:\\users\\administrator\\anaconda3\\lib\\site-packages (from pandas>=0.21->statsmodels) (2020.1)\n",
      "Requirement already satisfied: python-dateutil>=2.6.1 in c:\\users\\administrator\\anaconda3\\lib\\site-packages (from pandas>=0.21->statsmodels) (2.8.1)\n",
      "Requirement already satisfied: six in c:\\users\\administrator\\anaconda3\\lib\\site-packages (from patsy>=0.5->statsmodels) (1.15.0)\n"
     ]
    }
   ],
   "source": [
    "! pip install statsmodels"
   ]
  },
  {
   "cell_type": "markdown",
   "metadata": {},
   "source": [
    "## 数据读取"
   ]
  },
  {
   "cell_type": "code",
   "execution_count": 2,
   "metadata": {},
   "outputs": [],
   "source": [
    "df = pd.read_csv('listings.csv',usecols=[1,2,7,10,28])\n",
    "#df = pd.read_csv('listings.csv')\n",
    "#df = pd.read_excel('listings.xlsx')\n",
    "# encoding='utf-8' "
   ]
  },
  {
   "cell_type": "markdown",
   "metadata": {},
   "source": [
    "## 保存数据"
   ]
  },
  {
   "cell_type": "code",
   "execution_count": 7,
   "metadata": {},
   "outputs": [],
   "source": [
    "df.to_csv('output.csv',index=False)"
   ]
  },
  {
   "cell_type": "markdown",
   "metadata": {},
   "source": [
    "## 数据预览"
   ]
  },
  {
   "cell_type": "code",
   "execution_count": 8,
   "metadata": {
    "scrolled": true
   },
   "outputs": [
    {
     "data": {
      "text/html": [
       "<div>\n",
       "<style scoped>\n",
       "    .dataframe tbody tr th:only-of-type {\n",
       "        vertical-align: middle;\n",
       "    }\n",
       "\n",
       "    .dataframe tbody tr th {\n",
       "        vertical-align: top;\n",
       "    }\n",
       "\n",
       "    .dataframe thead th {\n",
       "        text-align: right;\n",
       "    }\n",
       "</style>\n",
       "<table border=\"1\" class=\"dataframe\">\n",
       "  <thead>\n",
       "    <tr style=\"text-align: right;\">\n",
       "      <th></th>\n",
       "      <th>scrape_id</th>\n",
       "      <th>last_scraped</th>\n",
       "      <th>host_since</th>\n",
       "      <th>neighbourhood</th>\n",
       "      <th>price</th>\n",
       "    </tr>\n",
       "  </thead>\n",
       "  <tbody>\n",
       "    <tr>\n",
       "      <th>0</th>\n",
       "      <td>2.020000e+13</td>\n",
       "      <td>1/2/15</td>\n",
       "      <td>4/10/13</td>\n",
       "      <td>Midtown East</td>\n",
       "      <td>$160.00</td>\n",
       "    </tr>\n",
       "    <tr>\n",
       "      <th>1</th>\n",
       "      <td>2.020000e+13</td>\n",
       "      <td>1/2/15</td>\n",
       "      <td>6/13/12</td>\n",
       "      <td>Hamilton Heights</td>\n",
       "      <td>$105.00</td>\n",
       "    </tr>\n",
       "    <tr>\n",
       "      <th>2</th>\n",
       "      <td>2.020000e+13</td>\n",
       "      <td>1/2/15</td>\n",
       "      <td>1/5/13</td>\n",
       "      <td>Bushwick</td>\n",
       "      <td>$58.00</td>\n",
       "    </tr>\n",
       "    <tr>\n",
       "      <th>3</th>\n",
       "      <td>2.020000e+13</td>\n",
       "      <td>1/3/15</td>\n",
       "      <td>8/11/10</td>\n",
       "      <td>West Village</td>\n",
       "      <td>$185.00</td>\n",
       "    </tr>\n",
       "    <tr>\n",
       "      <th>4</th>\n",
       "      <td>2.020000e+13</td>\n",
       "      <td>1/2/15</td>\n",
       "      <td>10/15/14</td>\n",
       "      <td>Chelsea</td>\n",
       "      <td>$195.00</td>\n",
       "    </tr>\n",
       "  </tbody>\n",
       "</table>\n",
       "</div>"
      ],
      "text/plain": [
       "      scrape_id last_scraped host_since     neighbourhood     price\n",
       "0  2.020000e+13       1/2/15    4/10/13      Midtown East  $160.00 \n",
       "1  2.020000e+13       1/2/15    6/13/12  Hamilton Heights  $105.00 \n",
       "2  2.020000e+13       1/2/15     1/5/13          Bushwick   $58.00 \n",
       "3  2.020000e+13       1/3/15    8/11/10      West Village  $185.00 \n",
       "4  2.020000e+13       1/2/15   10/15/14           Chelsea  $195.00 "
      ]
     },
     "execution_count": 8,
     "metadata": {},
     "output_type": "execute_result"
    }
   ],
   "source": [
    "df.head()"
   ]
  },
  {
   "cell_type": "code",
   "execution_count": 10,
   "metadata": {},
   "outputs": [
    {
     "data": {
      "text/plain": [
       "(27392, 5)"
      ]
     },
     "execution_count": 10,
     "metadata": {},
     "output_type": "execute_result"
    }
   ],
   "source": [
    "df.shape"
   ]
  },
  {
   "cell_type": "code",
   "execution_count": 11,
   "metadata": {
    "scrolled": true
   },
   "outputs": [
    {
     "data": {
      "text/plain": [
       "['scrape_id', 'last_scraped', 'host_since', 'neighbourhood', 'price']"
      ]
     },
     "execution_count": 11,
     "metadata": {},
     "output_type": "execute_result"
    }
   ],
   "source": [
    "list(df.columns)"
   ]
  },
  {
   "cell_type": "markdown",
   "metadata": {},
   "source": [
    "## 查看非重复值"
   ]
  },
  {
   "cell_type": "code",
   "execution_count": null,
   "metadata": {},
   "outputs": [],
   "source": [
    "df[\"风向\"].unique()\n",
    "\n",
    "data.drop_duplicates()# 去重"
   ]
  },
  {
   "cell_type": "markdown",
   "metadata": {},
   "source": [
    "## 检查空值数量"
   ]
  },
  {
   "cell_type": "code",
   "execution_count": 6,
   "metadata": {
    "scrolled": true
   },
   "outputs": [
    {
     "name": "stdout",
     "output_type": "stream",
     "text": [
      "scrape_id, 空值数据: 0\n",
      "last_scraped, 空值数据: 0\n",
      "host_since, 空值数据: 0\n",
      "neighbourhood, 空值数据: 2027\n",
      "price, 空值数据: 0\n"
     ]
    }
   ],
   "source": [
    "for col in df.columns:\n",
    "    print (col + ', 空值数据:', len(df[col][df[col].isnull()]))"
   ]
  },
  {
   "cell_type": "markdown",
   "metadata": {},
   "source": [
    "## 查找空值的行列"
   ]
  },
  {
   "cell_type": "code",
   "execution_count": null,
   "metadata": {},
   "outputs": [],
   "source": [
    "print(df[df.isnull().T.any()])"
   ]
  },
  {
   "cell_type": "markdown",
   "metadata": {},
   "source": [
    "## 删除有空值的行"
   ]
  },
  {
   "cell_type": "code",
   "execution_count": 7,
   "metadata": {},
   "outputs": [
    {
     "data": {
      "text/html": [
       "<div>\n",
       "<style scoped>\n",
       "    .dataframe tbody tr th:only-of-type {\n",
       "        vertical-align: middle;\n",
       "    }\n",
       "\n",
       "    .dataframe tbody tr th {\n",
       "        vertical-align: top;\n",
       "    }\n",
       "\n",
       "    .dataframe thead th {\n",
       "        text-align: right;\n",
       "    }\n",
       "</style>\n",
       "<table border=\"1\" class=\"dataframe\">\n",
       "  <thead>\n",
       "    <tr style=\"text-align: right;\">\n",
       "      <th></th>\n",
       "      <th>scrape_id</th>\n",
       "      <th>last_scraped</th>\n",
       "      <th>host_since</th>\n",
       "      <th>neighbourhood</th>\n",
       "      <th>price</th>\n",
       "    </tr>\n",
       "  </thead>\n",
       "  <tbody>\n",
       "    <tr>\n",
       "      <th>0</th>\n",
       "      <td>2.020000e+13</td>\n",
       "      <td>1/2/15</td>\n",
       "      <td>4/10/13</td>\n",
       "      <td>Midtown East</td>\n",
       "      <td>$160.00</td>\n",
       "    </tr>\n",
       "    <tr>\n",
       "      <th>1</th>\n",
       "      <td>2.020000e+13</td>\n",
       "      <td>1/2/15</td>\n",
       "      <td>6/13/12</td>\n",
       "      <td>Hamilton Heights</td>\n",
       "      <td>$105.00</td>\n",
       "    </tr>\n",
       "    <tr>\n",
       "      <th>2</th>\n",
       "      <td>2.020000e+13</td>\n",
       "      <td>1/2/15</td>\n",
       "      <td>1/5/13</td>\n",
       "      <td>Bushwick</td>\n",
       "      <td>$58.00</td>\n",
       "    </tr>\n",
       "    <tr>\n",
       "      <th>3</th>\n",
       "      <td>2.020000e+13</td>\n",
       "      <td>1/3/15</td>\n",
       "      <td>8/11/10</td>\n",
       "      <td>West Village</td>\n",
       "      <td>$185.00</td>\n",
       "    </tr>\n",
       "    <tr>\n",
       "      <th>4</th>\n",
       "      <td>2.020000e+13</td>\n",
       "      <td>1/2/15</td>\n",
       "      <td>10/15/14</td>\n",
       "      <td>Chelsea</td>\n",
       "      <td>$195.00</td>\n",
       "    </tr>\n",
       "    <tr>\n",
       "      <th>...</th>\n",
       "      <td>...</td>\n",
       "      <td>...</td>\n",
       "      <td>...</td>\n",
       "      <td>...</td>\n",
       "      <td>...</td>\n",
       "    </tr>\n",
       "    <tr>\n",
       "      <th>27387</th>\n",
       "      <td>2.020000e+13</td>\n",
       "      <td>1/2/15</td>\n",
       "      <td>12/8/11</td>\n",
       "      <td>Kips Bay</td>\n",
       "      <td>$130.00</td>\n",
       "    </tr>\n",
       "    <tr>\n",
       "      <th>27388</th>\n",
       "      <td>2.020000e+13</td>\n",
       "      <td>1/2/15</td>\n",
       "      <td>4/15/13</td>\n",
       "      <td>Times Square/Theatre District</td>\n",
       "      <td>$139.00</td>\n",
       "    </tr>\n",
       "    <tr>\n",
       "      <th>27389</th>\n",
       "      <td>2.020000e+13</td>\n",
       "      <td>1/3/15</td>\n",
       "      <td>6/18/12</td>\n",
       "      <td>St. George</td>\n",
       "      <td>$99.00</td>\n",
       "    </tr>\n",
       "    <tr>\n",
       "      <th>27390</th>\n",
       "      <td>2.020000e+13</td>\n",
       "      <td>1/2/15</td>\n",
       "      <td>12/19/10</td>\n",
       "      <td>Crown Heights</td>\n",
       "      <td>$55.00</td>\n",
       "    </tr>\n",
       "    <tr>\n",
       "      <th>27391</th>\n",
       "      <td>2.020000e+13</td>\n",
       "      <td>1/2/15</td>\n",
       "      <td>6/20/12</td>\n",
       "      <td>Hell's Kitchen</td>\n",
       "      <td>$110.00</td>\n",
       "    </tr>\n",
       "  </tbody>\n",
       "</table>\n",
       "<p>25365 rows × 5 columns</p>\n",
       "</div>"
      ],
      "text/plain": [
       "          scrape_id last_scraped host_since                  neighbourhood  \\\n",
       "0      2.020000e+13       1/2/15    4/10/13                   Midtown East   \n",
       "1      2.020000e+13       1/2/15    6/13/12               Hamilton Heights   \n",
       "2      2.020000e+13       1/2/15     1/5/13                       Bushwick   \n",
       "3      2.020000e+13       1/3/15    8/11/10                   West Village   \n",
       "4      2.020000e+13       1/2/15   10/15/14                        Chelsea   \n",
       "...             ...          ...        ...                            ...   \n",
       "27387  2.020000e+13       1/2/15    12/8/11                       Kips Bay   \n",
       "27388  2.020000e+13       1/2/15    4/15/13  Times Square/Theatre District   \n",
       "27389  2.020000e+13       1/3/15    6/18/12                     St. George   \n",
       "27390  2.020000e+13       1/2/15   12/19/10                  Crown Heights   \n",
       "27391  2.020000e+13       1/2/15    6/20/12                 Hell's Kitchen   \n",
       "\n",
       "          price  \n",
       "0      $160.00   \n",
       "1      $105.00   \n",
       "2       $58.00   \n",
       "3      $185.00   \n",
       "4      $195.00   \n",
       "...         ...  \n",
       "27387  $130.00   \n",
       "27388  $139.00   \n",
       "27389   $99.00   \n",
       "27390   $55.00   \n",
       "27391  $110.00   \n",
       "\n",
       "[25365 rows x 5 columns]"
      ]
     },
     "execution_count": 7,
     "metadata": {},
     "output_type": "execute_result"
    }
   ],
   "source": [
    "df.dropna(axis=0, how='any')\n",
    "#  df = df[~df['neighbourhood'].isnull()]\n",
    "#  按行删除：所有数据都为空值，即删除该行\n",
    "#  print(d.dropna(axis=0, how='all'))\n",
    "#  subset=['zipcode', 'property_type', 'bedrooms', 'beds', 'bathrooms']"
   ]
  },
  {
   "cell_type": "code",
   "execution_count": 12,
   "metadata": {
    "scrolled": false
   },
   "outputs": [
    {
     "data": {
      "text/html": [
       "<div>\n",
       "<style scoped>\n",
       "    .dataframe tbody tr th:only-of-type {\n",
       "        vertical-align: middle;\n",
       "    }\n",
       "\n",
       "    .dataframe tbody tr th {\n",
       "        vertical-align: top;\n",
       "    }\n",
       "\n",
       "    .dataframe thead th {\n",
       "        text-align: right;\n",
       "    }\n",
       "</style>\n",
       "<table border=\"1\" class=\"dataframe\">\n",
       "  <thead>\n",
       "    <tr style=\"text-align: right;\">\n",
       "      <th></th>\n",
       "      <th>scrape_id</th>\n",
       "      <th>last_scraped</th>\n",
       "      <th>host_since</th>\n",
       "      <th>neighbourhood</th>\n",
       "      <th>price</th>\n",
       "    </tr>\n",
       "  </thead>\n",
       "  <tbody>\n",
       "    <tr>\n",
       "      <th>0</th>\n",
       "      <td>2.020000e+13</td>\n",
       "      <td>1/2/15</td>\n",
       "      <td>4/10/13</td>\n",
       "      <td>Midtown East</td>\n",
       "      <td>$160.00</td>\n",
       "    </tr>\n",
       "    <tr>\n",
       "      <th>1</th>\n",
       "      <td>2.020000e+13</td>\n",
       "      <td>1/2/15</td>\n",
       "      <td>6/13/12</td>\n",
       "      <td>Hamilton Heights</td>\n",
       "      <td>$105.00</td>\n",
       "    </tr>\n",
       "    <tr>\n",
       "      <th>2</th>\n",
       "      <td>2.020000e+13</td>\n",
       "      <td>1/2/15</td>\n",
       "      <td>1/5/13</td>\n",
       "      <td>Bushwick</td>\n",
       "      <td>$58.00</td>\n",
       "    </tr>\n",
       "    <tr>\n",
       "      <th>3</th>\n",
       "      <td>2.020000e+13</td>\n",
       "      <td>1/3/15</td>\n",
       "      <td>8/11/10</td>\n",
       "      <td>West Village</td>\n",
       "      <td>$185.00</td>\n",
       "    </tr>\n",
       "    <tr>\n",
       "      <th>4</th>\n",
       "      <td>2.020000e+13</td>\n",
       "      <td>1/2/15</td>\n",
       "      <td>10/15/14</td>\n",
       "      <td>Chelsea</td>\n",
       "      <td>$195.00</td>\n",
       "    </tr>\n",
       "    <tr>\n",
       "      <th>...</th>\n",
       "      <td>...</td>\n",
       "      <td>...</td>\n",
       "      <td>...</td>\n",
       "      <td>...</td>\n",
       "      <td>...</td>\n",
       "    </tr>\n",
       "    <tr>\n",
       "      <th>27387</th>\n",
       "      <td>2.020000e+13</td>\n",
       "      <td>1/2/15</td>\n",
       "      <td>12/8/11</td>\n",
       "      <td>Kips Bay</td>\n",
       "      <td>$130.00</td>\n",
       "    </tr>\n",
       "    <tr>\n",
       "      <th>27388</th>\n",
       "      <td>2.020000e+13</td>\n",
       "      <td>1/2/15</td>\n",
       "      <td>4/15/13</td>\n",
       "      <td>Times Square/Theatre District</td>\n",
       "      <td>$139.00</td>\n",
       "    </tr>\n",
       "    <tr>\n",
       "      <th>27389</th>\n",
       "      <td>2.020000e+13</td>\n",
       "      <td>1/3/15</td>\n",
       "      <td>6/18/12</td>\n",
       "      <td>St. George</td>\n",
       "      <td>$99.00</td>\n",
       "    </tr>\n",
       "    <tr>\n",
       "      <th>27390</th>\n",
       "      <td>2.020000e+13</td>\n",
       "      <td>1/2/15</td>\n",
       "      <td>12/19/10</td>\n",
       "      <td>Crown Heights</td>\n",
       "      <td>$55.00</td>\n",
       "    </tr>\n",
       "    <tr>\n",
       "      <th>27391</th>\n",
       "      <td>2.020000e+13</td>\n",
       "      <td>1/2/15</td>\n",
       "      <td>6/20/12</td>\n",
       "      <td>Hell's Kitchen</td>\n",
       "      <td>$110.00</td>\n",
       "    </tr>\n",
       "  </tbody>\n",
       "</table>\n",
       "<p>25365 rows × 5 columns</p>\n",
       "</div>"
      ],
      "text/plain": [
       "          scrape_id last_scraped host_since                  neighbourhood  \\\n",
       "0      2.020000e+13       1/2/15    4/10/13                   Midtown East   \n",
       "1      2.020000e+13       1/2/15    6/13/12               Hamilton Heights   \n",
       "2      2.020000e+13       1/2/15     1/5/13                       Bushwick   \n",
       "3      2.020000e+13       1/3/15    8/11/10                   West Village   \n",
       "4      2.020000e+13       1/2/15   10/15/14                        Chelsea   \n",
       "...             ...          ...        ...                            ...   \n",
       "27387  2.020000e+13       1/2/15    12/8/11                       Kips Bay   \n",
       "27388  2.020000e+13       1/2/15    4/15/13  Times Square/Theatre District   \n",
       "27389  2.020000e+13       1/3/15    6/18/12                     St. George   \n",
       "27390  2.020000e+13       1/2/15   12/19/10                  Crown Heights   \n",
       "27391  2.020000e+13       1/2/15    6/20/12                 Hell's Kitchen   \n",
       "\n",
       "          price  \n",
       "0      $160.00   \n",
       "1      $105.00   \n",
       "2       $58.00   \n",
       "3      $185.00   \n",
       "4      $195.00   \n",
       "...         ...  \n",
       "27387  $130.00   \n",
       "27388  $139.00   \n",
       "27389   $99.00   \n",
       "27390   $55.00   \n",
       "27391  $110.00   \n",
       "\n",
       "[25365 rows x 5 columns]"
      ]
     },
     "execution_count": 12,
     "metadata": {},
     "output_type": "execute_result"
    }
   ],
   "source": [
    "df.dropna()"
   ]
  },
  {
   "cell_type": "code",
   "execution_count": null,
   "metadata": {},
   "outputs": [],
   "source": [
    "# 剔除、填充异常值"
   ]
  },
  {
   "cell_type": "code",
   "execution_count": null,
   "metadata": {},
   "outputs": [],
   "source": [
    "da = data.values#重新赋值data\n",
    "#异常值处理，将commments大于200000的数据comments设置为58\n",
    "cont_clou = len(da)#获取行数\n",
    "#遍历数据进行处理\n",
    "for i in range(0,cont_clou):\n",
    "    if(data.values[i][3]>200000):\n",
    "        #print(data.values[i][3])\n",
    "        da[i][3]='58'\n",
    "        #print(da[i][3])"
   ]
  },
  {
   "cell_type": "markdown",
   "metadata": {},
   "source": [
    "## 删除某列"
   ]
  },
  {
   "cell_type": "code",
   "execution_count": null,
   "metadata": {},
   "outputs": [],
   "source": [
    "df.drop(columns=['id'])"
   ]
  },
  {
   "cell_type": "code",
   "execution_count": null,
   "metadata": {},
   "outputs": [],
   "source": [
    "#Drop rows\n",
    ">>>df.drop([0, 1])\n",
    "   A  B   C   D\n",
    "2  8  9  10  11"
   ]
  },
  {
   "cell_type": "code",
   "execution_count": null,
   "metadata": {},
   "outputs": [],
   "source": [
    "feature.drop([feature.columns[0]], axis=1)"
   ]
  },
  {
   "cell_type": "code",
   "execution_count": null,
   "metadata": {},
   "outputs": [],
   "source": [
    "#删除table值为sc的那一行\n",
    "df.drop(index=(df.loc[(df['table']=='sc')].index))"
   ]
  },
  {
   "cell_type": "markdown",
   "metadata": {},
   "source": [
    "## 众数补全空值"
   ]
  },
  {
   "cell_type": "code",
   "execution_count": null,
   "metadata": {},
   "outputs": [],
   "source": [
    "full_df.Embarked = full_df.Embarked.fillna(\"S\")"
   ]
  },
  {
   "cell_type": "markdown",
   "metadata": {},
   "source": [
    "## 调整列的顺序"
   ]
  },
  {
   "cell_type": "code",
   "execution_count": 8,
   "metadata": {},
   "outputs": [],
   "source": [
    "df = df[['scrape_id','neighbourhood','last_scraped','host_since','price']]"
   ]
  },
  {
   "cell_type": "markdown",
   "metadata": {},
   "source": [
    "## 重命名列名"
   ]
  },
  {
   "cell_type": "code",
   "execution_count": 17,
   "metadata": {
    "scrolled": true
   },
   "outputs": [
    {
     "data": {
      "text/html": [
       "<div>\n",
       "<style scoped>\n",
       "    .dataframe tbody tr th:only-of-type {\n",
       "        vertical-align: middle;\n",
       "    }\n",
       "\n",
       "    .dataframe tbody tr th {\n",
       "        vertical-align: top;\n",
       "    }\n",
       "\n",
       "    .dataframe thead th {\n",
       "        text-align: right;\n",
       "    }\n",
       "</style>\n",
       "<table border=\"1\" class=\"dataframe\">\n",
       "  <thead>\n",
       "    <tr style=\"text-align: right;\">\n",
       "      <th></th>\n",
       "      <th>ID</th>\n",
       "      <th>最近收集</th>\n",
       "      <th>天气</th>\n",
       "      <th>邻居</th>\n",
       "      <th>价格</th>\n",
       "    </tr>\n",
       "  </thead>\n",
       "  <tbody>\n",
       "    <tr>\n",
       "      <th>0</th>\n",
       "      <td>2.020000e+13</td>\n",
       "      <td>1/2/15</td>\n",
       "      <td>4/10/13</td>\n",
       "      <td>Midtown East</td>\n",
       "      <td>$160.00</td>\n",
       "    </tr>\n",
       "    <tr>\n",
       "      <th>1</th>\n",
       "      <td>2.020000e+13</td>\n",
       "      <td>1/2/15</td>\n",
       "      <td>6/13/12</td>\n",
       "      <td>Hamilton Heights</td>\n",
       "      <td>$105.00</td>\n",
       "    </tr>\n",
       "    <tr>\n",
       "      <th>2</th>\n",
       "      <td>2.020000e+13</td>\n",
       "      <td>1/2/15</td>\n",
       "      <td>1/5/13</td>\n",
       "      <td>Bushwick</td>\n",
       "      <td>$58.00</td>\n",
       "    </tr>\n",
       "    <tr>\n",
       "      <th>3</th>\n",
       "      <td>2.020000e+13</td>\n",
       "      <td>1/3/15</td>\n",
       "      <td>8/11/10</td>\n",
       "      <td>West Village</td>\n",
       "      <td>$185.00</td>\n",
       "    </tr>\n",
       "    <tr>\n",
       "      <th>4</th>\n",
       "      <td>2.020000e+13</td>\n",
       "      <td>1/2/15</td>\n",
       "      <td>10/15/14</td>\n",
       "      <td>Chelsea</td>\n",
       "      <td>$195.00</td>\n",
       "    </tr>\n",
       "  </tbody>\n",
       "</table>\n",
       "</div>"
      ],
      "text/plain": [
       "             ID    最近收集        天气                邻居        价格\n",
       "0  2.020000e+13  1/2/15   4/10/13      Midtown East  $160.00 \n",
       "1  2.020000e+13  1/2/15   6/13/12  Hamilton Heights  $105.00 \n",
       "2  2.020000e+13  1/2/15    1/5/13          Bushwick   $58.00 \n",
       "3  2.020000e+13  1/3/15   8/11/10      West Village  $185.00 \n",
       "4  2.020000e+13  1/2/15  10/15/14           Chelsea  $195.00 "
      ]
     },
     "execution_count": 17,
     "metadata": {},
     "output_type": "execute_result"
    }
   ],
   "source": [
    "colNameDict = {\n",
    "    'scrape_id':'ID',\n",
    "    'neighbourhood':'邻居',\n",
    "    'last_scraped':'最近收集',\n",
    "    'host_since':'天气',\n",
    "    'price':'价格'\n",
    "}\n",
    "df.rename(columns = colNameDict,inplace=True)\n",
    "df.head()"
   ]
  },
  {
   "cell_type": "markdown",
   "metadata": {},
   "source": [
    "## 自己制定索引"
   ]
  },
  {
   "cell_type": "code",
   "execution_count": null,
   "metadata": {},
   "outputs": [],
   "source": [
    "df = df.set_index('Name')\n",
    "df.head()"
   ]
  },
  {
   "cell_type": "markdown",
   "metadata": {},
   "source": [
    "## 数据合并"
   ]
  },
  {
   "cell_type": "code",
   "execution_count": 21,
   "metadata": {},
   "outputs": [
    {
     "data": {
      "text/plain": [
       "array(['West Village', 'Chelsea', 'Carroll Gardens', 'Chinatown',\n",
       "       'East Village', 'Bedford-Stuyvesant', 'Fort Greene', 'Midtown',\n",
       "       'Crown Heights', 'Times Square/Theatre District',\n",
       "       'Washington Heights', 'Financial District', 'Harlem', 'Greenpoint',\n",
       "       'Upper West Side', 'East Harlem', 'Greenwich Village', 'Soho',\n",
       "       'Civic Center', \"Hell's Kitchen\", 'Kips Bay', 'Noho', 'Astoria',\n",
       "       'Alphabet City', 'Upper East Side', 'Ridgewood', 'Williamsburg',\n",
       "       'South Street Seaport', 'Park Slope', 'Tribeca', 'Clinton Hill',\n",
       "       'Lower East Side', 'Boerum Hill', 'Flatiron District', 'Nolita',\n",
       "       'Morningside Heights', 'Gramercy Park', 'Murray Hill', 'Longwood',\n",
       "       'Bay Ridge', 'Brighton Beach', 'Long Island City', 'DUMBO',\n",
       "       'Gowanus', 'Rego Park', 'Flatlands', 'East New York',\n",
       "       'Kingsbridge', 'Midwood', 'Wakefield', 'Downtown Brooklyn',\n",
       "       'Jackson Heights', 'Sunnyside', 'West Brighton', 'Red Hook',\n",
       "       'Flatbush', 'Ditmars / Steinway', 'Little Italy', 'Hudson Square',\n",
       "       'Union Square', 'Kensington', 'Brooklyn Navy Yard', 'Riverdale',\n",
       "       'Elmhurst', 'Forest Hills', 'Jamaica', 'Sunset Park',\n",
       "       'Richmond Hill', 'Grant City', 'Inwood', 'Canarsie', 'St. George',\n",
       "       'Randall Manor', 'Lefferts Garden', 'Midland Beach',\n",
       "       'Fresh Meadows', 'Rosebank', 'Flushing', 'Bensonhurst',\n",
       "       'Cobble Hill', 'Prospect Heights', 'Bayside', 'City Island', nan,\n",
       "       'Stuyvesant Heights', 'Brooklyn Heights', 'Gravesend',\n",
       "       'Spuyten Duyvil', 'East Flatbush', 'Concourse',\n",
       "       'Battery Park City', 'Woodhaven', 'Allerton', 'Windsor Terrace',\n",
       "       'Corona', 'Brooklyn', 'Port Morris', 'Westchester Village',\n",
       "       'Middle Village', 'Meatpacking District', 'Bedford Park',\n",
       "       'Sheepshead Bay', 'North Williamsburg', 'The Rockaways',\n",
       "       'Coney Island', 'South Ozone Park', 'Woodside', 'Maspeth',\n",
       "       'Roosevelt Island', 'Soundview', 'Baychester', 'Morrisania',\n",
       "       'Williamsbridge', 'Castle Hill ', 'Kew Garden Hills',\n",
       "       'Mariners Harbor', 'Claremont', 'South Williamsburg',\n",
       "       'Marble Hill', 'Greenwood Heights', 'Mount Eden',\n",
       "       'University Heights', 'Highbridge', 'Concord', 'Ozone Park',\n",
       "       'Hillcrest', 'Vinegar Hill', 'Tremont', 'Norwood', 'Fordham',\n",
       "       'Manhattan', 'Stapleton', 'Tompkinsville', 'Mott Haven',\n",
       "       'East Elmhurst', 'Kingsbridge Heights', 'Van Nest', 'Todt Hill',\n",
       "       'Crotona', 'Concourse Village', 'Westerleigh', 'South Beach',\n",
       "       'Park Versailles', 'Queens', 'Meiers Corners', 'Staten Island',\n",
       "       'Bay Terrace', 'Melrose', 'College Point', 'Bronxdale', 'Woodlawn',\n",
       "       'Parkchester', 'Pelham Bay', 'New Brighton', 'New Dorp',\n",
       "       'Glendale', 'Country Club', 'Clifton', 'Lighthouse HIll',\n",
       "       'Graniteville', 'Whitestone', 'Dyker Heights',\n",
       "       'Columbia Street Waterfront', 'The Bronx', 'Howard Beach',\n",
       "       'Throgs Neck', 'Edenwald', 'Grymes Hill', 'Utopia', 'Eastchester',\n",
       "       'Oakwood', 'Great Kills', 'Elm Park', 'Emerson Hill',\n",
       "       'Morris Park', 'New Springville', 'Borough Park', 'Tottenville',\n",
       "       'Huguenot', 'Castleton Corners', 'Bath Beach', 'Yorkville',\n",
       "       'East Williamsburg', 'Bergen Beach', 'Dupont Circle',\n",
       "       'Times Square', 'Theatre District',\n",
       "       'Very young neighborhood yet a bit removed from the drunken craziness so you have the luxury of sleeping on a very quiet street but walking just a few blocks to the fun.'],\n",
       "      dtype=object)"
      ]
     },
     "execution_count": 21,
     "metadata": {},
     "output_type": "execute_result"
    }
   ],
   "source": [
    "df[\"邻居\"].unique()"
   ]
  },
  {
   "cell_type": "markdown",
   "metadata": {},
   "source": [
    "## 更改数据格式"
   ]
  },
  {
   "cell_type": "code",
   "execution_count": 3,
   "metadata": {
    "scrolled": true
   },
   "outputs": [
    {
     "data": {
      "text/plain": [
       "array([ 3, -1, -2,  0, 12, 10])"
      ]
     },
     "execution_count": 3,
     "metadata": {},
     "output_type": "execute_result"
    }
   ],
   "source": [
    "arr = np.array([3.7, -1.2, -2.6, 0.5, 12.9, 10.1])\n",
    "arr\n",
    "arr.astype(np.int32)"
   ]
  },
  {
   "cell_type": "code",
   "execution_count": 8,
   "metadata": {},
   "outputs": [
    {
     "name": "stdout",
     "output_type": "stream",
     "text": [
      "|S4\n"
     ]
    },
    {
     "data": {
      "text/plain": [
       "array([ 1.25, -9.6 , 42.  ])"
      ]
     },
     "execution_count": 8,
     "metadata": {},
     "output_type": "execute_result"
    }
   ],
   "source": [
    "numeric_strings = np.array(['1.25', '-9.6', '42'], dtype=np.string_)\n",
    "print(numeric_strings.dtype)\n",
    "numeric_strings.astype(float)"
   ]
  },
  {
   "cell_type": "code",
   "execution_count": 20,
   "metadata": {},
   "outputs": [],
   "source": [
    "df['邻居']=np.where(df['邻居'] =='Midtown East', 'West Village', df['邻居'])\n",
    "df['邻居']=np.where(df['邻居'] =='Hamilton Heights', 'West Village', df['邻居'])\n",
    "df['邻居']=np.where(df['邻居'] =='Bushwick', 'West Village', df['邻居'])"
   ]
  },
  {
   "cell_type": "code",
   "execution_count": 10,
   "metadata": {},
   "outputs": [],
   "source": [
    "df['价格'] = (df['价格'].str.replace(r'[^-+\\d.]', '').astype(float))"
   ]
  },
  {
   "cell_type": "markdown",
   "metadata": {},
   "source": [
    "## 分类数据转化数值"
   ]
  },
  {
   "cell_type": "code",
   "execution_count": null,
   "metadata": {},
   "outputs": [],
   "source": [
    "# label enconding 来实现\n",
    "full_df.Sex = full_df.Sex.map({'male':1,'famale':2})"
   ]
  },
  {
   "cell_type": "markdown",
   "metadata": {},
   "source": [
    "## 增加新的一列"
   ]
  },
  {
   "cell_type": "code",
   "execution_count": 11,
   "metadata": {},
   "outputs": [],
   "source": [
    "df['成本'] = df['价格']-df['价格']*0.68\n",
    "\n",
    "df2 = df.assign(ration = df['data1']/df['data2'])\n",
    "\n",
    "df3 = pd.concat([titanic,classes],axis = 1)\n",
    "\n",
    "df4 = titanic.assign(ration = classes)"
   ]
  },
  {
   "cell_type": "markdown",
   "metadata": {},
   "source": [
    "## 削峰模拟"
   ]
  },
  {
   "cell_type": "code",
   "execution_count": null,
   "metadata": {},
   "outputs": [],
   "source": [
    "## 查看分位数  \n",
    "df_pm25.pm25.quantile(0.90)"
   ]
  },
  {
   "cell_type": "code",
   "execution_count": null,
   "metadata": {},
   "outputs": [],
   "source": [
    "## 削峰模拟\n",
    "df_pm25.pm25[df_pm25['pm25']>48]=48\n",
    "df_pm25"
   ]
  },
  {
   "cell_type": "markdown",
   "metadata": {},
   "source": [
    "## 分列"
   ]
  },
  {
   "cell_type": "code",
   "execution_count": null,
   "metadata": {},
   "outputs": [],
   "source": [
    "\"2003-01-06 00:15:00\".split(\" \")[0] "
   ]
  },
  {
   "cell_type": "markdown",
   "metadata": {},
   "source": [
    "## 分组 Vlookup"
   ]
  },
  {
   "cell_type": "code",
   "execution_count": null,
   "metadata": {},
   "outputs": [],
   "source": [
    "df['Age'].value_counts(ascending = False,bins = 5)"
   ]
  },
  {
   "cell_type": "code",
   "execution_count": null,
   "metadata": {},
   "outputs": [],
   "source": [
    "bins = [10,40,80]\n",
    "bins_res = pd.cut(df['Age'],bins)\n",
    "df['bins']=bins_res"
   ]
  },
  {
   "cell_type": "markdown",
   "metadata": {},
   "source": [
    "## 数据透视表"
   ]
  },
  {
   "cell_type": "code",
   "execution_count": null,
   "metadata": {},
   "outputs": [],
   "source": [
    "df.pivot_table(index = 'Sex',columns='Pclass',values='Fare')\n",
    "example.pivot(index = 'Category',columns= 'Month',values = 'Amount')"
   ]
  },
  {
   "cell_type": "markdown",
   "metadata": {},
   "source": [
    "## 分类聚合"
   ]
  },
  {
   "cell_type": "code",
   "execution_count": 22,
   "metadata": {},
   "outputs": [],
   "source": [
    "def scores(val):\n",
    "#     if val == 'No Reviews':\n",
    "#         return 'No Reviews'\n",
    "    if val >= 30.0:\n",
    "        return '30-60'\n",
    "    elif val >= 60.0 and val < 90.0:\n",
    "        return '60-90'\n",
    "    elif val >= 90.0 and val < 120.0:\n",
    "        return '90-120'\n",
    "    elif val >= 120.0 and val < 150.0:\n",
    "        return '120-150'\n",
    "    elif val >= 150.0 and val < 180.0:\n",
    "        return '150-180'\n",
    "    elif val >= 180 :\n",
    "        return '+180'"
   ]
  },
  {
   "cell_type": "code",
   "execution_count": null,
   "metadata": {},
   "outputs": [],
   "source": [
    "# 年龄分类\n",
    "def get_age(age):\n",
    "      \n",
    "    if (age<=12):\n",
    "        return 0\n",
    "    elif (12<age<=18):\n",
    "        return 1\n",
    "    elif (18<age<=30):\n",
    "        return 2\n",
    "    elif (30<age<=60):\n",
    "        return 3\n",
    "    elif (60<age):\n",
    "        return 4"
   ]
  },
  {
   "cell_type": "code",
   "execution_count": 23,
   "metadata": {
    "scrolled": true
   },
   "outputs": [
    {
     "ename": "TypeError",
     "evalue": "'>=' not supported between instances of 'str' and 'float'",
     "output_type": "error",
     "traceback": [
      "\u001b[1;31m---------------------------------------------------------------------------\u001b[0m",
      "\u001b[1;31mTypeError\u001b[0m                                 Traceback (most recent call last)",
      "\u001b[1;32m<ipython-input-23-e2c9e6a80c90>\u001b[0m in \u001b[0;36m<module>\u001b[1;34m\u001b[0m\n\u001b[1;32m----> 1\u001b[1;33m \u001b[0mdf\u001b[0m\u001b[1;33m[\u001b[0m\u001b[1;34m'price_level'\u001b[0m\u001b[1;33m]\u001b[0m \u001b[1;33m=\u001b[0m \u001b[0mdf\u001b[0m\u001b[1;33m[\u001b[0m\u001b[1;34m'价格'\u001b[0m\u001b[1;33m]\u001b[0m\u001b[1;33m.\u001b[0m\u001b[0mapply\u001b[0m\u001b[1;33m(\u001b[0m\u001b[0mscores\u001b[0m\u001b[1;33m)\u001b[0m\u001b[1;33m\u001b[0m\u001b[1;33m\u001b[0m\u001b[0m\n\u001b[0m\u001b[0;32m      2\u001b[0m \u001b[0mprint\u001b[0m\u001b[1;33m(\u001b[0m\u001b[1;34m'Unique Values in the Column:'\u001b[0m\u001b[1;33m,\u001b[0m \u001b[0mnp\u001b[0m\u001b[1;33m.\u001b[0m\u001b[0munique\u001b[0m\u001b[1;33m(\u001b[0m\u001b[0mdf\u001b[0m\u001b[1;33m[\u001b[0m\u001b[1;34m'price_level'\u001b[0m\u001b[1;33m]\u001b[0m\u001b[1;33m)\u001b[0m\u001b[1;33m)\u001b[0m\u001b[1;33m\u001b[0m\u001b[1;33m\u001b[0m\u001b[0m\n",
      "\u001b[1;32m~\\anaconda3\\lib\\site-packages\\pandas\\core\\series.py\u001b[0m in \u001b[0;36mapply\u001b[1;34m(self, func, convert_dtype, args, **kwds)\u001b[0m\n\u001b[0;32m   3846\u001b[0m             \u001b[1;32melse\u001b[0m\u001b[1;33m:\u001b[0m\u001b[1;33m\u001b[0m\u001b[1;33m\u001b[0m\u001b[0m\n\u001b[0;32m   3847\u001b[0m                 \u001b[0mvalues\u001b[0m \u001b[1;33m=\u001b[0m \u001b[0mself\u001b[0m\u001b[1;33m.\u001b[0m\u001b[0mastype\u001b[0m\u001b[1;33m(\u001b[0m\u001b[0mobject\u001b[0m\u001b[1;33m)\u001b[0m\u001b[1;33m.\u001b[0m\u001b[0mvalues\u001b[0m\u001b[1;33m\u001b[0m\u001b[1;33m\u001b[0m\u001b[0m\n\u001b[1;32m-> 3848\u001b[1;33m                 \u001b[0mmapped\u001b[0m \u001b[1;33m=\u001b[0m \u001b[0mlib\u001b[0m\u001b[1;33m.\u001b[0m\u001b[0mmap_infer\u001b[0m\u001b[1;33m(\u001b[0m\u001b[0mvalues\u001b[0m\u001b[1;33m,\u001b[0m \u001b[0mf\u001b[0m\u001b[1;33m,\u001b[0m \u001b[0mconvert\u001b[0m\u001b[1;33m=\u001b[0m\u001b[0mconvert_dtype\u001b[0m\u001b[1;33m)\u001b[0m\u001b[1;33m\u001b[0m\u001b[1;33m\u001b[0m\u001b[0m\n\u001b[0m\u001b[0;32m   3849\u001b[0m \u001b[1;33m\u001b[0m\u001b[0m\n\u001b[0;32m   3850\u001b[0m         \u001b[1;32mif\u001b[0m \u001b[0mlen\u001b[0m\u001b[1;33m(\u001b[0m\u001b[0mmapped\u001b[0m\u001b[1;33m)\u001b[0m \u001b[1;32mand\u001b[0m \u001b[0misinstance\u001b[0m\u001b[1;33m(\u001b[0m\u001b[0mmapped\u001b[0m\u001b[1;33m[\u001b[0m\u001b[1;36m0\u001b[0m\u001b[1;33m]\u001b[0m\u001b[1;33m,\u001b[0m \u001b[0mSeries\u001b[0m\u001b[1;33m)\u001b[0m\u001b[1;33m:\u001b[0m\u001b[1;33m\u001b[0m\u001b[1;33m\u001b[0m\u001b[0m\n",
      "\u001b[1;32mpandas\\_libs\\lib.pyx\u001b[0m in \u001b[0;36mpandas._libs.lib.map_infer\u001b[1;34m()\u001b[0m\n",
      "\u001b[1;32m<ipython-input-22-27363e6c249d>\u001b[0m in \u001b[0;36mscores\u001b[1;34m(val)\u001b[0m\n\u001b[0;32m      2\u001b[0m \u001b[1;31m#     if val == 'No Reviews':\u001b[0m\u001b[1;33m\u001b[0m\u001b[1;33m\u001b[0m\u001b[1;33m\u001b[0m\u001b[0m\n\u001b[0;32m      3\u001b[0m \u001b[1;31m#         return 'No Reviews'\u001b[0m\u001b[1;33m\u001b[0m\u001b[1;33m\u001b[0m\u001b[1;33m\u001b[0m\u001b[0m\n\u001b[1;32m----> 4\u001b[1;33m     \u001b[1;32mif\u001b[0m \u001b[0mval\u001b[0m \u001b[1;33m>=\u001b[0m \u001b[1;36m30.0\u001b[0m\u001b[1;33m:\u001b[0m\u001b[1;33m\u001b[0m\u001b[1;33m\u001b[0m\u001b[0m\n\u001b[0m\u001b[0;32m      5\u001b[0m         \u001b[1;32mreturn\u001b[0m \u001b[1;34m'30-60'\u001b[0m\u001b[1;33m\u001b[0m\u001b[1;33m\u001b[0m\u001b[0m\n\u001b[0;32m      6\u001b[0m     \u001b[1;32melif\u001b[0m \u001b[0mval\u001b[0m \u001b[1;33m>=\u001b[0m \u001b[1;36m60.0\u001b[0m \u001b[1;32mand\u001b[0m \u001b[0mval\u001b[0m \u001b[1;33m<\u001b[0m \u001b[1;36m90.0\u001b[0m\u001b[1;33m:\u001b[0m\u001b[1;33m\u001b[0m\u001b[1;33m\u001b[0m\u001b[0m\n",
      "\u001b[1;31mTypeError\u001b[0m: '>=' not supported between instances of 'str' and 'float'"
     ]
    }
   ],
   "source": [
    "df['price_level'] = df['价格'].apply(scores)\n",
    "print('Unique Values in the Column:', np.unique(df['price_level']))"
   ]
  },
  {
   "cell_type": "markdown",
   "metadata": {},
   "source": [
    "## 数据分类统计  groupby"
   ]
  },
  {
   "cell_type": "code",
   "execution_count": 32,
   "metadata": {},
   "outputs": [
    {
     "data": {
      "text/plain": [
       "$150.00       1538\n",
       "$100.00       1325\n",
       "$200.00       1104\n",
       "$75.00         801\n",
       "$250.00        799\n",
       "              ... \n",
       "$312.00          1\n",
       "$378.00          1\n",
       "$1,499.00        1\n",
       "$745.00          1\n",
       "$997.00          1\n",
       "Name: 价格, Length: 452, dtype: int64"
      ]
     },
     "execution_count": 32,
     "metadata": {},
     "output_type": "execute_result"
    }
   ],
   "source": [
    "df['价格'].value_counts()"
   ]
  },
  {
   "cell_type": "code",
   "execution_count": 28,
   "metadata": {},
   "outputs": [
    {
     "data": {
      "image/png": "[encoded data removed]",
      "text/plain": [
       "<Figure size 432x288 with 1 Axes>"
      ]
     },
     "metadata": {
      "needs_background": "light"
     },
     "output_type": "display_data"
    }
   ],
   "source": [
    "sns.countplot(x='价格',data=df, palette='hls')\n",
    "plt.show()\n",
    "# plt.savefig('count_plot')"
   ]
  },
  {
   "cell_type": "code",
   "execution_count": 30,
   "metadata": {
    "scrolled": true
   },
   "outputs": [
    {
     "data": {
      "text/html": [
       "<div>\n",
       "<style scoped>\n",
       "    .dataframe tbody tr th:only-of-type {\n",
       "        vertical-align: middle;\n",
       "    }\n",
       "\n",
       "    .dataframe tbody tr th {\n",
       "        vertical-align: top;\n",
       "    }\n",
       "\n",
       "    .dataframe thead th {\n",
       "        text-align: right;\n",
       "    }\n",
       "</style>\n",
       "<table border=\"1\" class=\"dataframe\">\n",
       "  <thead>\n",
       "    <tr style=\"text-align: right;\">\n",
       "      <th></th>\n",
       "      <th>ID</th>\n",
       "    </tr>\n",
       "    <tr>\n",
       "      <th>价格</th>\n",
       "      <th></th>\n",
       "    </tr>\n",
       "  </thead>\n",
       "  <tbody>\n",
       "    <tr>\n",
       "      <th>$1,000.00</th>\n",
       "      <td>2.020000e+13</td>\n",
       "    </tr>\n",
       "    <tr>\n",
       "      <th>$1,050.00</th>\n",
       "      <td>2.020000e+13</td>\n",
       "    </tr>\n",
       "    <tr>\n",
       "      <th>$1,065.00</th>\n",
       "      <td>2.020000e+13</td>\n",
       "    </tr>\n",
       "    <tr>\n",
       "      <th>$1,067.00</th>\n",
       "      <td>2.020000e+13</td>\n",
       "    </tr>\n",
       "    <tr>\n",
       "      <th>$1,100.00</th>\n",
       "      <td>2.020000e+13</td>\n",
       "    </tr>\n",
       "    <tr>\n",
       "      <th>...</th>\n",
       "      <td>...</td>\n",
       "    </tr>\n",
       "    <tr>\n",
       "      <th>$988.00</th>\n",
       "      <td>2.020000e+13</td>\n",
       "    </tr>\n",
       "    <tr>\n",
       "      <th>$99.00</th>\n",
       "      <td>2.020000e+13</td>\n",
       "    </tr>\n",
       "    <tr>\n",
       "      <th>$995.00</th>\n",
       "      <td>2.020000e+13</td>\n",
       "    </tr>\n",
       "    <tr>\n",
       "      <th>$997.00</th>\n",
       "      <td>2.020000e+13</td>\n",
       "    </tr>\n",
       "    <tr>\n",
       "      <th>$999.00</th>\n",
       "      <td>2.020000e+13</td>\n",
       "    </tr>\n",
       "  </tbody>\n",
       "</table>\n",
       "<p>452 rows × 1 columns</p>\n",
       "</div>"
      ],
      "text/plain": [
       "                      ID\n",
       "价格                      \n",
       "$1,000.00   2.020000e+13\n",
       "$1,050.00   2.020000e+13\n",
       "$1,065.00   2.020000e+13\n",
       "$1,067.00   2.020000e+13\n",
       "$1,100.00   2.020000e+13\n",
       "...                  ...\n",
       "$988.00     2.020000e+13\n",
       "$99.00      2.020000e+13\n",
       "$995.00     2.020000e+13\n",
       "$997.00     2.020000e+13\n",
       "$999.00     2.020000e+13\n",
       "\n",
       "[452 rows x 1 columns]"
      ]
     },
     "execution_count": 30,
     "metadata": {},
     "output_type": "execute_result"
    }
   ],
   "source": [
    "df.groupby('价格').mean()"
   ]
  },
  {
   "cell_type": "code",
   "execution_count": null,
   "metadata": {},
   "outputs": [],
   "source": [
    "grouped = df.groupby(by='风向')\n",
    "grouped['PM2.5'].agg('mean')"
   ]
  },
  {
   "cell_type": "markdown",
   "metadata": {},
   "source": [
    "## 统计bool个数"
   ]
  },
  {
   "cell_type": "code",
   "execution_count": null,
   "metadata": {},
   "outputs": [],
   "source": [
    "print('True个数：',np.sum(df!=0))\n",
    "print('True个数：',np.sum(df!=1))"
   ]
  },
  {
   "cell_type": "markdown",
   "metadata": {},
   "source": [
    "## 饼图"
   ]
  },
  {
   "cell_type": "code",
   "execution_count": null,
   "metadata": {},
   "outputs": [],
   "source": [
    "labels=['精细化管理','可能沙尘传输']\n",
    "X=[np.sum(df2!=0),np.sum(df2==0)]  \n",
    "\n",
    "fig = plt.figure()\n",
    "plt.pie(X,labels=labels,autopct='%1.2f%%') #画饼图（数据，数据对应的标签，百分数保留两位小数点）\n",
    "plt.title(\"Pie chart\")\n",
    "\n",
    "plt.show() "
   ]
  },
  {
   "cell_type": "markdown",
   "metadata": {},
   "source": [
    "## 折线图"
   ]
  },
  {
   "cell_type": "code",
   "execution_count": null,
   "metadata": {},
   "outputs": [],
   "source": [
    "x_data = df['时间']\n",
    "y_data = df['PM2.5/PM10']\n",
    "y_data2 = 0.8\n",
    "\n",
    "plt.plot(x_data,y_data)\n",
    "#plt.plot(x_data,y_data2,color='red',linewidth=3.0,linestyle='-.')\n",
    "plt.show()"
   ]
  },
  {
   "cell_type": "markdown",
   "metadata": {},
   "source": [
    "## 散点图"
   ]
  },
  {
   "cell_type": "code",
   "execution_count": 2,
   "metadata": {},
   "outputs": [
    {
     "ename": "NameError",
     "evalue": "name 'df' is not defined",
     "output_type": "error",
     "traceback": [
      "\u001b[1;31m---------------------------------------------------------------------------\u001b[0m",
      "\u001b[1;31mNameError\u001b[0m                                 Traceback (most recent call last)",
      "\u001b[1;32m<ipython-input-2-1a452a7daa79>\u001b[0m in \u001b[0;36m<module>\u001b[1;34m\u001b[0m\n\u001b[1;32m----> 1\u001b[1;33m \u001b[0mx\u001b[0m \u001b[1;33m=\u001b[0m \u001b[0mdf\u001b[0m\u001b[1;33m[\u001b[0m\u001b[1;34m'PM2.5'\u001b[0m\u001b[1;33m]\u001b[0m\u001b[1;33m\u001b[0m\u001b[1;33m\u001b[0m\u001b[0m\n\u001b[0m\u001b[0;32m      2\u001b[0m \u001b[0my\u001b[0m \u001b[1;33m=\u001b[0m \u001b[0mdf\u001b[0m\u001b[1;33m[\u001b[0m\u001b[1;34m'PM10'\u001b[0m\u001b[1;33m]\u001b[0m\u001b[1;33m\u001b[0m\u001b[1;33m\u001b[0m\u001b[0m\n\u001b[0;32m      3\u001b[0m \u001b[1;33m\u001b[0m\u001b[0m\n\u001b[0;32m      4\u001b[0m \u001b[0mplt\u001b[0m\u001b[1;33m.\u001b[0m\u001b[0mscatter\u001b[0m\u001b[1;33m(\u001b[0m\u001b[0mx\u001b[0m\u001b[1;33m,\u001b[0m \u001b[0my\u001b[0m\u001b[1;33m)\u001b[0m\u001b[1;33m\u001b[0m\u001b[1;33m\u001b[0m\u001b[0m\n\u001b[0;32m      5\u001b[0m \u001b[0mplt\u001b[0m\u001b[1;33m.\u001b[0m\u001b[0mshow\u001b[0m\u001b[1;33m(\u001b[0m\u001b[1;33m)\u001b[0m\u001b[1;33m\u001b[0m\u001b[1;33m\u001b[0m\u001b[0m\n",
      "\u001b[1;31mNameError\u001b[0m: name 'df' is not defined"
     ]
    }
   ],
   "source": [
    "x = df['PM2.5']\n",
    "y = df['PM10']\n",
    "\n",
    "plt.scatter(x, y)\n",
    "plt.show()"
   ]
  },
  {
   "cell_type": "markdown",
   "metadata": {},
   "source": [
    "## 柱状图"
   ]
  },
  {
   "cell_type": "code",
   "execution_count": null,
   "metadata": {},
   "outputs": [],
   "source": [
    "plt.rcParams['font.sans-serif'] = ['SimHei']\n",
    "plt.rcParams['axes.unicode_minus'] = False\n",
    "\n",
    "waters = ('碳酸饮料', '绿茶', '矿泉水', '果汁', '其他')\n",
    "buy_number = [6, 7, 6, 1, 2]\n",
    "\n",
    "plt.bar(waters, buy_number)\n",
    "plt.title('男性购买饮用水情况的调查结果')\n",
    "\n",
    "plt.show()\n",
    "\n",
    "# import matplotlib.pyplot as plt\n",
    "\n",
    "# # 这两行代码解决 plt 中文显示的问题\n",
    "# plt.rcParams['font.sans-serif'] = ['SimHei']\n",
    "# plt.rcParams['axes.unicode_minus'] = False\n",
    "\n",
    "# waters = ('碳酸饮料', '绿茶', '矿泉水', '果汁', '其他')\n",
    "# buy_number = [6, 7, 6, 1, 2]\n",
    "\n",
    "# plt.barh(waters, buy_number)  # 横放条形图函数 barh\n",
    "# plt.title('男性购买饮用水情况的调查结果')\n",
    "\n",
    "# plt.show()"
   ]
  },
  {
   "cell_type": "markdown",
   "metadata": {},
   "source": [
    "## 直方图"
   ]
  },
  {
   "cell_type": "code",
   "execution_count": 5,
   "metadata": {},
   "outputs": [
    {
     "data": {
      "image/png": "[encoded data removed]",
      "text/plain": [
       "<Figure size 432x288 with 1 Axes>"
      ]
     },
     "metadata": {
      "needs_background": "light"
     },
     "output_type": "display_data"
    }
   ],
   "source": [
    "x = [141, 159, 166, 172, 177, 182, 188, 196, 203, 214,\n",
    "     143, 160, 167, 173, 177, 183, 189, 196, 203, 215,\n",
    "     144, 160, 168, 173, 178, 184, 189, 196, 205, 218,\n",
    "     149, 161, 168, 174, 178, 185, 189, 196, 206, 223,\n",
    "     150, 161, 168, 174, 178, 186, 190, 196, 207, 225,\n",
    "     152, 162, 170, 174, 179, 186, 190, 197, 208, 226,\n",
    "     153, 163, 171, 175, 179, 187, 191, 197, 209, 228,\n",
    "     153, 163, 171, 175, 179, 187, 192, 198, 210, 233,\n",
    "     154, 164, 172, 175, 180, 187, 194, 198, 210, 233,\n",
    "     155, 165, 172, 175, 180, 187, 194, 200, 211, 234,\n",
    "     156, 165, 172, 176, 181, 188, 195, 201, 211, 234,\n",
    "     158, 165, 172, 176, 182, 188, 195, 202, 213, 237]\n",
    "\n",
    "plt.hist(x, edgecolor='k', alpha=0.35) # 设置直方边线颜色为黑色，不透明度为 0.35\n",
    "plt.show()"
   ]
  },
  {
   "cell_type": "markdown",
   "metadata": {},
   "source": [
    "## 合并数据"
   ]
  },
  {
   "cell_type": "code",
   "execution_count": null,
   "metadata": {},
   "outputs": [],
   "source": [
    "c= pd.merge(df,df2,left_on='时间',right_on='时间',how = 'left')\n",
    "\n",
    "pd.merge(D1, D2, on='id', how='left')  # 左连接\n",
    "pd.merge(D1, D2, on='id', how='right') # 右连接\n",
    "pd.merge(D1, D2, on='id', how='outer') # 全连接"
   ]
  },
  {
   "cell_type": "markdown",
   "metadata": {},
   "source": [
    "## 自动生成报告"
   ]
  },
  {
   "cell_type": "code",
   "execution_count": null,
   "metadata": {},
   "outputs": [],
   "source": [
    "pip install pandas_profiling\n",
    "import pandas_profiling as ppf\n",
    "ppf.ProfileReport(df)"
   ]
  },
  {
   "cell_type": "markdown",
   "metadata": {},
   "source": [
    "## 风玫瑰图"
   ]
  },
  {
   "cell_type": "code",
   "execution_count": null,
   "metadata": {},
   "outputs": [],
   "source": [
    "# 读取数据\n",
    "pm25W = pd.read_excel('E:\\windrose\\weatherAll1(3).xlsx')\n",
    "#加载字体\n",
    "font = FontProperties(fname=r\"c:\\windows\\fonts\\simsun.ttc\", size=15)\n",
    "\n",
    "\n",
    "def ShowAndSave_WindroseAxes(pm25W0,iname):\n",
    "    ax = windrose.WindroseAxes.from_ax()\n",
    "    ax.bar(pm25W0.wind_x, \n",
    "           pm25W0.wind_s, \n",
    "           nsector=16, # 散片个数\n",
    "           bins=[0,0.2,1.5,3.3,5.4,7.9,10.7,13.8,17.1], # 分段列表\n",
    "           #bins=1, # 分段个数\n",
    "           normed=True, opening=1, edgecolor='white')    \n",
    "    ax.set_legend() #图例\n",
    "    #ax.legend(loc=(-0.2,0.9)) #图例位置\n",
    "    ax.legend(loc=(-0.12,0.8)) #图例位置    \n",
    "    ax.set_title(iname,fontproperties=font) #标题    \n",
    "    savefig('./' + iname + '.png')\n",
    "\n",
    "pm25W1 = pm25W[pm25W.name == '巨轮']\n",
    "ShowAndSave_WindroseAxes(pm25W1,'巨轮')"
   ]
  },
  {
   "cell_type": "code",
   "execution_count": null,
   "metadata": {},
   "outputs": [],
   "source": []
  },
  {
   "cell_type": "markdown",
   "metadata": {},
   "source": [
    "## 定义最小二乘法函数"
   ]
  },
  {
   "cell_type": "markdown",
   "metadata": {},
   "source": [
    "Y = mx +b\n",
    "\n",
    "m = (mean(x) mean(y) – mean(xy)) / ( mean (x)^2 – mean( x^2))\n",
    "\n",
    "b = mean(y) – mean(x) * m"
   ]
  },
  {
   "cell_type": "markdown",
   "metadata": {},
   "source": [
    "## 分块数据 （测试数据和训练数据）"
   ]
  },
  {
   "cell_type": "code",
   "execution_count": null,
   "metadata": {},
   "outputs": [],
   "source": [
    "X_train, X_test, y_train, y_test = train_test_split(X, y, test_size=0.3, random_state=0)"
   ]
  },
  {
   "cell_type": "markdown",
   "metadata": {},
   "source": [
    "## 协方差矩阵"
   ]
  },
  {
   "cell_type": "code",
   "execution_count": 1,
   "metadata": {},
   "outputs": [
    {
     "ename": "NameError",
     "evalue": "name 'df' is not defined",
     "output_type": "error",
     "traceback": [
      "\u001b[1;31m---------------------------------------------------------------------------\u001b[0m",
      "\u001b[1;31mNameError\u001b[0m                                 Traceback (most recent call last)",
      "\u001b[1;32m<ipython-input-1-6f98a29763d5>\u001b[0m in \u001b[0;36m<module>\u001b[1;34m\u001b[0m\n\u001b[1;32m----> 1\u001b[1;33m \u001b[0mdf\u001b[0m\u001b[1;33m.\u001b[0m\u001b[0mcov\u001b[0m\u001b[1;33m(\u001b[0m\u001b[1;33m)\u001b[0m\u001b[1;33m\u001b[0m\u001b[1;33m\u001b[0m\u001b[0m\n\u001b[0m",
      "\u001b[1;31mNameError\u001b[0m: name 'df' is not defined"
     ]
    }
   ],
   "source": [
    "df.cov()   #协方差矩阵\n",
    "df.corr()  #相关系数"
   ]
  },
  {
   "cell_type": "code",
   "execution_count": null,
   "metadata": {},
   "outputs": [],
   "source": []
  }
 ],
 "metadata": {
  "kernelspec": {
   "display_name": "Python 3",
   "language": "python",
   "name": "python3"
  },
  "language_info": {
   "codemirror_mode": {
    "name": "ipython",
    "version": 3
   },
   "file_extension": ".py",
   "mimetype": "text/x-python",
   "name": "python",
   "nbconvert_exporter": "python",
   "pygments_lexer": "ipython3",
   "version": "3.8.3"
  },
  "toc": {
   "base_numbering": 1,
   "nav_menu": {},
   "number_sections": true,
   "sideBar": true,
   "skip_h1_title": false,
   "title_cell": "Table of Contents",
   "title_sidebar": "Contents",
   "toc_cell": false,
   "toc_position": {
    "height": "calc(100% - 180px)",
    "left": "10px",
    "top": "150px",
    "width": "384px"
   },
   "toc_section_display": true,
   "toc_window_display": true
  }
 },
 "nbformat": 4,
 "nbformat_minor": 4
}

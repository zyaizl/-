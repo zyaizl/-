{
 "cells": [
  {
   "cell_type": "markdown",
   "metadata": {},
   "source": []
  },
  {
   "cell_type": "markdown",
   "metadata": {},
   "source": [
    "# 构建环境"
   ]
  },
  {
   "cell_type": "markdown",
   "metadata": {},
   "source": [
    "## 导入常用包"
   ]
  },
  {
   "cell_type": "code",
   "execution_count": 2,
   "metadata": {},
   "outputs": [],
   "source": [
    "import numpy as np\n",
    "import pandas as pd\n",
    "\n",
    "import matplotlib\n",
    "import matplotlib.pyplot as plt\n",
    "from matplotlib import style\n",
    "%matplotlib inline\n",
    "import seaborn as sns\n",
    "\n",
    "\n",
    "import missingno as msno    # 查看数据完成性并可视化\n",
    "import pandas_profiling     # 自动生成基础报告\n",
    "\n",
    "\n",
    "import warnings\n",
    "warnings.filterwarnings('ignore') "
   ]
  },
  {
   "cell_type": "markdown",
   "metadata": {},
   "source": [
    "## 安装模块"
   ]
  },
  {
   "cell_type": "code",
   "execution_count": 4,
   "metadata": {
    "scrolled": true
   },
   "outputs": [
    {
     "name": "stdout",
     "output_type": "stream",
     "text": [
      "Requirement already satisfied: statsmodels in c:\\users\\administrator\\anaconda3\\lib\\site-packages (0.11.1)\n",
      "Requirement already satisfied: numpy>=1.14 in c:\\users\\administrator\\anaconda3\\lib\\site-packages (from statsmodels) (1.18.5)\n",
      "Requirement already satisfied: scipy>=1.0 in c:\\users\\administrator\\anaconda3\\lib\\site-packages (from statsmodels) (1.5.0)\n",
      "Requirement already satisfied: pandas>=0.21 in c:\\users\\administrator\\anaconda3\\lib\\site-packages (from statsmodels) (1.0.5)\n",
      "Requirement already satisfied: patsy>=0.5 in c:\\users\\administrator\\anaconda3\\lib\\site-packages (from statsmodels) (0.5.1)\n",
      "Requirement already satisfied: pytz>=2017.2 in c:\\users\\administrator\\anaconda3\\lib\\site-packages (from pandas>=0.21->statsmodels) (2020.1)\n",
      "Requirement already satisfied: python-dateutil>=2.6.1 in c:\\users\\administrator\\anaconda3\\lib\\site-packages (from pandas>=0.21->statsmodels) (2.8.1)\n",
      "Requirement already satisfied: six in c:\\users\\administrator\\anaconda3\\lib\\site-packages (from patsy>=0.5->statsmodels) (1.15.0)\n"
     ]
    }
   ],
   "source": [
    "! pip install statsmodels"
   ]
  },
  {
   "cell_type": "markdown",
   "metadata": {},
   "source": [
    "# 数据读存"
   ]
  },
  {
   "cell_type": "markdown",
   "metadata": {},
   "source": [
    "## pandas库读取"
   ]
  },
  {
   "cell_type": "code",
   "execution_count": 2,
   "metadata": {},
   "outputs": [],
   "source": [
    "df = pd.read_csv('listings.csv',usecols=[1,2,7,10,28])  # 读取csv格式固定列数据\n",
    "# df = pd.read_csv(\"redcard.csv.gz\", compression='gzip') # 直接读取\n",
    "#df = pd.read_csv('listings.csv')\n",
    "#df = pd.read_excel('listings.xlsx')\n",
    "# encoding='utf-8' \n",
    "\n",
    "data = pd.read_table('文件名',header=None,encoding='gb2312',sep=',',index_col=0)    # 读取text格式数据\n"
   ]
  },
  {
   "cell_type": "markdown",
   "metadata": {},
   "source": [
    "## 读取文本数据"
   ]
  },
  {
   "cell_type": "code",
   "execution_count": null,
   "metadata": {},
   "outputs": [],
   "source": [
    "# 定义数据文件\n",
    "file_name = 'd:/python/text/'\n",
    "# 获取文件对象\n",
    "file_object = open(file_name)\n",
    "# 读取文件内容\n",
    "read_data = file_object.read()\n",
    "print(read_data)"
   ]
  },
  {
   "cell_type": "markdown",
   "metadata": {},
   "source": [
    "## 读取多个数据"
   ]
  },
  {
   "cell_type": "code",
   "execution_count": null,
   "metadata": {},
   "outputs": [],
   "source": [
    "# 读取 所有csv 文件\n",
    "\n",
    "files_csv =[]\n",
    "path = 'E:/城市空气质量/城市'\n",
    "files = os.listdir(path)\n",
    "files_csv = list(filter(lambda x: x[-4:]=='.csv' , files))\n",
    "files_csv += files_csv\n",
    "\n",
    "#定义一个空列表\n",
    "data_list = []\n",
    "\n",
    "#函数re.compile将正则表达式（以字符串书写的）转换为模式对象\n",
    "num_filter = re.compile(r'\\d+')\n",
    "\n",
    "for file in  files_csv:\n",
    "    tmp = pd.read_csv(path + \"/\"+file)[['date', 'hour','type','呼和浩特']]\n",
    "    data_list.append(tmp)"
   ]
  },
  {
   "cell_type": "markdown",
   "metadata": {},
   "source": [
    "## 创造数据"
   ]
  },
  {
   "cell_type": "code",
   "execution_count": 2,
   "metadata": {},
   "outputs": [
    {
     "data": {
      "text/plain": [
       "array([[0., 0., 0., 0.],\n",
       "       [0., 0., 0., 0.],\n",
       "       [0., 0., 0., 0.]])"
      ]
     },
     "execution_count": 2,
     "metadata": {},
     "output_type": "execute_result"
    }
   ],
   "source": [
    "np.zeros((3,4)) # ones"
   ]
  },
  {
   "cell_type": "code",
   "execution_count": 9,
   "metadata": {},
   "outputs": [
    {
     "data": {
      "text/plain": [
       "array([[0, 1, 2],\n",
       "       [3, 4, 5],\n",
       "       [6, 7, 8]])"
      ]
     },
     "execution_count": 9,
     "metadata": {},
     "output_type": "execute_result"
    }
   ],
   "source": [
    "np.arange(0,9,1).reshape(3,3)"
   ]
  },
  {
   "cell_type": "code",
   "execution_count": 19,
   "metadata": {},
   "outputs": [
    {
     "name": "stdout",
     "output_type": "stream",
     "text": [
      "[[0 1 1]\n",
      " [4 4 0]\n",
      " [2 4 3]\n",
      " [0 0 0]\n",
      " [1 2 2]\n",
      " [4 3 0]\n",
      " [0 4 3]\n",
      " [2 0 3]]\n"
     ]
    },
    {
     "data": {
      "text/plain": [
       "array([[0.64225552, 0.34470588, 0.94836011],\n",
       "       [0.53028796, 0.75643663, 0.19859592]])"
      ]
     },
     "execution_count": 19,
     "metadata": {},
     "output_type": "execute_result"
    }
   ],
   "source": [
    "print(np.random.randint(5,size=(8,3)))\n",
    "np.random.random((2,3))"
   ]
  },
  {
   "cell_type": "markdown",
   "metadata": {},
   "source": [
    "## 整合数据"
   ]
  },
  {
   "cell_type": "code",
   "execution_count": null,
   "metadata": {},
   "outputs": [],
   "source": [
    "listname = ['PM2.5','CO_','BC_','CO2-EXCL-BF','NH3','NOX','PM10_','SO2','CO_','CO_']\n",
    "for name in listname:\n",
    "    path= r'2015/REASv3.2_{}_TOTAL_2015_0.25x0.25'.format(name)\n",
    "    f = open(path).read()\n",
    "    ff = f.replace(' ',',')\n",
    "    ff = ff.replace(',,',',')\n",
    "    ff = ff.replace(',,',',')\n",
    "    path1 = r'2015/{}.txt'.format(name)\n",
    "    fl = open(path1,'w')\n",
    "    fl.write(ff)\n",
    "    df = pd.read_table(path,skiprows=9,sep=',', names=['a','lon','lat','month1','month2','month3','month4','month5','month6','month7','month8','month9','month10','month11','month12'])"
   ]
  },
  {
   "cell_type": "markdown",
   "metadata": {},
   "source": [
    "## 保存数据"
   ]
  },
  {
   "cell_type": "code",
   "execution_count": 7,
   "metadata": {},
   "outputs": [],
   "source": [
    "df.to_csv('output.csv',index=False)"
   ]
  },
  {
   "cell_type": "markdown",
   "metadata": {},
   "source": [
    "# 数据检查"
   ]
  },
  {
   "cell_type": "markdown",
   "metadata": {},
   "source": [
    "## 数据预览"
   ]
  },
  {
   "cell_type": "code",
   "execution_count": 8,
   "metadata": {
    "scrolled": false
   },
   "outputs": [
    {
     "data": {
      "text/html": [
       "<div>\n",
       "<style scoped>\n",
       "    .dataframe tbody tr th:only-of-type {\n",
       "        vertical-align: middle;\n",
       "    }\n",
       "\n",
       "    .dataframe tbody tr th {\n",
       "        vertical-align: top;\n",
       "    }\n",
       "\n",
       "    .dataframe thead th {\n",
       "        text-align: right;\n",
       "    }\n",
       "</style>\n",
       "<table border=\"1\" class=\"dataframe\">\n",
       "  <thead>\n",
       "    <tr style=\"text-align: right;\">\n",
       "      <th></th>\n",
       "      <th>scrape_id</th>\n",
       "      <th>last_scraped</th>\n",
       "      <th>host_since</th>\n",
       "      <th>neighbourhood</th>\n",
       "      <th>price</th>\n",
       "    </tr>\n",
       "  </thead>\n",
       "  <tbody>\n",
       "    <tr>\n",
       "      <th>0</th>\n",
       "      <td>2.020000e+13</td>\n",
       "      <td>1/2/15</td>\n",
       "      <td>4/10/13</td>\n",
       "      <td>Midtown East</td>\n",
       "      <td>$160.00</td>\n",
       "    </tr>\n",
       "    <tr>\n",
       "      <th>1</th>\n",
       "      <td>2.020000e+13</td>\n",
       "      <td>1/2/15</td>\n",
       "      <td>6/13/12</td>\n",
       "      <td>Hamilton Heights</td>\n",
       "      <td>$105.00</td>\n",
       "    </tr>\n",
       "    <tr>\n",
       "      <th>2</th>\n",
       "      <td>2.020000e+13</td>\n",
       "      <td>1/2/15</td>\n",
       "      <td>1/5/13</td>\n",
       "      <td>Bushwick</td>\n",
       "      <td>$58.00</td>\n",
       "    </tr>\n",
       "    <tr>\n",
       "      <th>3</th>\n",
       "      <td>2.020000e+13</td>\n",
       "      <td>1/3/15</td>\n",
       "      <td>8/11/10</td>\n",
       "      <td>West Village</td>\n",
       "      <td>$185.00</td>\n",
       "    </tr>\n",
       "    <tr>\n",
       "      <th>4</th>\n",
       "      <td>2.020000e+13</td>\n",
       "      <td>1/2/15</td>\n",
       "      <td>10/15/14</td>\n",
       "      <td>Chelsea</td>\n",
       "      <td>$195.00</td>\n",
       "    </tr>\n",
       "  </tbody>\n",
       "</table>\n",
       "</div>"
      ],
      "text/plain": [
       "      scrape_id last_scraped host_since     neighbourhood     price\n",
       "0  2.020000e+13       1/2/15    4/10/13      Midtown East  $160.00 \n",
       "1  2.020000e+13       1/2/15    6/13/12  Hamilton Heights  $105.00 \n",
       "2  2.020000e+13       1/2/15     1/5/13          Bushwick   $58.00 \n",
       "3  2.020000e+13       1/3/15    8/11/10      West Village  $185.00 \n",
       "4  2.020000e+13       1/2/15   10/15/14           Chelsea  $195.00 "
      ]
     },
     "execution_count": 8,
     "metadata": {},
     "output_type": "execute_result"
    }
   ],
   "source": [
    "df.head()"
   ]
  },
  {
   "cell_type": "code",
   "execution_count": 10,
   "metadata": {},
   "outputs": [
    {
     "data": {
      "text/plain": [
       "(27392, 5)"
      ]
     },
     "execution_count": 10,
     "metadata": {},
     "output_type": "execute_result"
    }
   ],
   "source": [
    "df.shape"
   ]
  },
  {
   "cell_type": "code",
   "execution_count": 11,
   "metadata": {
    "scrolled": true
   },
   "outputs": [
    {
     "data": {
      "text/plain": [
       "['scrape_id', 'last_scraped', 'host_since', 'neighbourhood', 'price']"
      ]
     },
     "execution_count": 11,
     "metadata": {},
     "output_type": "execute_result"
    }
   ],
   "source": [
    "list(df.columns)"
   ]
  },
  {
   "cell_type": "markdown",
   "metadata": {},
   "source": [
    "## 查看非重复值"
   ]
  },
  {
   "cell_type": "code",
   "execution_count": null,
   "metadata": {},
   "outputs": [],
   "source": [
    "df[\"风向\"].unique()\n",
    "\n",
    "data.drop_duplicates()# 去重"
   ]
  },
  {
   "cell_type": "code",
   "execution_count": null,
   "metadata": {},
   "outputs": [],
   "source": [
    "print('Number of Unique Accomodation: ', np.unique(data['accommodates']))\n",
    "for i in range(1, 17):\n",
    "    print('Accommodation {}:'.format(i), len(data[data['accommodates'] == i]))"
   ]
  },
  {
   "cell_type": "markdown",
   "metadata": {},
   "source": [
    "## 缺失值可视化"
   ]
  },
  {
   "cell_type": "code",
   "execution_count": null,
   "metadata": {},
   "outputs": [],
   "source": [
    "import missingno as msno\n",
    "msno.matrix(players.sample(500),\n",
    "            figsize=(16, 7),\n",
    "            width_ratios=(15, 1))\n",
    "\n",
    "# 缺失值柱状图\n",
    "msno.bar(players.sample(1000))\n"
   ]
  },
  {
   "cell_type": "code",
   "execution_count": null,
   "metadata": {},
   "outputs": [],
   "source": [
    "# 缺失值之间的关系\n",
    "msno.heatmap(players.sample(500),\n",
    "            figsize=(16, 7),)"
   ]
  },
  {
   "cell_type": "markdown",
   "metadata": {},
   "source": [
    "## 检查空值数量"
   ]
  },
  {
   "cell_type": "code",
   "execution_count": 6,
   "metadata": {
    "scrolled": false
   },
   "outputs": [
    {
     "name": "stdout",
     "output_type": "stream",
     "text": [
      "scrape_id, 空值数据: 0\n",
      "last_scraped, 空值数据: 0\n",
      "host_since, 空值数据: 0\n",
      "neighbourhood, 空值数据: 2027\n",
      "price, 空值数据: 0\n"
     ]
    }
   ],
   "source": [
    "for col in df.columns:\n",
    "    print (col + ', 空值数据:', len(df[col][df[col].isnull()]))"
   ]
  },
  {
   "cell_type": "markdown",
   "metadata": {},
   "source": [
    "## 查找空值的行列"
   ]
  },
  {
   "cell_type": "code",
   "execution_count": null,
   "metadata": {},
   "outputs": [],
   "source": [
    "print(df[df.isnull().T.any()])"
   ]
  },
  {
   "cell_type": "markdown",
   "metadata": {},
   "source": [
    "## 基础数据报告"
   ]
  },
  {
   "cell_type": "code",
   "execution_count": null,
   "metadata": {},
   "outputs": [],
   "source": [
    "import pandas_profiling\n",
    "pandas_profiling.ProfileReport(time_slice(data, '2013-2017'))"
   ]
  },
  {
   "cell_type": "markdown",
   "metadata": {},
   "source": [
    "# 数据处理"
   ]
  },
  {
   "cell_type": "markdown",
   "metadata": {},
   "source": [
    "## 删"
   ]
  },
  {
   "cell_type": "markdown",
   "metadata": {},
   "source": [
    "### 删除有空值的行"
   ]
  },
  {
   "cell_type": "code",
   "execution_count": 7,
   "metadata": {},
   "outputs": [
    {
     "data": {
      "text/html": [
       "<div>\n",
       "<style scoped>\n",
       "    .dataframe tbody tr th:only-of-type {\n",
       "        vertical-align: middle;\n",
       "    }\n",
       "\n",
       "    .dataframe tbody tr th {\n",
       "        vertical-align: top;\n",
       "    }\n",
       "\n",
       "    .dataframe thead th {\n",
       "        text-align: right;\n",
       "    }\n",
       "</style>\n",
       "<table border=\"1\" class=\"dataframe\">\n",
       "  <thead>\n",
       "    <tr style=\"text-align: right;\">\n",
       "      <th></th>\n",
       "      <th>scrape_id</th>\n",
       "      <th>last_scraped</th>\n",
       "      <th>host_since</th>\n",
       "      <th>neighbourhood</th>\n",
       "      <th>price</th>\n",
       "    </tr>\n",
       "  </thead>\n",
       "  <tbody>\n",
       "    <tr>\n",
       "      <th>0</th>\n",
       "      <td>2.020000e+13</td>\n",
       "      <td>1/2/15</td>\n",
       "      <td>4/10/13</td>\n",
       "      <td>Midtown East</td>\n",
       "      <td>$160.00</td>\n",
       "    </tr>\n",
       "    <tr>\n",
       "      <th>1</th>\n",
       "      <td>2.020000e+13</td>\n",
       "      <td>1/2/15</td>\n",
       "      <td>6/13/12</td>\n",
       "      <td>Hamilton Heights</td>\n",
       "      <td>$105.00</td>\n",
       "    </tr>\n",
       "    <tr>\n",
       "      <th>2</th>\n",
       "      <td>2.020000e+13</td>\n",
       "      <td>1/2/15</td>\n",
       "      <td>1/5/13</td>\n",
       "      <td>Bushwick</td>\n",
       "      <td>$58.00</td>\n",
       "    </tr>\n",
       "    <tr>\n",
       "      <th>3</th>\n",
       "      <td>2.020000e+13</td>\n",
       "      <td>1/3/15</td>\n",
       "      <td>8/11/10</td>\n",
       "      <td>West Village</td>\n",
       "      <td>$185.00</td>\n",
       "    </tr>\n",
       "    <tr>\n",
       "      <th>4</th>\n",
       "      <td>2.020000e+13</td>\n",
       "      <td>1/2/15</td>\n",
       "      <td>10/15/14</td>\n",
       "      <td>Chelsea</td>\n",
       "      <td>$195.00</td>\n",
       "    </tr>\n",
       "    <tr>\n",
       "      <th>...</th>\n",
       "      <td>...</td>\n",
       "      <td>...</td>\n",
       "      <td>...</td>\n",
       "      <td>...</td>\n",
       "      <td>...</td>\n",
       "    </tr>\n",
       "    <tr>\n",
       "      <th>27387</th>\n",
       "      <td>2.020000e+13</td>\n",
       "      <td>1/2/15</td>\n",
       "      <td>12/8/11</td>\n",
       "      <td>Kips Bay</td>\n",
       "      <td>$130.00</td>\n",
       "    </tr>\n",
       "    <tr>\n",
       "      <th>27388</th>\n",
       "      <td>2.020000e+13</td>\n",
       "      <td>1/2/15</td>\n",
       "      <td>4/15/13</td>\n",
       "      <td>Times Square/Theatre District</td>\n",
       "      <td>$139.00</td>\n",
       "    </tr>\n",
       "    <tr>\n",
       "      <th>27389</th>\n",
       "      <td>2.020000e+13</td>\n",
       "      <td>1/3/15</td>\n",
       "      <td>6/18/12</td>\n",
       "      <td>St. George</td>\n",
       "      <td>$99.00</td>\n",
       "    </tr>\n",
       "    <tr>\n",
       "      <th>27390</th>\n",
       "      <td>2.020000e+13</td>\n",
       "      <td>1/2/15</td>\n",
       "      <td>12/19/10</td>\n",
       "      <td>Crown Heights</td>\n",
       "      <td>$55.00</td>\n",
       "    </tr>\n",
       "    <tr>\n",
       "      <th>27391</th>\n",
       "      <td>2.020000e+13</td>\n",
       "      <td>1/2/15</td>\n",
       "      <td>6/20/12</td>\n",
       "      <td>Hell's Kitchen</td>\n",
       "      <td>$110.00</td>\n",
       "    </tr>\n",
       "  </tbody>\n",
       "</table>\n",
       "<p>25365 rows × 5 columns</p>\n",
       "</div>"
      ],
      "text/plain": [
       "          scrape_id last_scraped host_since                  neighbourhood  \\\n",
       "0      2.020000e+13       1/2/15    4/10/13                   Midtown East   \n",
       "1      2.020000e+13       1/2/15    6/13/12               Hamilton Heights   \n",
       "2      2.020000e+13       1/2/15     1/5/13                       Bushwick   \n",
       "3      2.020000e+13       1/3/15    8/11/10                   West Village   \n",
       "4      2.020000e+13       1/2/15   10/15/14                        Chelsea   \n",
       "...             ...          ...        ...                            ...   \n",
       "27387  2.020000e+13       1/2/15    12/8/11                       Kips Bay   \n",
       "27388  2.020000e+13       1/2/15    4/15/13  Times Square/Theatre District   \n",
       "27389  2.020000e+13       1/3/15    6/18/12                     St. George   \n",
       "27390  2.020000e+13       1/2/15   12/19/10                  Crown Heights   \n",
       "27391  2.020000e+13       1/2/15    6/20/12                 Hell's Kitchen   \n",
       "\n",
       "          price  \n",
       "0      $160.00   \n",
       "1      $105.00   \n",
       "2       $58.00   \n",
       "3      $185.00   \n",
       "4      $195.00   \n",
       "...         ...  \n",
       "27387  $130.00   \n",
       "27388  $139.00   \n",
       "27389   $99.00   \n",
       "27390   $55.00   \n",
       "27391  $110.00   \n",
       "\n",
       "[25365 rows x 5 columns]"
      ]
     },
     "execution_count": 7,
     "metadata": {},
     "output_type": "execute_result"
    }
   ],
   "source": [
    "df.dropna(axis=0, how='any')\n",
    "#  df = df[~df['neighbourhood'].isnull()]\n",
    "#  按行删除：所有数据都为空值，即删除该行\n",
    "# 例子 （删除特点列的空值）\n",
    "# original = len(data)\n",
    "# data = data.dropna(how='any', subset=['zipcode', 'property_type', 'bedrooms', 'beds', 'bathrooms'])\n",
    "# print('Number of NaN values removed:', original - len(data))"
   ]
  },
  {
   "cell_type": "code",
   "execution_count": 12,
   "metadata": {
    "scrolled": false
   },
   "outputs": [
    {
     "data": {
      "text/html": [
       "<div>\n",
       "<style scoped>\n",
       "    .dataframe tbody tr th:only-of-type {\n",
       "        vertical-align: middle;\n",
       "    }\n",
       "\n",
       "    .dataframe tbody tr th {\n",
       "        vertical-align: top;\n",
       "    }\n",
       "\n",
       "    .dataframe thead th {\n",
       "        text-align: right;\n",
       "    }\n",
       "</style>\n",
       "<table border=\"1\" class=\"dataframe\">\n",
       "  <thead>\n",
       "    <tr style=\"text-align: right;\">\n",
       "      <th></th>\n",
       "      <th>scrape_id</th>\n",
       "      <th>last_scraped</th>\n",
       "      <th>host_since</th>\n",
       "      <th>neighbourhood</th>\n",
       "      <th>price</th>\n",
       "    </tr>\n",
       "  </thead>\n",
       "  <tbody>\n",
       "    <tr>\n",
       "      <th>0</th>\n",
       "      <td>2.020000e+13</td>\n",
       "      <td>1/2/15</td>\n",
       "      <td>4/10/13</td>\n",
       "      <td>Midtown East</td>\n",
       "      <td>$160.00</td>\n",
       "    </tr>\n",
       "    <tr>\n",
       "      <th>1</th>\n",
       "      <td>2.020000e+13</td>\n",
       "      <td>1/2/15</td>\n",
       "      <td>6/13/12</td>\n",
       "      <td>Hamilton Heights</td>\n",
       "      <td>$105.00</td>\n",
       "    </tr>\n",
       "    <tr>\n",
       "      <th>2</th>\n",
       "      <td>2.020000e+13</td>\n",
       "      <td>1/2/15</td>\n",
       "      <td>1/5/13</td>\n",
       "      <td>Bushwick</td>\n",
       "      <td>$58.00</td>\n",
       "    </tr>\n",
       "    <tr>\n",
       "      <th>3</th>\n",
       "      <td>2.020000e+13</td>\n",
       "      <td>1/3/15</td>\n",
       "      <td>8/11/10</td>\n",
       "      <td>West Village</td>\n",
       "      <td>$185.00</td>\n",
       "    </tr>\n",
       "    <tr>\n",
       "      <th>4</th>\n",
       "      <td>2.020000e+13</td>\n",
       "      <td>1/2/15</td>\n",
       "      <td>10/15/14</td>\n",
       "      <td>Chelsea</td>\n",
       "      <td>$195.00</td>\n",
       "    </tr>\n",
       "    <tr>\n",
       "      <th>...</th>\n",
       "      <td>...</td>\n",
       "      <td>...</td>\n",
       "      <td>...</td>\n",
       "      <td>...</td>\n",
       "      <td>...</td>\n",
       "    </tr>\n",
       "    <tr>\n",
       "      <th>27387</th>\n",
       "      <td>2.020000e+13</td>\n",
       "      <td>1/2/15</td>\n",
       "      <td>12/8/11</td>\n",
       "      <td>Kips Bay</td>\n",
       "      <td>$130.00</td>\n",
       "    </tr>\n",
       "    <tr>\n",
       "      <th>27388</th>\n",
       "      <td>2.020000e+13</td>\n",
       "      <td>1/2/15</td>\n",
       "      <td>4/15/13</td>\n",
       "      <td>Times Square/Theatre District</td>\n",
       "      <td>$139.00</td>\n",
       "    </tr>\n",
       "    <tr>\n",
       "      <th>27389</th>\n",
       "      <td>2.020000e+13</td>\n",
       "      <td>1/3/15</td>\n",
       "      <td>6/18/12</td>\n",
       "      <td>St. George</td>\n",
       "      <td>$99.00</td>\n",
       "    </tr>\n",
       "    <tr>\n",
       "      <th>27390</th>\n",
       "      <td>2.020000e+13</td>\n",
       "      <td>1/2/15</td>\n",
       "      <td>12/19/10</td>\n",
       "      <td>Crown Heights</td>\n",
       "      <td>$55.00</td>\n",
       "    </tr>\n",
       "    <tr>\n",
       "      <th>27391</th>\n",
       "      <td>2.020000e+13</td>\n",
       "      <td>1/2/15</td>\n",
       "      <td>6/20/12</td>\n",
       "      <td>Hell's Kitchen</td>\n",
       "      <td>$110.00</td>\n",
       "    </tr>\n",
       "  </tbody>\n",
       "</table>\n",
       "<p>25365 rows × 5 columns</p>\n",
       "</div>"
      ],
      "text/plain": [
       "          scrape_id last_scraped host_since                  neighbourhood  \\\n",
       "0      2.020000e+13       1/2/15    4/10/13                   Midtown East   \n",
       "1      2.020000e+13       1/2/15    6/13/12               Hamilton Heights   \n",
       "2      2.020000e+13       1/2/15     1/5/13                       Bushwick   \n",
       "3      2.020000e+13       1/3/15    8/11/10                   West Village   \n",
       "4      2.020000e+13       1/2/15   10/15/14                        Chelsea   \n",
       "...             ...          ...        ...                            ...   \n",
       "27387  2.020000e+13       1/2/15    12/8/11                       Kips Bay   \n",
       "27388  2.020000e+13       1/2/15    4/15/13  Times Square/Theatre District   \n",
       "27389  2.020000e+13       1/3/15    6/18/12                     St. George   \n",
       "27390  2.020000e+13       1/2/15   12/19/10                  Crown Heights   \n",
       "27391  2.020000e+13       1/2/15    6/20/12                 Hell's Kitchen   \n",
       "\n",
       "          price  \n",
       "0      $160.00   \n",
       "1      $105.00   \n",
       "2       $58.00   \n",
       "3      $185.00   \n",
       "4      $195.00   \n",
       "...         ...  \n",
       "27387  $130.00   \n",
       "27388  $139.00   \n",
       "27389   $99.00   \n",
       "27390   $55.00   \n",
       "27391  $110.00   \n",
       "\n",
       "[25365 rows x 5 columns]"
      ]
     },
     "execution_count": 12,
     "metadata": {},
     "output_type": "execute_result"
    }
   ],
   "source": [
    "df.dropna()"
   ]
  },
  {
   "cell_type": "code",
   "execution_count": null,
   "metadata": {},
   "outputs": [],
   "source": [
    "google.isnull().any()"
   ]
  },
  {
   "cell_type": "code",
   "execution_count": null,
   "metadata": {},
   "outputs": [],
   "source": [
    "google.isnull().sum()"
   ]
  },
  {
   "cell_type": "markdown",
   "metadata": {},
   "source": [
    "### 平均值填充缺失值"
   ]
  },
  {
   "cell_type": "code",
   "execution_count": null,
   "metadata": {},
   "outputs": [],
   "source": [
    "for column in list(df.columns[df.isnull().sum() > 0]):\n",
    "    mean_val = df[column].mean()\n",
    "    df[column].fillna(mean_val, inplace=True)\n",
    "\n",
    "# dataframe.ffill()   # 向前填充\n",
    "# dataframe.bfill()   # 向后填充"
   ]
  },
  {
   "cell_type": "markdown",
   "metadata": {},
   "source": [
    "### 插值法填充缺失值"
   ]
  },
  {
   "cell_type": "code",
   "execution_count": null,
   "metadata": {},
   "outputs": [],
   "source": [
    "for column in list(df.columns[df.isnull().sum() > 0]):\n",
    "    df[column].interpolate()  #dataframe.interpolate(method=\"quadratic\")"
   ]
  },
  {
   "cell_type": "code",
   "execution_count": null,
   "metadata": {},
   "outputs": [],
   "source": [
    "df2.fillna(method='ffill')"
   ]
  },
  {
   "cell_type": "markdown",
   "metadata": {},
   "source": [
    "###  剔除、填充异常值"
   ]
  },
  {
   "cell_type": "code",
   "execution_count": null,
   "metadata": {},
   "outputs": [],
   "source": [
    "da = data.values#重新赋值data\n",
    "#异常值处理，将commments大于200000的数据comments设置为58\n",
    "cont_clou = len(da)#获取行数\n",
    "#遍历数据进行处理\n",
    "for i in range(0,cont_clou):\n",
    "    if(data.values[i][3]>200000):\n",
    "        #print(data.values[i][3])\n",
    "        da[i][3]='58'\n",
    "        #print(da[i][3])"
   ]
  },
  {
   "cell_type": "code",
   "execution_count": null,
   "metadata": {},
   "outputs": [],
   "source": [
    "print ('Number of Accommodates 0:', len(data[data['accommodates'] == 0]))\n",
    "print ('Number of Bedrooms 0:', len(data[data['bedrooms'] == 0]))\n",
    "print ('Number of Beds 0:', len(data[data['beds'] == 0]))\n",
    "print ('Number of Listings with Price $0.00:', len(data[data['price'] == 0.00]))\n",
    "\n",
    "data = data[data['accommodates'] != 0]\n",
    "data = data[data['bedrooms'] != 0]\n",
    "data = data[data['beds'] != 0]\n",
    "data = data[data['price'] != 0.00]"
   ]
  },
  {
   "cell_type": "markdown",
   "metadata": {},
   "source": [
    "### 去除重复值"
   ]
  },
  {
   "cell_type": "code",
   "execution_count": null,
   "metadata": {},
   "outputs": [],
   "source": [
    "#按key去重\n",
    "datacln=data.drop_duplicates(\"KEY\")\n",
    "datacln"
   ]
  },
  {
   "cell_type": "markdown",
   "metadata": {},
   "source": [
    "### 删除某列"
   ]
  },
  {
   "cell_type": "code",
   "execution_count": null,
   "metadata": {},
   "outputs": [],
   "source": [
    "df.drop(columns=['id'])"
   ]
  },
  {
   "cell_type": "code",
   "execution_count": null,
   "metadata": {},
   "outputs": [],
   "source": [
    "#Drop rows\n",
    ">>>df.drop([0, 1])\n",
    "   A  B   C   D\n",
    "2  8  9  10  11"
   ]
  },
  {
   "cell_type": "code",
   "execution_count": null,
   "metadata": {},
   "outputs": [],
   "source": [
    "feature.drop([feature.columns[0]], axis=1)"
   ]
  },
  {
   "cell_type": "code",
   "execution_count": null,
   "metadata": {},
   "outputs": [],
   "source": [
    "#删除table值为sc的那一行\n",
    "df.drop(index=(df.loc[(df['table']=='sc')].index))"
   ]
  },
  {
   "cell_type": "markdown",
   "metadata": {},
   "source": [
    "### 削峰模拟"
   ]
  },
  {
   "cell_type": "code",
   "execution_count": null,
   "metadata": {},
   "outputs": [],
   "source": [
    "## 查看分位数  \n",
    "df_pm25.pm25.quantile(0.90)"
   ]
  },
  {
   "cell_type": "code",
   "execution_count": null,
   "metadata": {},
   "outputs": [],
   "source": [
    "## 削峰模拟\n",
    "df_pm25.pm25[df_pm25['pm25']>48]=48\n",
    "df_pm25"
   ]
  },
  {
   "cell_type": "markdown",
   "metadata": {},
   "source": [
    "### 将0值替换为'No Reviews'"
   ]
  },
  {
   "cell_type": "code",
   "execution_count": null,
   "metadata": {},
   "outputs": [],
   "source": [
    "\n",
    "idx_vals = data['review_scores_rating'][data['number_of_reviews'] == 0].index.values.tolist() # 找到行数\n",
    "data.loc[idx_vals, 'review_scores_rating'] = data['review_scores_rating'][data['number_of_reviews'] == 0].replace(np.nan, 'No Reviews')"
   ]
  },
  {
   "cell_type": "markdown",
   "metadata": {},
   "source": [
    "## 增"
   ]
  },
  {
   "cell_type": "markdown",
   "metadata": {},
   "source": [
    "### 增加一列"
   ]
  },
  {
   "cell_type": "code",
   "execution_count": null,
   "metadata": {},
   "outputs": [],
   "source": [
    "df['成本'] = df['价格']-df['价格']*0.68\n",
    "\n",
    "df2 = df.assign(ration = df['data1']/df['data2'])\n",
    "\n",
    "df3 = pd.concat([titanic,classes],axis = 1)\n",
    "\n",
    "df4 = titanic.assign(ration = classes)"
   ]
  },
  {
   "cell_type": "markdown",
   "metadata": {},
   "source": [
    "### 排序并重新索引"
   ]
  },
  {
   "cell_type": "code",
   "execution_count": null,
   "metadata": {},
   "outputs": [],
   "source": [
    "df = df.reindex(index=[])"
   ]
  },
  {
   "cell_type": "code",
   "execution_count": null,
   "metadata": {},
   "outputs": [],
   "source": [
    "print(df.sort_values(by=['col2','col3'],ascending=False))"
   ]
  },
  {
   "cell_type": "markdown",
   "metadata": {},
   "source": [
    "### 字典合并列表"
   ]
  },
  {
   "cell_type": "code",
   "execution_count": null,
   "metadata": {},
   "outputs": [],
   "source": [
    "bj_meo_stations.values()"
   ]
  },
  {
   "cell_type": "code",
   "execution_count": null,
   "metadata": {},
   "outputs": [],
   "source": [
    "list(bj_meo_stations.values())"
   ]
  },
  {
   "cell_type": "code",
   "execution_count": null,
   "metadata": {},
   "outputs": [],
   "source": [
    "pd.concat(list(meo_stations.values()), axis=1)"
   ]
  },
  {
   "cell_type": "code",
   "execution_count": null,
   "metadata": {},
   "outputs": [],
   "source": [
    "bj_meo_stations_merged = pd.concat(list(bj_meo_stations.values()), axis=1)"
   ]
  },
  {
   "cell_type": "markdown",
   "metadata": {},
   "source": [
    "## 改"
   ]
  },
  {
   "cell_type": "markdown",
   "metadata": {},
   "source": [
    "### 调整列的顺序"
   ]
  },
  {
   "cell_type": "code",
   "execution_count": 8,
   "metadata": {},
   "outputs": [],
   "source": [
    "df = df[['scrape_id','neighbourhood','last_scraped','host_since','price']]"
   ]
  },
  {
   "cell_type": "markdown",
   "metadata": {},
   "source": [
    "### 重命名列名"
   ]
  },
  {
   "cell_type": "code",
   "execution_count": 17,
   "metadata": {
    "scrolled": true
   },
   "outputs": [
    {
     "data": {
      "text/html": [
       "<div>\n",
       "<style scoped>\n",
       "    .dataframe tbody tr th:only-of-type {\n",
       "        vertical-align: middle;\n",
       "    }\n",
       "\n",
       "    .dataframe tbody tr th {\n",
       "        vertical-align: top;\n",
       "    }\n",
       "\n",
       "    .dataframe thead th {\n",
       "        text-align: right;\n",
       "    }\n",
       "</style>\n",
       "<table border=\"1\" class=\"dataframe\">\n",
       "  <thead>\n",
       "    <tr style=\"text-align: right;\">\n",
       "      <th></th>\n",
       "      <th>ID</th>\n",
       "      <th>最近收集</th>\n",
       "      <th>天气</th>\n",
       "      <th>邻居</th>\n",
       "      <th>价格</th>\n",
       "    </tr>\n",
       "  </thead>\n",
       "  <tbody>\n",
       "    <tr>\n",
       "      <th>0</th>\n",
       "      <td>2.020000e+13</td>\n",
       "      <td>1/2/15</td>\n",
       "      <td>4/10/13</td>\n",
       "      <td>Midtown East</td>\n",
       "      <td>$160.00</td>\n",
       "    </tr>\n",
       "    <tr>\n",
       "      <th>1</th>\n",
       "      <td>2.020000e+13</td>\n",
       "      <td>1/2/15</td>\n",
       "      <td>6/13/12</td>\n",
       "      <td>Hamilton Heights</td>\n",
       "      <td>$105.00</td>\n",
       "    </tr>\n",
       "    <tr>\n",
       "      <th>2</th>\n",
       "      <td>2.020000e+13</td>\n",
       "      <td>1/2/15</td>\n",
       "      <td>1/5/13</td>\n",
       "      <td>Bushwick</td>\n",
       "      <td>$58.00</td>\n",
       "    </tr>\n",
       "    <tr>\n",
       "      <th>3</th>\n",
       "      <td>2.020000e+13</td>\n",
       "      <td>1/3/15</td>\n",
       "      <td>8/11/10</td>\n",
       "      <td>West Village</td>\n",
       "      <td>$185.00</td>\n",
       "    </tr>\n",
       "    <tr>\n",
       "      <th>4</th>\n",
       "      <td>2.020000e+13</td>\n",
       "      <td>1/2/15</td>\n",
       "      <td>10/15/14</td>\n",
       "      <td>Chelsea</td>\n",
       "      <td>$195.00</td>\n",
       "    </tr>\n",
       "  </tbody>\n",
       "</table>\n",
       "</div>"
      ],
      "text/plain": [
       "             ID    最近收集        天气                邻居        价格\n",
       "0  2.020000e+13  1/2/15   4/10/13      Midtown East  $160.00 \n",
       "1  2.020000e+13  1/2/15   6/13/12  Hamilton Heights  $105.00 \n",
       "2  2.020000e+13  1/2/15    1/5/13          Bushwick   $58.00 \n",
       "3  2.020000e+13  1/3/15   8/11/10      West Village  $185.00 \n",
       "4  2.020000e+13  1/2/15  10/15/14           Chelsea  $195.00 "
      ]
     },
     "execution_count": 17,
     "metadata": {},
     "output_type": "execute_result"
    }
   ],
   "source": [
    "colNameDict = {\n",
    "    'scrape_id':'ID',\n",
    "    'neighbourhood':'邻居',\n",
    "    'last_scraped':'最近收集',\n",
    "    'host_since':'天气',\n",
    "    'price':'价格'\n",
    "}\n",
    "df.rename(columns = colNameDict,inplace=True)\n",
    "df.head()\n",
    "\n",
    "#data.columns = list(\"abcd\")  "
   ]
  },
  {
   "cell_type": "markdown",
   "metadata": {},
   "source": [
    "### 批量重命名"
   ]
  },
  {
   "cell_type": "code",
   "execution_count": null,
   "metadata": {},
   "outputs": [],
   "source": [
    "    original_names = meo_station.columns.values.tolist()\n",
    "    names_dict = {original_name: station + \"_\" + original_name for original_name in original_names}\n",
    "    print(names_dict)"
   ]
  },
  {
   "cell_type": "markdown",
   "metadata": {},
   "source": [
    "### 自己制定索引"
   ]
  },
  {
   "cell_type": "code",
   "execution_count": null,
   "metadata": {},
   "outputs": [],
   "source": [
    "df = df.set_index('Name')\n",
    "df.head()"
   ]
  },
  {
   "cell_type": "markdown",
   "metadata": {},
   "source": [
    "### 更改数据格式"
   ]
  },
  {
   "cell_type": "code",
   "execution_count": 3,
   "metadata": {
    "scrolled": true
   },
   "outputs": [
    {
     "data": {
      "text/plain": [
       "array([ 3, -1, -2,  0, 12, 10])"
      ]
     },
     "execution_count": 3,
     "metadata": {},
     "output_type": "execute_result"
    }
   ],
   "source": [
    "arr = np.array([3.7, -1.2, -2.6, 0.5, 12.9, 10.1])\n",
    "arr\n",
    "arr.astype(np.int32)"
   ]
  },
  {
   "cell_type": "code",
   "execution_count": 8,
   "metadata": {},
   "outputs": [
    {
     "name": "stdout",
     "output_type": "stream",
     "text": [
      "|S4\n"
     ]
    },
    {
     "data": {
      "text/plain": [
       "array([ 1.25, -9.6 , 42.  ])"
      ]
     },
     "execution_count": 8,
     "metadata": {},
     "output_type": "execute_result"
    }
   ],
   "source": [
    "numeric_strings = np.array(['1.25', '-9.6', '42'], dtype=np.string_)\n",
    "print(numeric_strings.dtype)\n",
    "numeric_strings.astype(float)"
   ]
  },
  {
   "cell_type": "code",
   "execution_count": 20,
   "metadata": {},
   "outputs": [],
   "source": [
    "df['邻居']=np.where(df['邻居'] =='Midtown East', 'West Village', df['邻居'])\n",
    "df['邻居']=np.where(df['邻居'] =='Hamilton Heights', 'West Village', df['邻居'])\n",
    "df['邻居']=np.where(df['邻居'] =='Bushwick', 'West Village', df['邻居'])"
   ]
  },
  {
   "cell_type": "code",
   "execution_count": 1,
   "metadata": {},
   "outputs": [],
   "source": [
    "# 将价格￥99转成99.0"
   ]
  },
  {
   "cell_type": "code",
   "execution_count": 10,
   "metadata": {},
   "outputs": [],
   "source": [
    "df['价格'] = (df['价格'].str.replace(r'[^-+\\d.]', '').astype(float))"
   ]
  },
  {
   "cell_type": "markdown",
   "metadata": {},
   "source": [
    "### 分类数据转化数值"
   ]
  },
  {
   "cell_type": "code",
   "execution_count": null,
   "metadata": {},
   "outputs": [],
   "source": [
    "# label enconding 来实现\n",
    "full_df.Sex = full_df.Sex.map({'male':1,'famale':2})\n",
    "\n",
    "# season_dict = {1:\"spring\",2:\"summer\",3:\"autumn\",4:\"winter\"}\n",
    "# BikeDf.season = BikeDf.season.replace(season_dict)\n",
    "\n",
    "# weather_dict={1:\"sunday\",2:\"clouday\",3:\"snowday\",4:\"rainday\"}\n",
    "# BikeDf['weather']=BikeDf['weather'].map(weather_dict)"
   ]
  },
  {
   "cell_type": "markdown",
   "metadata": {},
   "source": [
    "### 合并数据"
   ]
  },
  {
   "cell_type": "markdown",
   "metadata": {},
   "source": [
    "#### merge合并"
   ]
  },
  {
   "cell_type": "code",
   "execution_count": null,
   "metadata": {},
   "outputs": [],
   "source": [
    "c= pd.merge(df,df2,left_on='时间',right_on='时间',how = 'left')\n",
    "\n",
    "pd.merge(D1, D2, on='id', how='left')  # 左连接\n",
    "pd.merge(D1, D2, on='id', how='right') # 右连接\n",
    "pd.merge(D1, D2, on='id', how='outer') # 全连接"
   ]
  },
  {
   "cell_type": "markdown",
   "metadata": {},
   "source": [
    "#### concat"
   ]
  },
  {
   "cell_type": "code",
   "execution_count": null,
   "metadata": {},
   "outputs": [],
   "source": [
    "# 列表合并\n",
    "pd.concat([s1,s2,s3])#默认并集、纵向连接"
   ]
  },
  {
   "cell_type": "markdown",
   "metadata": {},
   "source": [
    "#### append"
   ]
  },
  {
   "cell_type": "markdown",
   "metadata": {},
   "source": [
    "### 分列"
   ]
  },
  {
   "cell_type": "code",
   "execution_count": 1,
   "metadata": {},
   "outputs": [
    {
     "data": {
      "text/plain": [
       "'2003-01-06'"
      ]
     },
     "execution_count": 1,
     "metadata": {},
     "output_type": "execute_result"
    }
   ],
   "source": [
    "\"2003-01-06 00:15:00\".split(\" \")[0] "
   ]
  },
  {
   "cell_type": "markdown",
   "metadata": {},
   "source": [
    "### 交叉表"
   ]
  },
  {
   "cell_type": "code",
   "execution_count": null,
   "metadata": {},
   "outputs": [],
   "source": [
    "pd.crosstab(players.rater1, players.rater2)\n",
    "\n",
    "fig, ax = plt.subplots(figsize=(12, 8))\n",
    "sns.heatmap(pd.crosstab(players.rater1, players.rater2), cmap='Blues', annot=True, fmt='d', ax=ax)"
   ]
  },
  {
   "cell_type": "markdown",
   "metadata": {},
   "source": [
    "### Lambda表达式和map函数"
   ]
  },
  {
   "cell_type": "code",
   "execution_count": 24,
   "metadata": {},
   "outputs": [
    {
     "data": {
      "text/plain": [
       "[1, 2, 3]"
      ]
     },
     "execution_count": 24,
     "metadata": {},
     "output_type": "execute_result"
    }
   ],
   "source": [
    "c= [1,2,3]\n",
    "c"
   ]
  },
  {
   "cell_type": "code",
   "execution_count": 21,
   "metadata": {
    "scrolled": true
   },
   "outputs": [
    {
     "name": "stdout",
     "output_type": "stream",
     "text": [
      "<map object at 0x0000025456D654C0>\n"
     ]
    }
   ],
   "source": [
    "print(map(lambda x:x+1 , a))"
   ]
  },
  {
   "cell_type": "code",
   "execution_count": 22,
   "metadata": {},
   "outputs": [],
   "source": [
    "a  = lambda x:x*x\n",
    "b  = lambda x:x**x"
   ]
  },
  {
   "cell_type": "code",
   "execution_count": 32,
   "metadata": {
    "scrolled": true
   },
   "outputs": [],
   "source": [
    "n =[map(lambda x:x(i),[a,b]) for i in c]"
   ]
  },
  {
   "cell_type": "code",
   "execution_count": 38,
   "metadata": {},
   "outputs": [
    {
     "name": "stdout",
     "output_type": "stream",
     "text": [
      "[<map object at 0x000002545803F340>, <map object at 0x000002545803F490>, <map object at 0x000002545803F550>]\n"
     ]
    }
   ],
   "source": [
    "print(str(n))"
   ]
  },
  {
   "cell_type": "code",
   "execution_count": 36,
   "metadata": {},
   "outputs": [
    {
     "name": "stdout",
     "output_type": "stream",
     "text": [
      "['1', '2', '3']\n"
     ]
    }
   ],
   "source": [
    "ls=[1,2,3]\n",
    "rs=map(str,ls)\n",
    "print(list(rs))"
   ]
  },
  {
   "cell_type": "code",
   "execution_count": 29,
   "metadata": {},
   "outputs": [
    {
     "data": {
      "text/plain": [
       "<map at 0x254582c4370>"
      ]
     },
     "execution_count": 29,
     "metadata": {},
     "output_type": "execute_result"
    }
   ],
   "source": [
    "map(square, [1,2,3,4,5]) "
   ]
  },
  {
   "cell_type": "markdown",
   "metadata": {},
   "source": [
    "### 分组 Vlookup"
   ]
  },
  {
   "cell_type": "code",
   "execution_count": null,
   "metadata": {},
   "outputs": [],
   "source": [
    "df['Age'].value_counts(ascending = False,bins = 5)"
   ]
  },
  {
   "cell_type": "code",
   "execution_count": null,
   "metadata": {},
   "outputs": [],
   "source": [
    "bins = [10,40,80]\n",
    "bins_res = pd.cut(df['Age'],bins)\n",
    "df['bins']=bins_res"
   ]
  },
  {
   "cell_type": "markdown",
   "metadata": {},
   "source": [
    "### 数据透视表"
   ]
  },
  {
   "cell_type": "code",
   "execution_count": null,
   "metadata": {},
   "outputs": [],
   "source": [
    "df.pivot_table(index = 'Sex',columns='Pclass',values='Fare')\n",
    "example.pivot(index = 'Category',columns= 'Month',values = 'Amount')"
   ]
  },
  {
   "cell_type": "code",
   "execution_count": null,
   "metadata": {},
   "outputs": [],
   "source": [
    "all_hour = pd.crosstab(all_data_hour.time, all_data_hour.type,values=all_data_hour['呼和浩特'],aggfunc=np.mean,margins=True)\n",
    "all_hour"
   ]
  },
  {
   "cell_type": "markdown",
   "metadata": {},
   "source": [
    "### 统计分组占比"
   ]
  },
  {
   "cell_type": "code",
   "execution_count": null,
   "metadata": {},
   "outputs": [],
   "source": [
    "df2['%'] = df2['GDP(万元)']/df2.groupby('省')['GDP(万元)'].transform('sum')"
   ]
  },
  {
   "cell_type": "code",
   "execution_count": null,
   "metadata": {},
   "outputs": [],
   "source": [
    "df1 = df.set_index(['state','office_id'])\n",
    "df1['%'] = 100 * (df1 / df1.groupby('state').sum())\n",
    "print(df1)"
   ]
  },
  {
   "cell_type": "code",
   "execution_count": null,
   "metadata": {},
   "outputs": [],
   "source": [
    "# 交叉表\n",
    "df3 = pd.crosstab(index=df['state'],\n",
    "            columns=df['office_id'],\n",
    "            values=df['sales'],\n",
    "            aggfunc='sum',\n",
    "            normalize='index')\n",
    "print(df3)"
   ]
  },
  {
   "cell_type": "markdown",
   "metadata": {},
   "source": [
    "### 分类聚合"
   ]
  },
  {
   "cell_type": "code",
   "execution_count": 22,
   "metadata": {},
   "outputs": [],
   "source": [
    "def scores(val):\n",
    "#     if val == 'No Reviews':\n",
    "#         return 'No Reviews'\n",
    "    if val >= 30.0:\n",
    "        return '30-60'\n",
    "    elif val >= 60.0 and val < 90.0:\n",
    "        return '60-90'\n",
    "    elif val >= 90.0 and val < 120.0:\n",
    "        return '90-120'\n",
    "    elif val >= 120.0 and val < 150.0:\n",
    "        return '120-150'\n",
    "    elif val >= 150.0 and val < 180.0:\n",
    "        return '150-180'\n",
    "    elif val >= 180 :\n",
    "        return '+180'"
   ]
  },
  {
   "cell_type": "code",
   "execution_count": null,
   "metadata": {},
   "outputs": [],
   "source": [
    "# 年龄分类\n",
    "def get_age(age):\n",
    "      \n",
    "    if (age<=12):\n",
    "        return 0\n",
    "    elif (12<age<=18):\n",
    "        return 1\n",
    "    elif (18<age<=30):\n",
    "        return 2\n",
    "    elif (30<age<=60):\n",
    "        return 3\n",
    "    elif (60<age):\n",
    "        return 4"
   ]
  },
  {
   "cell_type": "code",
   "execution_count": null,
   "metadata": {},
   "outputs": [],
   "source": [
    "df['price_level'] = df['价格'].apply(scores)\n",
    "print('Unique Values in the Column:', np.unique(df['price_level']))"
   ]
  },
  {
   "cell_type": "markdown",
   "metadata": {},
   "source": [
    "### 聚合统计  groupby"
   ]
  },
  {
   "cell_type": "code",
   "execution_count": 32,
   "metadata": {
    "scrolled": true
   },
   "outputs": [
    {
     "data": {
      "text/plain": [
       "$150.00       1538\n",
       "$100.00       1325\n",
       "$200.00       1104\n",
       "$75.00         801\n",
       "$250.00        799\n",
       "              ... \n",
       "$312.00          1\n",
       "$378.00          1\n",
       "$1,499.00        1\n",
       "$745.00          1\n",
       "$997.00          1\n",
       "Name: 价格, Length: 452, dtype: int64"
      ]
     },
     "execution_count": 32,
     "metadata": {},
     "output_type": "execute_result"
    }
   ],
   "source": [
    "df['价格'].value_counts()"
   ]
  },
  {
   "cell_type": "code",
   "execution_count": 28,
   "metadata": {},
   "outputs": [
    {
     "data": {
      "image/png": "[encoded data removed]",
      "text/plain": [
       "<Figure size 432x288 with 1 Axes>"
      ]
     },
     "metadata": {
      "needs_background": "light"
     },
     "output_type": "display_data"
    }
   ],
   "source": [
    "sns.countplot(x='价格',data=df, palette='hls')\n",
    "plt.show()\n",
    "# plt.savefig('count_plot')"
   ]
  },
  {
   "cell_type": "code",
   "execution_count": 30,
   "metadata": {
    "scrolled": true
   },
   "outputs": [
    {
     "data": {
      "text/html": [
       "<div>\n",
       "<style scoped>\n",
       "    .dataframe tbody tr th:only-of-type {\n",
       "        vertical-align: middle;\n",
       "    }\n",
       "\n",
       "    .dataframe tbody tr th {\n",
       "        vertical-align: top;\n",
       "    }\n",
       "\n",
       "    .dataframe thead th {\n",
       "        text-align: right;\n",
       "    }\n",
       "</style>\n",
       "<table border=\"1\" class=\"dataframe\">\n",
       "  <thead>\n",
       "    <tr style=\"text-align: right;\">\n",
       "      <th></th>\n",
       "      <th>ID</th>\n",
       "    </tr>\n",
       "    <tr>\n",
       "      <th>价格</th>\n",
       "      <th></th>\n",
       "    </tr>\n",
       "  </thead>\n",
       "  <tbody>\n",
       "    <tr>\n",
       "      <th>$1,000.00</th>\n",
       "      <td>2.020000e+13</td>\n",
       "    </tr>\n",
       "    <tr>\n",
       "      <th>$1,050.00</th>\n",
       "      <td>2.020000e+13</td>\n",
       "    </tr>\n",
       "    <tr>\n",
       "      <th>$1,065.00</th>\n",
       "      <td>2.020000e+13</td>\n",
       "    </tr>\n",
       "    <tr>\n",
       "      <th>$1,067.00</th>\n",
       "      <td>2.020000e+13</td>\n",
       "    </tr>\n",
       "    <tr>\n",
       "      <th>$1,100.00</th>\n",
       "      <td>2.020000e+13</td>\n",
       "    </tr>\n",
       "    <tr>\n",
       "      <th>...</th>\n",
       "      <td>...</td>\n",
       "    </tr>\n",
       "    <tr>\n",
       "      <th>$988.00</th>\n",
       "      <td>2.020000e+13</td>\n",
       "    </tr>\n",
       "    <tr>\n",
       "      <th>$99.00</th>\n",
       "      <td>2.020000e+13</td>\n",
       "    </tr>\n",
       "    <tr>\n",
       "      <th>$995.00</th>\n",
       "      <td>2.020000e+13</td>\n",
       "    </tr>\n",
       "    <tr>\n",
       "      <th>$997.00</th>\n",
       "      <td>2.020000e+13</td>\n",
       "    </tr>\n",
       "    <tr>\n",
       "      <th>$999.00</th>\n",
       "      <td>2.020000e+13</td>\n",
       "    </tr>\n",
       "  </tbody>\n",
       "</table>\n",
       "<p>452 rows × 1 columns</p>\n",
       "</div>"
      ],
      "text/plain": [
       "                      ID\n",
       "价格                      \n",
       "$1,000.00   2.020000e+13\n",
       "$1,050.00   2.020000e+13\n",
       "$1,065.00   2.020000e+13\n",
       "$1,067.00   2.020000e+13\n",
       "$1,100.00   2.020000e+13\n",
       "...                  ...\n",
       "$988.00     2.020000e+13\n",
       "$99.00      2.020000e+13\n",
       "$995.00     2.020000e+13\n",
       "$997.00     2.020000e+13\n",
       "$999.00     2.020000e+13\n",
       "\n",
       "[452 rows x 1 columns]"
      ]
     },
     "execution_count": 30,
     "metadata": {},
     "output_type": "execute_result"
    }
   ],
   "source": [
    "df.groupby('价格').mean()"
   ]
  },
  {
   "cell_type": "code",
   "execution_count": null,
   "metadata": {},
   "outputs": [],
   "source": [
    "grouped = df.groupby(by='风向')\n",
    "grouped['PM2.5'].agg('mean')\n",
    "# .reset_index()"
   ]
  },
  {
   "cell_type": "code",
   "execution_count": null,
   "metadata": {},
   "outputs": [],
   "source": [
    "import matplotlib.cm as cm\n",
    "plt.figure(figsize=(20,10))\n",
    "\n",
    "# groupby 与zip 的典型用法\n",
    "def scatter_plot_by_category(feat):\n",
    "    alpha = 0.1\n",
    "    gs = kobe.groupby(feat)\n",
    "    cs = cm.rainbow(np.linspace(0, 1, len(gs)))\n",
    "    for g, c in zip(gs, cs):    \n",
    "        plt.scatter(g[1].loc_x, g[1].loc_y, color=c, alpha=alpha)\n",
    "\n",
    "# shot_zone_area\n",
    "plt.subplot(131)\n",
    "scatter_plot_by_category('shot_zone_area')\n",
    "plt.title('shot_zone_area')\n",
    "\n",
    "# shot_zone_basic\n",
    "plt.subplot(132)\n",
    "scatter_plot_by_category('shot_zone_basic')\n",
    "plt.title('shot_zone_basic')\n",
    "\n",
    "# shot_zone_range\n",
    "plt.subplot(133)\n",
    "scatter_plot_by_category('shot_zone_range')\n",
    "plt.title('shot_zone_range')"
   ]
  },
  {
   "cell_type": "code",
   "execution_count": null,
   "metadata": {},
   "outputs": [],
   "source": [
    "\n",
    "groups = df_pm25.groupby(pd.Grouper(freq='1Y'))['pm25']\n",
    "years = pd.DataFrame()\n",
    "for name, group in groups:\n",
    "    years[name.year] = group.values\n",
    "\n",
    "years"
   ]
  },
  {
   "cell_type": "code",
   "execution_count": 3,
   "metadata": {},
   "outputs": [],
   "source": [
    "from pandas import Series,DataFrame\n",
    "import pandas as pd\n",
    "import numpy as np\n",
    "import seaborn as sns\n",
    "%matplotlib inline"
   ]
  },
  {
   "cell_type": "code",
   "execution_count": 4,
   "metadata": {
    "scrolled": true
   },
   "outputs": [
    {
     "data": {
      "text/html": [
       "<div>\n",
       "<style scoped>\n",
       "    .dataframe tbody tr th:only-of-type {\n",
       "        vertical-align: middle;\n",
       "    }\n",
       "\n",
       "    .dataframe tbody tr th {\n",
       "        vertical-align: top;\n",
       "    }\n",
       "\n",
       "    .dataframe thead th {\n",
       "        text-align: right;\n",
       "    }\n",
       "</style>\n",
       "<table border=\"1\" class=\"dataframe\">\n",
       "  <thead>\n",
       "    <tr style=\"text-align: right;\">\n",
       "      <th></th>\n",
       "      <th>total_bill</th>\n",
       "      <th>tip</th>\n",
       "      <th>sex</th>\n",
       "      <th>smoker</th>\n",
       "      <th>day</th>\n",
       "      <th>time</th>\n",
       "      <th>size</th>\n",
       "    </tr>\n",
       "  </thead>\n",
       "  <tbody>\n",
       "    <tr>\n",
       "      <th>0</th>\n",
       "      <td>16.99</td>\n",
       "      <td>1.01</td>\n",
       "      <td>Female</td>\n",
       "      <td>No</td>\n",
       "      <td>Sun</td>\n",
       "      <td>Dinner</td>\n",
       "      <td>2</td>\n",
       "    </tr>\n",
       "    <tr>\n",
       "      <th>1</th>\n",
       "      <td>10.34</td>\n",
       "      <td>1.66</td>\n",
       "      <td>Male</td>\n",
       "      <td>No</td>\n",
       "      <td>Sun</td>\n",
       "      <td>Dinner</td>\n",
       "      <td>3</td>\n",
       "    </tr>\n",
       "    <tr>\n",
       "      <th>2</th>\n",
       "      <td>21.01</td>\n",
       "      <td>3.50</td>\n",
       "      <td>Male</td>\n",
       "      <td>No</td>\n",
       "      <td>Sun</td>\n",
       "      <td>Dinner</td>\n",
       "      <td>3</td>\n",
       "    </tr>\n",
       "    <tr>\n",
       "      <th>3</th>\n",
       "      <td>23.68</td>\n",
       "      <td>3.31</td>\n",
       "      <td>Male</td>\n",
       "      <td>No</td>\n",
       "      <td>Sun</td>\n",
       "      <td>Dinner</td>\n",
       "      <td>2</td>\n",
       "    </tr>\n",
       "    <tr>\n",
       "      <th>4</th>\n",
       "      <td>24.59</td>\n",
       "      <td>3.61</td>\n",
       "      <td>Female</td>\n",
       "      <td>No</td>\n",
       "      <td>Sun</td>\n",
       "      <td>Dinner</td>\n",
       "      <td>4</td>\n",
       "    </tr>\n",
       "  </tbody>\n",
       "</table>\n",
       "</div>"
      ],
      "text/plain": [
       "   total_bill   tip     sex smoker  day    time  size\n",
       "0       16.99  1.01  Female     No  Sun  Dinner     2\n",
       "1       10.34  1.66    Male     No  Sun  Dinner     3\n",
       "2       21.01  3.50    Male     No  Sun  Dinner     3\n",
       "3       23.68  3.31    Male     No  Sun  Dinner     2\n",
       "4       24.59  3.61  Female     No  Sun  Dinner     4"
      ]
     },
     "execution_count": 4,
     "metadata": {},
     "output_type": "execute_result"
    }
   ],
   "source": [
    "tips=sns.load_dataset('tips')\n",
    "tips.head()"
   ]
  },
  {
   "cell_type": "code",
   "execution_count": 7,
   "metadata": {
    "scrolled": true
   },
   "outputs": [
    {
     "name": "stdout",
     "output_type": "stream",
     "text": [
      "Male\n",
      "     total_bill   tip   sex smoker  day    time  size\n",
      "1         10.34  1.66  Male     No  Sun  Dinner     3\n",
      "2         21.01  3.50  Male     No  Sun  Dinner     3\n",
      "3         23.68  3.31  Male     No  Sun  Dinner     2\n",
      "5         25.29  4.71  Male     No  Sun  Dinner     4\n",
      "6          8.77  2.00  Male     No  Sun  Dinner     2\n",
      "..          ...   ...   ...    ...  ...     ...   ...\n",
      "236       12.60  1.00  Male    Yes  Sat  Dinner     2\n",
      "237       32.83  1.17  Male    Yes  Sat  Dinner     2\n",
      "239       29.03  5.92  Male     No  Sat  Dinner     3\n",
      "241       22.67  2.00  Male    Yes  Sat  Dinner     2\n",
      "242       17.82  1.75  Male     No  Sat  Dinner     2\n",
      "\n",
      "[157 rows x 7 columns]\n",
      "Female\n",
      "     total_bill   tip     sex smoker   day    time  size\n",
      "0         16.99  1.01  Female     No   Sun  Dinner     2\n",
      "4         24.59  3.61  Female     No   Sun  Dinner     4\n",
      "11        35.26  5.00  Female     No   Sun  Dinner     4\n",
      "14        14.83  3.02  Female     No   Sun  Dinner     2\n",
      "16        10.33  1.67  Female     No   Sun  Dinner     3\n",
      "..          ...   ...     ...    ...   ...     ...   ...\n",
      "226       10.09  2.00  Female    Yes   Fri   Lunch     2\n",
      "229       22.12  2.88  Female    Yes   Sat  Dinner     2\n",
      "238       35.83  4.67  Female     No   Sat  Dinner     3\n",
      "240       27.18  2.00  Female    Yes   Sat  Dinner     2\n",
      "243       18.78  3.00  Female     No  Thur  Dinner     2\n",
      "\n",
      "[87 rows x 7 columns]\n"
     ]
    }
   ],
   "source": [
    "for name,group in tips.groupby(tips['sex']):\n",
    "    print(name)\n",
    "    print(group)"
   ]
  },
  {
   "cell_type": "code",
   "execution_count": 8,
   "metadata": {},
   "outputs": [
    {
     "data": {
      "text/plain": [
       "sex\n",
       "Male      9.0\n",
       "Female    5.5\n",
       "Name: tip, dtype: float64"
      ]
     },
     "execution_count": 8,
     "metadata": {},
     "output_type": "execute_result"
    }
   ],
   "source": [
    "## 聚合函数\n",
    "def get_range(x):\n",
    "    return x.max()-x.min()\n",
    "tips_range = tips.groupby('sex')['tip'].agg(get_range)\n",
    "tips_range"
   ]
  },
  {
   "cell_type": "code",
   "execution_count": 9,
   "metadata": {
    "scrolled": true
   },
   "outputs": [
    {
     "data": {
      "text/html": [
       "<div>\n",
       "<style scoped>\n",
       "    .dataframe tbody tr th:only-of-type {\n",
       "        vertical-align: middle;\n",
       "    }\n",
       "\n",
       "    .dataframe tbody tr th {\n",
       "        vertical-align: top;\n",
       "    }\n",
       "\n",
       "    .dataframe thead th {\n",
       "        text-align: right;\n",
       "    }\n",
       "</style>\n",
       "<table border=\"1\" class=\"dataframe\">\n",
       "  <thead>\n",
       "    <tr style=\"text-align: right;\">\n",
       "      <th></th>\n",
       "      <th></th>\n",
       "      <th>mean</th>\n",
       "      <th>std</th>\n",
       "      <th>get_range</th>\n",
       "    </tr>\n",
       "    <tr>\n",
       "      <th>sex</th>\n",
       "      <th>smoker</th>\n",
       "      <th></th>\n",
       "      <th></th>\n",
       "      <th></th>\n",
       "    </tr>\n",
       "  </thead>\n",
       "  <tbody>\n",
       "    <tr>\n",
       "      <th rowspan=\"2\" valign=\"top\">Male</th>\n",
       "      <th>Yes</th>\n",
       "      <td>3.051167</td>\n",
       "      <td>1.500120</td>\n",
       "      <td>9.00</td>\n",
       "    </tr>\n",
       "    <tr>\n",
       "      <th>No</th>\n",
       "      <td>3.113402</td>\n",
       "      <td>1.489559</td>\n",
       "      <td>7.75</td>\n",
       "    </tr>\n",
       "    <tr>\n",
       "      <th rowspan=\"2\" valign=\"top\">Female</th>\n",
       "      <th>Yes</th>\n",
       "      <td>2.931515</td>\n",
       "      <td>1.219916</td>\n",
       "      <td>5.50</td>\n",
       "    </tr>\n",
       "    <tr>\n",
       "      <th>No</th>\n",
       "      <td>2.773519</td>\n",
       "      <td>1.128425</td>\n",
       "      <td>4.20</td>\n",
       "    </tr>\n",
       "  </tbody>\n",
       "</table>\n",
       "</div>"
      ],
      "text/plain": [
       "                   mean       std  get_range\n",
       "sex    smoker                               \n",
       "Male   Yes     3.051167  1.500120       9.00\n",
       "       No      3.113402  1.489559       7.75\n",
       "Female Yes     2.931515  1.219916       5.50\n",
       "       No      2.773519  1.128425       4.20"
      ]
     },
     "execution_count": 9,
     "metadata": {},
     "output_type": "execute_result"
    }
   ],
   "source": [
    "tips.groupby(['sex','smoker'])['tip'].agg(['mean','std',get_range])\n",
    "# tips.groupby(['sex','smoker'])['tip'].agg([('tip_mean','mean'),('Range',get_range)])  # 命名"
   ]
  },
  {
   "cell_type": "code",
   "execution_count": 10,
   "metadata": {
    "scrolled": true
   },
   "outputs": [
    {
     "data": {
      "text/html": [
       "<div>\n",
       "<style scoped>\n",
       "    .dataframe tbody tr th:only-of-type {\n",
       "        vertical-align: middle;\n",
       "    }\n",
       "\n",
       "    .dataframe tbody tr th {\n",
       "        vertical-align: top;\n",
       "    }\n",
       "\n",
       "    .dataframe thead th {\n",
       "        text-align: right;\n",
       "    }\n",
       "</style>\n",
       "<table border=\"1\" class=\"dataframe\">\n",
       "  <thead>\n",
       "    <tr style=\"text-align: right;\">\n",
       "      <th></th>\n",
       "      <th></th>\n",
       "      <th>tip_mean</th>\n",
       "      <th>Range</th>\n",
       "    </tr>\n",
       "    <tr>\n",
       "      <th>sex</th>\n",
       "      <th>smoker</th>\n",
       "      <th></th>\n",
       "      <th></th>\n",
       "    </tr>\n",
       "  </thead>\n",
       "  <tbody>\n",
       "    <tr>\n",
       "      <th rowspan=\"2\" valign=\"top\">Male</th>\n",
       "      <th>Yes</th>\n",
       "      <td>3.051167</td>\n",
       "      <td>9.00</td>\n",
       "    </tr>\n",
       "    <tr>\n",
       "      <th>No</th>\n",
       "      <td>3.113402</td>\n",
       "      <td>7.75</td>\n",
       "    </tr>\n",
       "    <tr>\n",
       "      <th rowspan=\"2\" valign=\"top\">Female</th>\n",
       "      <th>Yes</th>\n",
       "      <td>2.931515</td>\n",
       "      <td>5.50</td>\n",
       "    </tr>\n",
       "    <tr>\n",
       "      <th>No</th>\n",
       "      <td>2.773519</td>\n",
       "      <td>4.20</td>\n",
       "    </tr>\n",
       "  </tbody>\n",
       "</table>\n",
       "</div>"
      ],
      "text/plain": [
       "               tip_mean  Range\n",
       "sex    smoker                 \n",
       "Male   Yes     3.051167   9.00\n",
       "       No      3.113402   7.75\n",
       "Female Yes     2.931515   5.50\n",
       "       No      2.773519   4.20"
      ]
     },
     "execution_count": 10,
     "metadata": {},
     "output_type": "execute_result"
    }
   ],
   "source": [
    "tips.groupby(['sex','smoker'])['tip'].agg([('tip_mean','mean'),('Range',get_range)])"
   ]
  },
  {
   "cell_type": "code",
   "execution_count": 11,
   "metadata": {
    "scrolled": false
   },
   "outputs": [
    {
     "name": "stderr",
     "output_type": "stream",
     "text": [
      "<ipython-input-11-d2a9ed5f4cc2>:1: FutureWarning: Indexing with multiple keys (implicitly converted to a tuple of keys) will be deprecated, use a list instead.\n",
      "  tips.groupby(['day','time'])['total_bill','tip'].agg([('tip_mean','mean'),('Range',get_range)])\n"
     ]
    },
    {
     "data": {
      "text/html": [
       "<div>\n",
       "<style scoped>\n",
       "    .dataframe tbody tr th:only-of-type {\n",
       "        vertical-align: middle;\n",
       "    }\n",
       "\n",
       "    .dataframe tbody tr th {\n",
       "        vertical-align: top;\n",
       "    }\n",
       "\n",
       "    .dataframe thead tr th {\n",
       "        text-align: left;\n",
       "    }\n",
       "\n",
       "    .dataframe thead tr:last-of-type th {\n",
       "        text-align: right;\n",
       "    }\n",
       "</style>\n",
       "<table border=\"1\" class=\"dataframe\">\n",
       "  <thead>\n",
       "    <tr>\n",
       "      <th></th>\n",
       "      <th></th>\n",
       "      <th colspan=\"2\" halign=\"left\">total_bill</th>\n",
       "      <th colspan=\"2\" halign=\"left\">tip</th>\n",
       "    </tr>\n",
       "    <tr>\n",
       "      <th></th>\n",
       "      <th></th>\n",
       "      <th>tip_mean</th>\n",
       "      <th>Range</th>\n",
       "      <th>tip_mean</th>\n",
       "      <th>Range</th>\n",
       "    </tr>\n",
       "    <tr>\n",
       "      <th>day</th>\n",
       "      <th>time</th>\n",
       "      <th></th>\n",
       "      <th></th>\n",
       "      <th></th>\n",
       "      <th></th>\n",
       "    </tr>\n",
       "  </thead>\n",
       "  <tbody>\n",
       "    <tr>\n",
       "      <th rowspan=\"2\" valign=\"top\">Thur</th>\n",
       "      <th>Lunch</th>\n",
       "      <td>17.664754</td>\n",
       "      <td>35.60</td>\n",
       "      <td>2.767705</td>\n",
       "      <td>5.45</td>\n",
       "    </tr>\n",
       "    <tr>\n",
       "      <th>Dinner</th>\n",
       "      <td>18.780000</td>\n",
       "      <td>0.00</td>\n",
       "      <td>3.000000</td>\n",
       "      <td>0.00</td>\n",
       "    </tr>\n",
       "    <tr>\n",
       "      <th rowspan=\"2\" valign=\"top\">Fri</th>\n",
       "      <th>Lunch</th>\n",
       "      <td>12.845714</td>\n",
       "      <td>7.69</td>\n",
       "      <td>2.382857</td>\n",
       "      <td>1.90</td>\n",
       "    </tr>\n",
       "    <tr>\n",
       "      <th>Dinner</th>\n",
       "      <td>19.663333</td>\n",
       "      <td>34.42</td>\n",
       "      <td>2.940000</td>\n",
       "      <td>3.73</td>\n",
       "    </tr>\n",
       "    <tr>\n",
       "      <th rowspan=\"2\" valign=\"top\">Sat</th>\n",
       "      <th>Lunch</th>\n",
       "      <td>NaN</td>\n",
       "      <td>NaN</td>\n",
       "      <td>NaN</td>\n",
       "      <td>NaN</td>\n",
       "    </tr>\n",
       "    <tr>\n",
       "      <th>Dinner</th>\n",
       "      <td>20.441379</td>\n",
       "      <td>47.74</td>\n",
       "      <td>2.993103</td>\n",
       "      <td>9.00</td>\n",
       "    </tr>\n",
       "    <tr>\n",
       "      <th rowspan=\"2\" valign=\"top\">Sun</th>\n",
       "      <th>Lunch</th>\n",
       "      <td>NaN</td>\n",
       "      <td>NaN</td>\n",
       "      <td>NaN</td>\n",
       "      <td>NaN</td>\n",
       "    </tr>\n",
       "    <tr>\n",
       "      <th>Dinner</th>\n",
       "      <td>21.410000</td>\n",
       "      <td>40.92</td>\n",
       "      <td>3.255132</td>\n",
       "      <td>5.49</td>\n",
       "    </tr>\n",
       "  </tbody>\n",
       "</table>\n",
       "</div>"
      ],
      "text/plain": [
       "            total_bill              tip      \n",
       "              tip_mean  Range  tip_mean Range\n",
       "day  time                                    \n",
       "Thur Lunch   17.664754  35.60  2.767705  5.45\n",
       "     Dinner  18.780000   0.00  3.000000  0.00\n",
       "Fri  Lunch   12.845714   7.69  2.382857  1.90\n",
       "     Dinner  19.663333  34.42  2.940000  3.73\n",
       "Sat  Lunch         NaN    NaN       NaN   NaN\n",
       "     Dinner  20.441379  47.74  2.993103  9.00\n",
       "Sun  Lunch         NaN    NaN       NaN   NaN\n",
       "     Dinner  21.410000  40.92  3.255132  5.49"
      ]
     },
     "execution_count": 11,
     "metadata": {},
     "output_type": "execute_result"
    }
   ],
   "source": [
    "tips.groupby(['day','time'])['total_bill','tip'].agg([('tip_mean','mean'),('Range',get_range)])"
   ]
  },
  {
   "cell_type": "markdown",
   "metadata": {},
   "source": [
    "###  分组运算"
   ]
  },
  {
   "cell_type": "code",
   "execution_count": 12,
   "metadata": {},
   "outputs": [],
   "source": [
    "def top(x,n=5):\n",
    "    return x.sort_values(by='tip',ascending=False)[-n:]"
   ]
  },
  {
   "cell_type": "code",
   "execution_count": 13,
   "metadata": {
    "scrolled": true
   },
   "outputs": [
    {
     "data": {
      "text/html": [
       "<div>\n",
       "<style scoped>\n",
       "    .dataframe tbody tr th:only-of-type {\n",
       "        vertical-align: middle;\n",
       "    }\n",
       "\n",
       "    .dataframe tbody tr th {\n",
       "        vertical-align: top;\n",
       "    }\n",
       "\n",
       "    .dataframe thead th {\n",
       "        text-align: right;\n",
       "    }\n",
       "</style>\n",
       "<table border=\"1\" class=\"dataframe\">\n",
       "  <thead>\n",
       "    <tr style=\"text-align: right;\">\n",
       "      <th></th>\n",
       "      <th></th>\n",
       "      <th>total_bill</th>\n",
       "      <th>tip</th>\n",
       "      <th>sex</th>\n",
       "      <th>smoker</th>\n",
       "      <th>day</th>\n",
       "      <th>time</th>\n",
       "      <th>size</th>\n",
       "    </tr>\n",
       "    <tr>\n",
       "      <th>sex</th>\n",
       "      <th></th>\n",
       "      <th></th>\n",
       "      <th></th>\n",
       "      <th></th>\n",
       "      <th></th>\n",
       "      <th></th>\n",
       "      <th></th>\n",
       "      <th></th>\n",
       "    </tr>\n",
       "  </thead>\n",
       "  <tbody>\n",
       "    <tr>\n",
       "      <th rowspan=\"5\" valign=\"top\">Male</th>\n",
       "      <th>43</th>\n",
       "      <td>9.68</td>\n",
       "      <td>1.32</td>\n",
       "      <td>Male</td>\n",
       "      <td>No</td>\n",
       "      <td>Sun</td>\n",
       "      <td>Dinner</td>\n",
       "      <td>2</td>\n",
       "    </tr>\n",
       "    <tr>\n",
       "      <th>235</th>\n",
       "      <td>10.07</td>\n",
       "      <td>1.25</td>\n",
       "      <td>Male</td>\n",
       "      <td>No</td>\n",
       "      <td>Sat</td>\n",
       "      <td>Dinner</td>\n",
       "      <td>2</td>\n",
       "    </tr>\n",
       "    <tr>\n",
       "      <th>75</th>\n",
       "      <td>10.51</td>\n",
       "      <td>1.25</td>\n",
       "      <td>Male</td>\n",
       "      <td>No</td>\n",
       "      <td>Sat</td>\n",
       "      <td>Dinner</td>\n",
       "      <td>2</td>\n",
       "    </tr>\n",
       "    <tr>\n",
       "      <th>237</th>\n",
       "      <td>32.83</td>\n",
       "      <td>1.17</td>\n",
       "      <td>Male</td>\n",
       "      <td>Yes</td>\n",
       "      <td>Sat</td>\n",
       "      <td>Dinner</td>\n",
       "      <td>2</td>\n",
       "    </tr>\n",
       "    <tr>\n",
       "      <th>236</th>\n",
       "      <td>12.60</td>\n",
       "      <td>1.00</td>\n",
       "      <td>Male</td>\n",
       "      <td>Yes</td>\n",
       "      <td>Sat</td>\n",
       "      <td>Dinner</td>\n",
       "      <td>2</td>\n",
       "    </tr>\n",
       "    <tr>\n",
       "      <th rowspan=\"5\" valign=\"top\">Female</th>\n",
       "      <th>215</th>\n",
       "      <td>12.90</td>\n",
       "      <td>1.10</td>\n",
       "      <td>Female</td>\n",
       "      <td>Yes</td>\n",
       "      <td>Sat</td>\n",
       "      <td>Dinner</td>\n",
       "      <td>2</td>\n",
       "    </tr>\n",
       "    <tr>\n",
       "      <th>0</th>\n",
       "      <td>16.99</td>\n",
       "      <td>1.01</td>\n",
       "      <td>Female</td>\n",
       "      <td>No</td>\n",
       "      <td>Sun</td>\n",
       "      <td>Dinner</td>\n",
       "      <td>2</td>\n",
       "    </tr>\n",
       "    <tr>\n",
       "      <th>111</th>\n",
       "      <td>7.25</td>\n",
       "      <td>1.00</td>\n",
       "      <td>Female</td>\n",
       "      <td>No</td>\n",
       "      <td>Sat</td>\n",
       "      <td>Dinner</td>\n",
       "      <td>1</td>\n",
       "    </tr>\n",
       "    <tr>\n",
       "      <th>67</th>\n",
       "      <td>3.07</td>\n",
       "      <td>1.00</td>\n",
       "      <td>Female</td>\n",
       "      <td>Yes</td>\n",
       "      <td>Sat</td>\n",
       "      <td>Dinner</td>\n",
       "      <td>1</td>\n",
       "    </tr>\n",
       "    <tr>\n",
       "      <th>92</th>\n",
       "      <td>5.75</td>\n",
       "      <td>1.00</td>\n",
       "      <td>Female</td>\n",
       "      <td>Yes</td>\n",
       "      <td>Fri</td>\n",
       "      <td>Dinner</td>\n",
       "      <td>2</td>\n",
       "    </tr>\n",
       "  </tbody>\n",
       "</table>\n",
       "</div>"
      ],
      "text/plain": [
       "            total_bill   tip     sex smoker  day    time  size\n",
       "sex                                                           \n",
       "Male   43         9.68  1.32    Male     No  Sun  Dinner     2\n",
       "       235       10.07  1.25    Male     No  Sat  Dinner     2\n",
       "       75        10.51  1.25    Male     No  Sat  Dinner     2\n",
       "       237       32.83  1.17    Male    Yes  Sat  Dinner     2\n",
       "       236       12.60  1.00    Male    Yes  Sat  Dinner     2\n",
       "Female 215       12.90  1.10  Female    Yes  Sat  Dinner     2\n",
       "       0         16.99  1.01  Female     No  Sun  Dinner     2\n",
       "       111        7.25  1.00  Female     No  Sat  Dinner     1\n",
       "       67         3.07  1.00  Female    Yes  Sat  Dinner     1\n",
       "       92         5.75  1.00  Female    Yes  Fri  Dinner     2"
      ]
     },
     "execution_count": 13,
     "metadata": {},
     "output_type": "execute_result"
    }
   ],
   "source": [
    "tips.groupby('sex').apply(top)"
   ]
  },
  {
   "cell_type": "code",
   "execution_count": 14,
   "metadata": {},
   "outputs": [
    {
     "ename": "NameError",
     "evalue": "name 'df' is not defined",
     "output_type": "error",
     "traceback": [
      "\u001b[1;31m---------------------------------------------------------------------------\u001b[0m",
      "\u001b[1;31mNameError\u001b[0m                                 Traceback (most recent call last)",
      "\u001b[1;32m<ipython-input-14-1a8bccd98ea3>\u001b[0m in \u001b[0;36m<module>\u001b[1;34m\u001b[0m\n\u001b[0;32m      1\u001b[0m \u001b[0mf\u001b[0m \u001b[1;33m=\u001b[0m \u001b[1;32mlambda\u001b[0m \u001b[0mx\u001b[0m\u001b[1;33m:\u001b[0m \u001b[0mx\u001b[0m\u001b[1;33m.\u001b[0m\u001b[0mfillna\u001b[0m\u001b[1;33m(\u001b[0m\u001b[0mx\u001b[0m\u001b[1;33m.\u001b[0m\u001b[0mmean\u001b[0m\u001b[1;33m(\u001b[0m\u001b[1;33m)\u001b[0m\u001b[1;33m)\u001b[0m\u001b[1;33m\u001b[0m\u001b[1;33m\u001b[0m\u001b[0m\n\u001b[1;32m----> 2\u001b[1;33m \u001b[0mdf\u001b[0m\u001b[1;33m.\u001b[0m\u001b[0mgroupby\u001b[0m\u001b[1;33m(\u001b[0m\u001b[1;34m'sex'\u001b[0m\u001b[1;33m)\u001b[0m\u001b[1;33m.\u001b[0m\u001b[0mapply\u001b[0m\u001b[1;33m(\u001b[0m\u001b[0mf\u001b[0m\u001b[1;33m)\u001b[0m\u001b[1;33m\u001b[0m\u001b[1;33m\u001b[0m\u001b[0m\n\u001b[0m",
      "\u001b[1;31mNameError\u001b[0m: name 'df' is not defined"
     ]
    }
   ],
   "source": [
    "f = lambda x: x.fillna(x.mean())\n",
    "df.groupby('sex').apply(f)"
   ]
  },
  {
   "cell_type": "markdown",
   "metadata": {},
   "source": [
    "### 统计bool个数"
   ]
  },
  {
   "cell_type": "code",
   "execution_count": null,
   "metadata": {},
   "outputs": [],
   "source": [
    "print('True个数：',np.sum(df!=0))\n",
    "print('True个数：',np.sum(df!=1))"
   ]
  },
  {
   "cell_type": "markdown",
   "metadata": {},
   "source": [
    "# 绘图"
   ]
  },
  {
   "cell_type": "markdown",
   "metadata": {},
   "source": [
    "## matplotlib"
   ]
  },
  {
   "cell_type": "markdown",
   "metadata": {},
   "source": [
    "### 样式设置"
   ]
  },
  {
   "cell_type": "code",
   "execution_count": null,
   "metadata": {},
   "outputs": [],
   "source": [
    "linestyle='--' #设置线型\n",
    "linewidth=5  # 设置线宽\n",
    "color='r'  # 设置颜色\n",
    "marker='.' # 设置点标记\n",
    "alpha=0.8  # 设置透明度\n",
    "plt.plot(years,gdp,linestyle='--',linewidth=5)"
   ]
  },
  {
   "cell_type": "markdown",
   "metadata": {},
   "source": [
    "### 基础设置"
   ]
  },
  {
   "cell_type": "code",
   "execution_count": null,
   "metadata": {},
   "outputs": [],
   "source": [
    "plt.figure(figsize=(10,6))  #设置图片大小\n",
    "\n",
    "plt.xlabel('Country')  #设置X轴标签\n",
    "plt.ylabel('Count')  #设置Y轴标签\n",
    "\n",
    "plt.xticks(range(len(labels)),labels,fontsize=12) #设置刻度和刻度标签\n",
    "\n",
    "plt.bar(np.arange(len(data1)),data1,width=width,label='one')   #设置图例\n",
    "plt.bar(np.arange(len(data2))+width,data2,width=width,label='two')\n",
    "plt.legend()\n",
    "\n",
    "plt.savefig('cs')  # 保存"
   ]
  },
  {
   "cell_type": "code",
   "execution_count": 8,
   "metadata": {},
   "outputs": [
    {
     "data": {
      "text/plain": [
       "Text(0.5, 1.0, '案例')"
      ]
     },
     "execution_count": 8,
     "metadata": {},
     "output_type": "execute_result"
    },
    {
     "data": {
      "image/png": "[encoded data removed]",
      "text/plain": [
       "<Figure size 432x288 with 1 Axes>"
      ]
     },
     "metadata": {
      "needs_background": "light"
     },
     "output_type": "display_data"
    }
   ],
   "source": [
    "plt.rcParams['font.sans-serif'] = ['simhei'] #指定默认字体\n",
    "plt.rcParams['axes.unicode_minus'] = False   #解决保存图像是负号'-'显示为方块的问题\n",
    "plt.title('案例')"
   ]
  },
  {
   "cell_type": "code",
   "execution_count": 7,
   "metadata": {
    "scrolled": true
   },
   "outputs": [
    {
     "data": {
      "image/png": "[encoded data removed]",
      "text/plain": [
       "<Figure size 432x288 with 1 Axes>"
      ]
     },
     "metadata": {
      "needs_background": "light"
     },
     "output_type": "display_data"
    }
   ],
   "source": [
    "data = [23, 85, 72, 43, 52]\n",
    "labels = ['A','B','C','D','E']\n",
    "plt.xticks(range(len(data)),labels) #设置刻度和标签\n",
    "plt.xlabel('Class')\n",
    "plt.ylabel('Amounts')\n",
    "plt.title('Example1')\n",
    "plt.bar(range(len(data)),data)\n",
    "for x,y in zip(range(len(data)),data):\n",
    "    plt.text(x, y,y, ha='center', va= 'bottom')  #文本注解"
   ]
  },
  {
   "cell_type": "code",
   "execution_count": 9,
   "metadata": {},
   "outputs": [
    {
     "data": {
      "image/png": "[encoded data removed]",
      "text/plain": [
       "<Figure size 432x288 with 1 Axes>"
      ]
     },
     "metadata": {
      "needs_background": "light"
     },
     "output_type": "display_data"
    }
   ],
   "source": [
    "fig, ax = plt.subplots()"
   ]
  },
  {
   "cell_type": "markdown",
   "metadata": {},
   "source": [
    "fig,ax = plt.subplots()等价于：\n",
    "\n",
    "fig = plt.figure()\n",
    "\n",
    "ax = fig.add_subplot(1,1,1)\n",
    "\n",
    "fig, ax = plt.subplots(1,3),其中参数1和3分别代表子图的行数和列数，一共有 1x3 个子图像。函数返回一个figure图像和子图ax的array列表。\n",
    "fig, ax = plt.subplots(1,3,1),最后一个参数1代表第一个子图。\n",
    "\n",
    "如果想要设置子图的宽度和高度可以在函数内加入figsize值\n",
    "fig, ax = plt.subplots(1,3,figsize=(15,7))，这样就会有1行3个15x7大小的子图。"
   ]
  },
  {
   "cell_type": "markdown",
   "metadata": {},
   "source": [
    "### 图表布局"
   ]
  },
  {
   "cell_type": "code",
   "execution_count": 6,
   "metadata": {
    "scrolled": true
   },
   "outputs": [
    {
     "data": {
      "text/plain": [
       "<BarContainer object of 7 artists>"
      ]
     },
     "execution_count": 6,
     "metadata": {},
     "output_type": "execute_result"
    },
    {
     "data": {
      "image/png": "[encoded data removed]",
      "text/plain": [
       "<Figure size 720x432 with 3 Axes>"
      ]
     },
     "metadata": {
      "needs_background": "light"
     },
     "output_type": "display_data"
    }
   ],
   "source": [
    "fig = plt.figure(figsize=(10,6))\n",
    "ax1 = fig.add_subplot(2,2,1)\n",
    "ax2 = fig.add_subplot(2,2,2)\n",
    "ax3 = fig.add_subplot(2,2,3)\n",
    "years = [1950, 1960, 1970, 1980, 1990, 2000, 2010]\n",
    "gdp = [300.2, 543.3, 1075.9, 2862.5, 5979.6, 10289.7, 14958.3]\n",
    "ax1.scatter(years,gdp)\n",
    "ax2.plot(years,gdp)\n",
    "ax3.bar(years,gdp)"
   ]
  },
  {
   "cell_type": "markdown",
   "metadata": {},
   "source": [
    "### 图标类型"
   ]
  },
  {
   "cell_type": "markdown",
   "metadata": {},
   "source": [
    "#### 饼图"
   ]
  },
  {
   "cell_type": "code",
   "execution_count": null,
   "metadata": {},
   "outputs": [],
   "source": [
    "labels=['精细化管理','可能沙尘传输']\n",
    "X=[np.sum(df2!=0),np.sum(df2==0)]  \n",
    "\n",
    "fig = plt.figure()\n",
    "plt.pie(X,labels=labels,autopct='%1.2f%%') #画饼图（数据，数据对应的标签，百分数保留两位小数点）\n",
    "plt.title(\"Pie chart\")\n",
    "\n",
    "plt.show() "
   ]
  },
  {
   "cell_type": "markdown",
   "metadata": {},
   "source": [
    "#### 折线图"
   ]
  },
  {
   "cell_type": "code",
   "execution_count": null,
   "metadata": {},
   "outputs": [],
   "source": [
    "x_data = df['时间']\n",
    "y_data = df['PM2.5/PM10']\n",
    "y_data2 = 0.8\n",
    "\n",
    "plt.plot(x_data,y_data)\n",
    "#plt.plot(x_data,y_data2,color='red',linewidth=3.0,linestyle='-.')\n",
    "plt.show()"
   ]
  },
  {
   "cell_type": "markdown",
   "metadata": {},
   "source": [
    "#### 散点图"
   ]
  },
  {
   "cell_type": "code",
   "execution_count": 2,
   "metadata": {},
   "outputs": [
    {
     "ename": "NameError",
     "evalue": "name 'df' is not defined",
     "output_type": "error",
     "traceback": [
      "\u001b[1;31m---------------------------------------------------------------------------\u001b[0m",
      "\u001b[1;31mNameError\u001b[0m                                 Traceback (most recent call last)",
      "\u001b[1;32m<ipython-input-2-1a452a7daa79>\u001b[0m in \u001b[0;36m<module>\u001b[1;34m\u001b[0m\n\u001b[1;32m----> 1\u001b[1;33m \u001b[0mx\u001b[0m \u001b[1;33m=\u001b[0m \u001b[0mdf\u001b[0m\u001b[1;33m[\u001b[0m\u001b[1;34m'PM2.5'\u001b[0m\u001b[1;33m]\u001b[0m\u001b[1;33m\u001b[0m\u001b[1;33m\u001b[0m\u001b[0m\n\u001b[0m\u001b[0;32m      2\u001b[0m \u001b[0my\u001b[0m \u001b[1;33m=\u001b[0m \u001b[0mdf\u001b[0m\u001b[1;33m[\u001b[0m\u001b[1;34m'PM10'\u001b[0m\u001b[1;33m]\u001b[0m\u001b[1;33m\u001b[0m\u001b[1;33m\u001b[0m\u001b[0m\n\u001b[0;32m      3\u001b[0m \u001b[1;33m\u001b[0m\u001b[0m\n\u001b[0;32m      4\u001b[0m \u001b[0mplt\u001b[0m\u001b[1;33m.\u001b[0m\u001b[0mscatter\u001b[0m\u001b[1;33m(\u001b[0m\u001b[0mx\u001b[0m\u001b[1;33m,\u001b[0m \u001b[0my\u001b[0m\u001b[1;33m)\u001b[0m\u001b[1;33m\u001b[0m\u001b[1;33m\u001b[0m\u001b[0m\n\u001b[0;32m      5\u001b[0m \u001b[0mplt\u001b[0m\u001b[1;33m.\u001b[0m\u001b[0mshow\u001b[0m\u001b[1;33m(\u001b[0m\u001b[1;33m)\u001b[0m\u001b[1;33m\u001b[0m\u001b[1;33m\u001b[0m\u001b[0m\n",
      "\u001b[1;31mNameError\u001b[0m: name 'df' is not defined"
     ]
    }
   ],
   "source": [
    "x = df['PM2.5']\n",
    "y = df['PM10']\n",
    "\n",
    "plt.scatter(x, y)\n",
    "plt.show()"
   ]
  },
  {
   "cell_type": "markdown",
   "metadata": {},
   "source": [
    "#### 柱状图"
   ]
  },
  {
   "cell_type": "code",
   "execution_count": 5,
   "metadata": {},
   "outputs": [
    {
     "data": {
      "text/plain": [
       "<BarContainer object of 5 artists>"
      ]
     },
     "execution_count": 5,
     "metadata": {},
     "output_type": "execute_result"
    },
    {
     "data": {
      "image/png": "[encoded data removed]",
      "text/plain": [
       "<Figure size 432x288 with 1 Axes>"
      ]
     },
     "metadata": {
      "needs_background": "light"
     },
     "output_type": "display_data"
    }
   ],
   "source": [
    "data = [23, 85, 72, 43, 52]\n",
    "data1 = [23, 85, 72, 43, 52]\n",
    "data2 = [42, 35, 21, 16, 9]\n",
    "plt.bar(range(len(data)),data1)\n",
    "plt.bar(range(len(data)),data2,bottom=data1)"
   ]
  },
  {
   "cell_type": "markdown",
   "metadata": {},
   "source": [
    "#### 直方图"
   ]
  },
  {
   "cell_type": "code",
   "execution_count": 5,
   "metadata": {
    "scrolled": true
   },
   "outputs": [
    {
     "data": {
      "image/png": "[encoded data removed]",
      "text/plain": [
       "<Figure size 432x288 with 1 Axes>"
      ]
     },
     "metadata": {
      "needs_background": "light"
     },
     "output_type": "display_data"
    }
   ],
   "source": [
    "x = [141, 159, 166, 172, 177, 182, 188, 196, 203, 214,\n",
    "     143, 160, 167, 173, 177, 183, 189, 196, 203, 215,\n",
    "     144, 160, 168, 173, 178, 184, 189, 196, 205, 218,\n",
    "     149, 161, 168, 174, 178, 185, 189, 196, 206, 223,\n",
    "     150, 161, 168, 174, 178, 186, 190, 196, 207, 225,\n",
    "     152, 162, 170, 174, 179, 186, 190, 197, 208, 226,\n",
    "     153, 163, 171, 175, 179, 187, 191, 197, 209, 228,\n",
    "     153, 163, 171, 175, 179, 187, 192, 198, 210, 233,\n",
    "     154, 164, 172, 175, 180, 187, 194, 198, 210, 233,\n",
    "     155, 165, 172, 175, 180, 187, 194, 200, 211, 234,\n",
    "     156, 165, 172, 176, 181, 188, 195, 201, 211, 234,\n",
    "     158, 165, 172, 176, 182, 188, 195, 202, 213, 237]\n",
    "\n",
    "plt.hist(x, edgecolor='k', alpha=0.35) # 设置直方边线颜色为黑色，不透明度为 0.35\n",
    "plt.show()"
   ]
  },
  {
   "cell_type": "markdown",
   "metadata": {},
   "source": [
    "#### 箱线图"
   ]
  },
  {
   "cell_type": "code",
   "execution_count": 11,
   "metadata": {},
   "outputs": [],
   "source": [
    "fig, ax = plt.subplots()\n",
    "ax.boxplot(norm_reviews['RT_user_norm'])\n",
    "ax.set_xticklabels(['Rotten Tomatoes'])\n",
    "ax.set_ylim(0, 5)\n",
    "plt.show()"
   ]
  },
  {
   "cell_type": "markdown",
   "metadata": {},
   "source": [
    "#### 聚合图"
   ]
  },
  {
   "cell_type": "code",
   "execution_count": null,
   "metadata": {},
   "outputs": [],
   "source": [
    "from pandas.plotting import scatter_matrix\n",
    "\n",
    "fig, ax = plt.subplots(figsize=(10, 10))\n",
    "scatter_matrix(players[['height', 'weight', 'skintone']], alpha=0.2, diagonal='hist', ax=ax);"
   ]
  },
  {
   "cell_type": "markdown",
   "metadata": {},
   "source": [
    "#### 风玫瑰图"
   ]
  },
  {
   "cell_type": "code",
   "execution_count": 13,
   "metadata": {},
   "outputs": [],
   "source": [
    "# 读取数据\n",
    "pm25W = pd.read_excel('E:\\windrose\\weatherAll1(3).xlsx')\n",
    "#加载字体\n",
    "font = FontProperties(fname=r\"c:\\windows\\fonts\\simsun.ttc\", size=15)\n",
    "\n",
    "\n",
    "def ShowAndSave_WindroseAxes(pm25W0,iname):\n",
    "    ax = windrose.WindroseAxes.from_ax()\n",
    "    ax.bar(pm25W0.wind_x, \n",
    "           pm25W0.wind_s, \n",
    "           nsector=16, # 散片个数\n",
    "           bins=[0,0.2,1.5,3.3,5.4,7.9,10.7,13.8,17.1], # 分段列表\n",
    "           #bins=1, # 分段个数\n",
    "           normed=True, opening=1, edgecolor='white')    \n",
    "    ax.set_legend() #图例\n",
    "    #ax.legend(loc=(-0.2,0.9)) #图例位置\n",
    "    ax.legend(loc=(-0.12,0.8)) #图例位置    \n",
    "    ax.set_title(iname,fontproperties=font) #标题    \n",
    "    savefig('./' + iname + '.png')\n",
    "\n",
    "pm25W1 = pm25W[pm25W.name == '巨轮']\n",
    "ShowAndSave_WindroseAxes(pm25W1,'巨轮')"
   ]
  },
  {
   "cell_type": "markdown",
   "metadata": {},
   "source": [
    "## seaborn"
   ]
  },
  {
   "cell_type": "markdown",
   "metadata": {},
   "source": [
    "### 基础设置"
   ]
  },
  {
   "cell_type": "markdown",
   "metadata": {},
   "source": [
    "5种风格\n",
    "darkgrid\n",
    "whitegrid\n",
    "dark\n",
    "white\n",
    "ticks"
   ]
  },
  {
   "cell_type": "code",
   "execution_count": 27,
   "metadata": {},
   "outputs": [],
   "source": [
    "sns.set_style(\"dark\")  # 风格设置\n",
    "# 5种风格 darkgrid   whitegrid   dark    white  ticks\n",
    "\n",
    "color_palette()    # 颜色设置\n",
    "# * l-亮度 lightness \n",
    "# * s-饱和 saturation\n",
    "# current_palette = sns.color_palette(\"dark\")\n",
    "# 6个默认的颜色循环主题： deep, muted, pastel, bright, dark, colorblind\n",
    "\n"
   ]
  },
  {
   "cell_type": "code",
   "execution_count": 29,
   "metadata": {},
   "outputs": [
    {
     "data": {
      "image/png": "[encoded data removed]",
      "text/plain": [
       "<Figure size 720x72 with 1 Axes>"
      ]
     },
     "metadata": {},
     "output_type": "display_data"
    },
    {
     "data": {
      "image/png": "[encoded data removed]",
      "text/plain": [
       "<Figure size 432x72 with 1 Axes>"
      ]
     },
     "metadata": {},
     "output_type": "display_data"
    }
   ],
   "source": [
    "current_palette = sns.color_palette(\"dark\")\n",
    "sns.palplot(current_palette)\n",
    "sns.palplot(sns.color_palette(\"Blues\"))# 连续色板"
   ]
  },
  {
   "cell_type": "markdown",
   "metadata": {},
   "source": [
    "### 图标类型"
   ]
  },
  {
   "cell_type": "markdown",
   "metadata": {},
   "source": [
    "#### 直方图"
   ]
  },
  {
   "cell_type": "code",
   "execution_count": 34,
   "metadata": {},
   "outputs": [
    {
     "data": {
      "text/plain": [
       "<matplotlib.axes._subplots.AxesSubplot at 0x1d2f8781190>"
      ]
     },
     "execution_count": 34,
     "metadata": {},
     "output_type": "execute_result"
    },
    {
     "data": {
      "image/png": "[encoded data removed]",
      "text/plain": [
       "<Figure size 432x288 with 1 Axes>"
      ]
     },
     "metadata": {},
     "output_type": "display_data"
    }
   ],
   "source": [
    "x = np.random.normal(size=100)\n",
    "sns.distplot(x, bins=20, kde=False)"
   ]
  },
  {
   "cell_type": "markdown",
   "metadata": {},
   "source": [
    "#### 散点图"
   ]
  },
  {
   "cell_type": "code",
   "execution_count": 40,
   "metadata": {},
   "outputs": [
    {
     "data": {
      "text/plain": [
       "<matplotlib.collections.PathCollection at 0x1d2f890e5b0>"
      ]
     },
     "execution_count": 40,
     "metadata": {},
     "output_type": "execute_result"
    },
    {
     "data": {
      "image/png": "[encoded data removed]",
      "text/plain": [
       "<Figure size 432x288 with 1 Axes>"
      ]
     },
     "metadata": {},
     "output_type": "display_data"
    }
   ],
   "source": [
    "years = [1950, 1960, 1970, 1980, 1990, 2000, 2010]\n",
    "gdp = [300.2, 543.3, 1075.9, 2862.5, 5979.6, 10289.7, 14958.3]\n",
    "\n",
    "sns.set_style(\"darkgrid\")\n",
    "plt.scatter(years, gdp)"
   ]
  },
  {
   "cell_type": "markdown",
   "metadata": {},
   "source": [
    "#### 组合散点图"
   ]
  },
  {
   "cell_type": "code",
   "execution_count": 41,
   "metadata": {},
   "outputs": [
    {
     "data": {
      "image/png": "[encoded data removed]",
      "text/plain": [
       "<Figure size 432x432 with 3 Axes>"
      ]
     },
     "metadata": {},
     "output_type": "display_data"
    }
   ],
   "source": [
    "mean, cov = [0, 1], [(1, .5), (.5, 1)]\n",
    "data = np.random.multivariate_normal(mean, cov, 200)\n",
    "df = pd.DataFrame(data, columns=[\"x\", \"y\"])\n",
    "# df\n",
    "sns.jointplot(x=\"x\", y=\"y\", data=df);"
   ]
  },
  {
   "cell_type": "code",
   "execution_count": 42,
   "metadata": {},
   "outputs": [
    {
     "data": {
      "image/png": "[encoded data removed]",
      "text/plain": [
       "<Figure size 432x432 with 3 Axes>"
      ]
     },
     "metadata": {},
     "output_type": "display_data"
    }
   ],
   "source": [
    "x, y = np.random.multivariate_normal(mean, cov, 1000).T\n",
    "with sns.axes_style(\"white\"):\n",
    "    sns.jointplot(x=x, y=y, kind=\"hex\", color=\"k\")"
   ]
  },
  {
   "cell_type": "code",
   "execution_count": 49,
   "metadata": {},
   "outputs": [
    {
     "data": {
      "text/plain": [
       "<seaborn.axisgrid.JointGrid at 0x1d2f86ee550>"
      ]
     },
     "execution_count": 49,
     "metadata": {},
     "output_type": "execute_result"
    },
    {
     "data": {
      "image/png": "[encoded data removed]",
      "text/plain": [
       "<Figure size 432x432 with 3 Axes>"
      ]
     },
     "metadata": {},
     "output_type": "display_data"
    }
   ],
   "source": [
    "tips=sns.load_dataset('tips')\n",
    "sns.jointplot(x=\"tip\", y=\"total_bill\", data=tips,kind = 'kde')"
   ]
  },
  {
   "cell_type": "markdown",
   "metadata": {},
   "source": [
    "#### 关系图"
   ]
  },
  {
   "cell_type": "code",
   "execution_count": 44,
   "metadata": {},
   "outputs": [
    {
     "data": {
      "text/plain": [
       "<seaborn.axisgrid.PairGrid at 0x1d2f8bc7730>"
      ]
     },
     "execution_count": 44,
     "metadata": {},
     "output_type": "execute_result"
    },
    {
     "data": {
      "image/png": "[encoded data removed]",
      "text/plain": [
       "<Figure size 720x720 with 20 Axes>"
      ]
     },
     "metadata": {},
     "output_type": "display_data"
    }
   ],
   "source": [
    "iris = sns.load_dataset(\"iris\")\n",
    "sns.pairplot(iris)"
   ]
  },
  {
   "cell_type": "markdown",
   "metadata": {},
   "source": [
    "#### 分类图（多变量）"
   ]
  },
  {
   "cell_type": "code",
   "execution_count": 50,
   "metadata": {},
   "outputs": [
    {
     "data": {
      "text/plain": [
       "<matplotlib.axes._subplots.AxesSubplot at 0x1d2f9350d30>"
      ]
     },
     "execution_count": 50,
     "metadata": {},
     "output_type": "execute_result"
    },
    {
     "data": {
      "image/png": "[encoded data removed]",
      "text/plain": [
       "<Figure size 432x288 with 1 Axes>"
      ]
     },
     "metadata": {},
     "output_type": "display_data"
    }
   ],
   "source": [
    "sns.swarmplot(x=\"day\", y=\"total_bill\", hue=\"sex\",data=tips)"
   ]
  },
  {
   "cell_type": "code",
   "execution_count": 51,
   "metadata": {},
   "outputs": [
    {
     "data": {
      "image/png": "[encoded data removed]",
      "text/plain": [
       "<Figure size 432x288 with 1 Axes>"
      ]
     },
     "metadata": {},
     "output_type": "display_data"
    }
   ],
   "source": [
    "sns.swarmplot(x=\"total_bill\", y=\"day\", hue=\"time\", data=tips);"
   ]
  },
  {
   "cell_type": "markdown",
   "metadata": {},
   "source": [
    "#### 盒图（小提琴图）"
   ]
  },
  {
   "cell_type": "code",
   "execution_count": 52,
   "metadata": {},
   "outputs": [
    {
     "data": {
      "image/png": "[encoded data removed]",
      "text/plain": [
       "<Figure size 432x288 with 1 Axes>"
      ]
     },
     "metadata": {},
     "output_type": "display_data"
    }
   ],
   "source": [
    "sns.boxplot(x=\"day\", y=\"total_bill\", hue=\"time\", data=tips);"
   ]
  },
  {
   "cell_type": "code",
   "execution_count": 53,
   "metadata": {
    "scrolled": true
   },
   "outputs": [
    {
     "data": {
      "image/png": "[encoded data removed]",
      "text/plain": [
       "<Figure size 432x288 with 1 Axes>"
      ]
     },
     "metadata": {},
     "output_type": "display_data"
    }
   ],
   "source": [
    "sns.violinplot(x=\"day\", y=\"total_bill\", hue=\"sex\", data=tips, split=True);"
   ]
  },
  {
   "cell_type": "code",
   "execution_count": 54,
   "metadata": {
    "scrolled": true
   },
   "outputs": [
    {
     "data": {
      "text/plain": [
       "<matplotlib.axes._subplots.AxesSubplot at 0x1d2fa538550>"
      ]
     },
     "execution_count": 54,
     "metadata": {},
     "output_type": "execute_result"
    },
    {
     "data": {
      "image/png": "[encoded data removed]",
      "text/plain": [
       "<Figure size 432x288 with 1 Axes>"
      ]
     },
     "metadata": {},
     "output_type": "display_data"
    }
   ],
   "source": [
    "sns.violinplot(x=\"day\", y=\"total_bill\", data=tips, inner=None)\n",
    "sns.swarmplot(x=\"day\", y=\"total_bill\", data=tips, color=\"w\", alpha=.5)"
   ]
  },
  {
   "cell_type": "markdown",
   "metadata": {},
   "source": [
    "#### 条形图"
   ]
  },
  {
   "cell_type": "code",
   "execution_count": 58,
   "metadata": {
    "scrolled": true
   },
   "outputs": [
    {
     "data": {
      "text/plain": [
       "<matplotlib.axes._subplots.AxesSubplot at 0x1d2fa76c580>"
      ]
     },
     "execution_count": 58,
     "metadata": {},
     "output_type": "execute_result"
    },
    {
     "data": {
      "image/png": "[encoded data removed]",
      "text/plain": [
       "<Figure size 432x288 with 1 Axes>"
      ]
     },
     "metadata": {},
     "output_type": "display_data"
    }
   ],
   "source": [
    "sns.barplot(x=\"day\", y=\"total_bill\", data=tips,hue = 'sex')"
   ]
  },
  {
   "cell_type": "markdown",
   "metadata": {},
   "source": [
    "#### 点图"
   ]
  },
  {
   "cell_type": "code",
   "execution_count": 67,
   "metadata": {},
   "outputs": [
    {
     "data": {
      "text/plain": [
       "<matplotlib.axes._subplots.AxesSubplot at 0x1d2fa92a820>"
      ]
     },
     "execution_count": 67,
     "metadata": {},
     "output_type": "execute_result"
    },
    {
     "data": {
      "image/png": "[encoded data removed]",
      "text/plain": [
       "<Figure size 432x288 with 1 Axes>"
      ]
     },
     "metadata": {},
     "output_type": "display_data"
    }
   ],
   "source": [
    "sns.pointplot(x=\"day\", y=\"total_bill\", data=tips,hue = 'sex')"
   ]
  },
  {
   "cell_type": "markdown",
   "metadata": {},
   "source": [
    "#### 宽图"
   ]
  },
  {
   "cell_type": "code",
   "execution_count": 64,
   "metadata": {},
   "outputs": [
    {
     "data": {
      "text/plain": [
       "<seaborn.axisgrid.FacetGrid at 0x1d2fa4c3280>"
      ]
     },
     "execution_count": 64,
     "metadata": {},
     "output_type": "execute_result"
    },
    {
     "data": {
      "image/png": "[encoded data removed]",
      "text/plain": [
       "<Figure size 720x360 with 2 Axes>"
      ]
     },
     "metadata": {},
     "output_type": "display_data"
    }
   ],
   "source": [
    "sns.factorplot(x=\"day\", y=\"total_bill\", data=tips,col = 'sex')"
   ]
  },
  {
   "cell_type": "code",
   "execution_count": 65,
   "metadata": {
    "scrolled": true
   },
   "outputs": [
    {
     "data": {
      "text/plain": [
       "<seaborn.axisgrid.FacetGrid at 0x1d2fa872b80>"
      ]
     },
     "execution_count": 65,
     "metadata": {},
     "output_type": "execute_result"
    },
    {
     "data": {
      "image/png": "[encoded data removed]",
      "text/plain": [
       "<Figure size 772.375x360 with 2 Axes>"
      ]
     },
     "metadata": {},
     "output_type": "display_data"
    }
   ],
   "source": [
    "sns.factorplot(x=\"day\", y=\"total_bill\", hue=\"smoker\",\n",
    "               col=\"time\", data=tips, kind=\"swarm\")"
   ]
  },
  {
   "cell_type": "code",
   "execution_count": 66,
   "metadata": {
    "scrolled": true
   },
   "outputs": [
    {
     "data": {
      "text/plain": [
       "<seaborn.axisgrid.FacetGrid at 0x1d2fa92a3d0>"
      ]
     },
     "execution_count": 66,
     "metadata": {},
     "output_type": "execute_result"
    },
    {
     "data": {
      "image/png": "[encoded data removed]",
      "text/plain": [
       "<Figure size 628.375x288 with 4 Axes>"
      ]
     },
     "metadata": {},
     "output_type": "display_data"
    }
   ],
   "source": [
    "sns.factorplot(x=\"time\", y=\"total_bill\", hue=\"smoker\",\n",
    "               col=\"day\", data=tips, kind=\"box\", size=4, aspect=.5)"
   ]
  },
  {
   "cell_type": "markdown",
   "metadata": {},
   "source": [
    "#### 热力图"
   ]
  },
  {
   "cell_type": "code",
   "execution_count": 71,
   "metadata": {},
   "outputs": [
    {
     "data": {
      "image/png": "[encoded data removed]",
      "text/plain": [
       "<Figure size 432x288 with 2 Axes>"
      ]
     },
     "metadata": {},
     "output_type": "display_data"
    }
   ],
   "source": [
    "import numpy as np; np.random.seed(0)\n",
    "import seaborn as sns; sns.set()\n",
    "uniform_data = np.random.rand(10, 12)\n",
    "ax = sns.heatmap(uniform_data)"
   ]
  },
  {
   "cell_type": "code",
   "execution_count": null,
   "metadata": {},
   "outputs": [],
   "source": [
    "#相关性查看\n",
    "corrMatrix=BikeDf.corr()\n",
    "\n",
    "#将相关系数矩阵可视化\n",
    "mask=np.array(corrMatrix)\n",
    "mask[np.tril_indices_from(mask)] = False\n",
    "fig,ax=plt.subplots()\n",
    "fig.set_size_inches(20,10)\n",
    "sns.heatmap(corrMatrix,mask=mask,vmax=0.8,square=True,annot=True,)"
   ]
  },
  {
   "cell_type": "markdown",
   "metadata": {},
   "source": [
    "#### QQ图"
   ]
  },
  {
   "cell_type": "code",
   "execution_count": null,
   "metadata": {},
   "outputs": [],
   "source": [
    "stats.probplot(BikeDf[\"count\"], dist='norm', fit=True, plot=ax[0][1])"
   ]
  },
  {
   "cell_type": "markdown",
   "metadata": {},
   "source": [
    "## 时间序列"
   ]
  },
  {
   "cell_type": "markdown",
   "metadata": {},
   "source": [
    "### 取当前时间"
   ]
  },
  {
   "cell_type": "code",
   "execution_count": 73,
   "metadata": {},
   "outputs": [
    {
     "data": {
      "text/plain": [
       "'2021年5月14日'"
      ]
     },
     "execution_count": 73,
     "metadata": {},
     "output_type": "execute_result"
    }
   ],
   "source": [
    "from datetime import datetime\n",
    "dt = str(int(datetime.now().strftime('%Y')))+'年'+str(int(datetime.now().strftime('%m')))+'月'+str(int(datetime.now().strftime('%d')))+'日'\n",
    "dt"
   ]
  },
  {
   "cell_type": "markdown",
   "metadata": {},
   "source": [
    "### 将字符串时间格式转为时间戳"
   ]
  },
  {
   "cell_type": "code",
   "execution_count": null,
   "metadata": {},
   "outputs": [],
   "source": []
  },
  {
   "cell_type": "code",
   "execution_count": null,
   "metadata": {},
   "outputs": [],
   "source": [
    "# 将字符串时间格式转为时间戳\n",
    "day_ = all_data.date.apply(str)\n",
    "time_ = all_data.hour.apply(str)\n",
    "# a = all_data.date.apply(str)+all_data.hour.apply(str)\n",
    "#  2016-01-01 00:00:00\n",
    "day_ = day_.apply(lambda x:x[:4])+\"-\"+day_.apply(lambda x:x[4:6])+\"-\"+day_.apply(lambda x:x[6:])\n",
    "time_ = time_+\":00:00\"\n",
    "time_ = day_+\" \"+time_\n",
    "time_ = pd.to_datetime(time_)\n",
    "day_ = pd.to_datetime(day_)\n",
    "all_data[\"time\"] = time_\n",
    "all_data['day'] = day_\n",
    "all_data"
   ]
  },
  {
   "cell_type": "code",
   "execution_count": null,
   "metadata": {},
   "outputs": [],
   "source": []
  },
  {
   "cell_type": "code",
   "execution_count": 3,
   "metadata": {},
   "outputs": [
    {
     "name": "stdout",
     "output_type": "stream",
     "text": [
      "   year  month  day\n",
      "0  2015      2    4\n",
      "1  2016      3    5\n"
     ]
    },
    {
     "data": {
      "text/plain": [
       "0   2015-02-04\n",
       "1   2016-03-05\n",
       "dtype: datetime64[ns]"
      ]
     },
     "execution_count": 3,
     "metadata": {},
     "output_type": "execute_result"
    }
   ],
   "source": [
    "## 使用to_datetime\n",
    "df = pd.DataFrame({'year': [2015, 2016], 'month': [2, 3], 'day': [4, 5]})\n",
    "print(df)\n",
    "df = pd.to_datetime(df)\n",
    "df"
   ]
  },
  {
   "cell_type": "markdown",
   "metadata": {},
   "source": [
    "# 待整理"
   ]
  },
  {
   "cell_type": "code",
   "execution_count": null,
   "metadata": {},
   "outputs": [],
   "source": [
    "data = []\n",
    "name = []\n",
    "\n",
    "for file_name in os.listdir(trian_path):\n",
    "    file_path = os.path.join(trian_path, file_name)\n",
    "    name.append(file_name.split('.')[0])\n",
    "    d = np.genfromtxt(file_path, delimiter=',', dtype=float) \n",
    "    data.append(abs(d.transpose()))"
   ]
  },
  {
   "cell_type": "code",
   "execution_count": null,
   "metadata": {},
   "outputs": [],
   "source": [
    "for i, d in enumerate(data): ## 枚举\n"
   ]
  },
  {
   "cell_type": "code",
   "execution_count": 3,
   "metadata": {},
   "outputs": [
    {
     "name": "stdout",
     "output_type": "stream",
     "text": [
      "0 one\n",
      "1 two\n",
      "2 three\n"
     ]
    }
   ],
   "source": [
    "seq = ['one', 'two', 'three']\n",
    "for i, element in enumerate(seq):\n",
    "    print (i, element)"
   ]
  },
  {
   "cell_type": "code",
   "execution_count": null,
   "metadata": {},
   "outputs": [],
   "source": [
    "    stations = set(meo_dataset['station_id'])\n",
    "\n",
    "    meo_stations = {}\n",
    "    print(meo_dataset[\"station_id\"])\n",
    "    for station in stations:\n",
    "        meo_station = meo_dataset[meo_dataset[\"station_id\"] == station].copy()\n",
    "        meo_station.drop(\"station_id\", axis=1, inplace=True)\n",
    "\n",
    "        # rename\n",
    "        original_names = meo_station.columns.values.tolist()\n",
    "        names_dict = {original_name: station + \"_\" + original_name for original_name in original_names}\n",
    "        meo_station.rename(index=str, columns=names_dict, inplace=True)\n",
    "        meo_station.drop_duplicates(inplace=True)\n",
    "        meo_stations[station] = meo_station\n",
    "    # print(aq_station.shape)\n",
    "\n",
    "    # for station in stations :\n",
    "    # \tprint(aq_stations[station].shape)\n",
    "\n",
    "    # merge data of different stations into one df\n",
    "    meo_stations_merged = pd.concat(list(meo_stations.values()), axis=1)"
   ]
  }
 ],
 "metadata": {
  "kernelspec": {
   "display_name": "Python 3",
   "language": "python",
   "name": "python3"
  },
  "language_info": {
   "codemirror_mode": {
    "name": "ipython",
    "version": 3
   },
   "file_extension": ".py",
   "mimetype": "text/x-python",
   "name": "python",
   "nbconvert_exporter": "python",
   "pygments_lexer": "ipython3",
   "version": "3.8.3"
  },
  "toc": {
   "base_numbering": 1,
   "nav_menu": {},
   "number_sections": true,
   "sideBar": true,
   "skip_h1_title": false,
   "title_cell": "Table of Contents",
   "title_sidebar": "Contents",
   "toc_cell": false,
   "toc_position": {
    "height": "calc(100% - 180px)",
    "left": "10px",
    "top": "150px",
    "width": "285.938px"
   },
   "toc_section_display": true,
   "toc_window_display": true
  }
 },
 "nbformat": 4,
 "nbformat_minor": 4
}
